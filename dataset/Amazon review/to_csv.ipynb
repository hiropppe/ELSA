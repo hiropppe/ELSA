{
 "cells": [
  {
   "cell_type": "code",
   "execution_count": 1,
   "metadata": {},
   "outputs": [],
   "source": [
    "import json\n",
    "import numpy as np\n",
    "import pandas as pd\n",
    "pd.set_option(\"display.max_colwidth\", 300)"
   ]
  },
  {
   "cell_type": "code",
   "execution_count": 2,
   "metadata": {},
   "outputs": [
    {
     "name": "stdout",
     "output_type": "stream",
     "text": [
      "\u001b[01;34m.\u001b[00m\r\n",
      "├── \u001b[01;34men_de\u001b[00m\r\n",
      "│   ├── \u001b[01;34mde\u001b[00m\r\n",
      "│   │   ├── books_test_review.tsv\r\n",
      "│   │   ├── books_train_review.tsv\r\n",
      "│   │   ├── dvd_test_review.tsv\r\n",
      "│   │   ├── dvd_train_review.tsv\r\n",
      "│   │   ├── music_test_review.tsv\r\n",
      "│   │   └── music_train_review.tsv\r\n",
      "│   └── \u001b[01;34men\u001b[00m\r\n",
      "│       ├── books_test_review.tsv\r\n",
      "│       ├── books_train_review.tsv\r\n",
      "│       ├── dvd_test_review.tsv\r\n",
      "│       ├── dvd_train_review.tsv\r\n",
      "│       ├── music_test_review.tsv\r\n",
      "│       └── music_train_review.tsv\r\n",
      "├── \u001b[01;34men_fr\u001b[00m\r\n",
      "│   ├── \u001b[01;34men\u001b[00m\r\n",
      "│   │   ├── books_test_review.tsv\r\n",
      "│   │   ├── books_train_review.tsv\r\n",
      "│   │   ├── dvd_test_review.tsv\r\n",
      "│   │   ├── dvd_train_review.tsv\r\n",
      "│   │   ├── music_test_review.tsv\r\n",
      "│   │   └── music_train_review.tsv\r\n",
      "│   └── \u001b[01;34mfr\u001b[00m\r\n",
      "│       ├── books_test_review.tsv\r\n",
      "│       ├── books_train_review.tsv\r\n",
      "│       ├── dvd_test_review.tsv\r\n",
      "│       ├── dvd_train_review.tsv\r\n",
      "│       ├── music_test_review.tsv\r\n",
      "│       └── music_train_review.tsv\r\n",
      "├── \u001b[01;34men_jp\u001b[00m\r\n",
      "│   ├── \u001b[01;34men\u001b[00m\r\n",
      "│   │   ├── books_test_review.csv\r\n",
      "│   │   ├── books_test_review.tsv\r\n",
      "│   │   ├── books_train_review.csv\r\n",
      "│   │   ├── books_train_review.tsv\r\n",
      "│   │   ├── dvd_test_review.tsv\r\n",
      "│   │   ├── dvd_train_review.csv\r\n",
      "│   │   ├── dvd_train_review.tsv\r\n",
      "│   │   ├── music_test_review.tsv\r\n",
      "│   │   ├── music_train_review.csv\r\n",
      "│   │   └── music_train_review.tsv\r\n",
      "│   └── \u001b[01;34mjp\u001b[00m\r\n",
      "│       ├── books_test_review.csv\r\n",
      "│       ├── books_test_review.tsv\r\n",
      "│       ├── books_train_review.csv\r\n",
      "│       ├── books_train_review.tsv\r\n",
      "│       ├── dvd_test_review.csv\r\n",
      "│       ├── dvd_test_review.tsv\r\n",
      "│       ├── dvd_train_review.tsv\r\n",
      "│       ├── music_test_review.csv\r\n",
      "│       ├── music_test_review.tsv\r\n",
      "│       └── music_train_review.tsv\r\n",
      "└── to_csv.ipynb\r\n",
      "\r\n",
      "9 directories, 45 files\r\n"
     ]
    }
   ],
   "source": [
    "!tree ."
   ]
  },
  {
   "cell_type": "code",
   "execution_count": 3,
   "metadata": {},
   "outputs": [],
   "source": [
    "data_prefix = \"./en_jp/jp/dvd_test_review\"\n",
    "s = \"ja\"\n",
    "t = \"en\""
   ]
  },
  {
   "cell_type": "code",
   "execution_count": 4,
   "metadata": {},
   "outputs": [
    {
     "data": {
      "text/html": [
       "<div>\n",
       "<style scoped>\n",
       "    .dataframe tbody tr th:only-of-type {\n",
       "        vertical-align: middle;\n",
       "    }\n",
       "\n",
       "    .dataframe tbody tr th {\n",
       "        vertical-align: top;\n",
       "    }\n",
       "\n",
       "    .dataframe thead th {\n",
       "        text-align: right;\n",
       "    }\n",
       "</style>\n",
       "<table border=\"1\" class=\"dataframe\">\n",
       "  <thead>\n",
       "    <tr style=\"text-align: right;\">\n",
       "      <th></th>\n",
       "      <th>rating</th>\n",
       "      <th>ja</th>\n",
       "      <th>en</th>\n",
       "      <th>label</th>\n",
       "    </tr>\n",
       "  </thead>\n",
       "  <tbody>\n",
       "    <tr>\n",
       "      <th>0</th>\n",
       "      <td>5</td>\n",
       "      <td>[[\"\\u611f\\u52d5\", \"\\u306e\", \"\\u30ab\\u30a6\\u30f3\\u30c8\\u30c0\\u30a6\\u30f3\", \"\\u30b3\\u30f3\\u30b5\\u30fc\\u30c8\"], [\"\\u30c7\\u30a3\\u30b9\\u30af\", \"CUSTOM_NUMBER\", \"\\u306e\", \"\\u4eac\\u30bb\\u30e9\", \"\\u30c9\\u30fc\\u30e0\", \"\\u3067\", \"\\u306e\", \"\\u30ab\\u30a6\\u30f3\\u30c8\\u30c0\\u30a6\\u30f3\", \"\\u30b3\\u30f3\\u30b5\\u...</td>\n",
       "      <td>[[\"moving\", \"countdown\", \"concert\"], [\"disc\", \"CUSTOM_NUMBER\", \"is\", \"a\", \"particularly\", \"good\", \"concert\", \"at\", \"the\", \"kyocera\", \"dome\", \"in\", \"the\", \"countdown\"], [\"two\", \"people\", \"in\", \"a\", \"relaxed\", \"atmosphere\", \"in\", \"the\", \"home\", \"of\", \"local\", \"sunrise\"], [\"kinki\", \"room\", \"for\", \"...</td>\n",
       "      <td>1</td>\n",
       "    </tr>\n",
       "    <tr>\n",
       "      <th>1</th>\n",
       "      <td>1</td>\n",
       "      <td>[[\"\\u3082\\u3046\\u5c11\\u3057\", \"\\u30d7\\u30e9\\u30a4\\u30c9\", \"\\u3068\", \"\\u81ea\\u8eab\", \"\\u4f5c\", \"\\u3092\"], [\"\\u4eca\\u3084\", \"\\u5546\\u696d\", \"\\u5316\", \"\\u8ca9\\u58f2\", \"\\u306e\", \"\\u7b2c\\u4e00\\u4eba\\u8005\", \"\\u306e\", \"\\u3053\\u306e\", \"\\u4eba\\u9054\", \"\\u3002\", \"\\u6570\", \"\\u3060\\u3051\", \"\\u58f2\\u3063\", ...</td>\n",
       "      <td>[[\"to\", \"his\", \"own\", \"pride\", \"and\", \"more\"]]</td>\n",
       "      <td>0</td>\n",
       "    </tr>\n",
       "    <tr>\n",
       "      <th>2</th>\n",
       "      <td>5</td>\n",
       "      <td>[[\"\\u5d50\", \"\\u521d\\u5fc3\\u8005\", \"\\u3067\", \"\\u3054\\u3056\\u3044\", \"\\u307e\\u3059\"], [\"\\u305f\\u307e\\u305f\\u307e\", \"\\u5d50\", \"\\u306e\", \"\\u756a\\u7d44\", \"\\u3092\", \"\\u898b\\u308b\", \"\\u3088\\u3046\", \"\\u306b\", \"\\u306a\\u308a\", \"\\u3001\", \"\\u9045\\u307e\\u304d\\u306a\\u304c\\u3089\", \"\\u300c\", \"\\u5d50\", \"\\u3001\", ...</td>\n",
       "      <td>[[\"our\", \"beginner\", \"storm\"], [\"and\", \"watch\", \"a\", \"storm\", \"as\", \"it\", \"happens\", \",\", \"getting\", \"ready\", \"\\\"\", \"storm\", \"!\", \"posted\", \"\\\"\", \"now\", \"i\", \"think\"], [\"the\", \"program\", \"of\", \"the\", \"storm\", \"track\", \"or\", \"have\", \"we\", \"heard\", \"songs\", \",\", \"cd\", \"and\", \"dvd\", \"that\", \"was\", ...</td>\n",
       "      <td>1</td>\n",
       "    </tr>\n",
       "    <tr>\n",
       "      <th>3</th>\n",
       "      <td>5</td>\n",
       "      <td>[[\"\\u3080\\u3057\\u308d\", \"\\u30d5\\u30a1\\u30f3\", \"\\u5411\\u3051\", \"\\u3067\", \"\\u3088\\u3044\"], [\"\\u30d9\\u30b9\\u30c8\", \"\\u7248\", \"\\u3092\", \"\\u5f15\\u3063\\u3055\\u3052\", \"\\u3066\", \"\\u306a\\u306e\\u3067\", \",\", \"\\u6709\\u540d\", \"\\u306a\", \"\\u66f2\", \"\\u3070\\u304b\\u308a\", \"\\u3060\", \"\\u3068\", \"\\u601d\\u3044\\u8fbc\\u...</td>\n",
       "      <td>[[\"rather\", \"good\", \"for\", \"fans\"], [\"so\", \"back\", \"with\", \"the\", \"best\", \"version\", \",\", \"temashita\", \"hesitant\", \"to\", \"buy\", \"just\", \"assume\", \"famous\", \"song\"], [\"however\", \",\", \"substantial\", \"temashita\", \"have\", \"all\", \"the\", \"songs\", \"they\", \"are\", \"playing\", \"hard\", \"to\", \"look\", \"at\", \"...</td>\n",
       "      <td>1</td>\n",
       "    </tr>\n",
       "    <tr>\n",
       "      <th>4</th>\n",
       "      <td>5</td>\n",
       "      <td>[[\"this\", \"is\", \"the\", \"miracle\"], [\"the\", \"moon\", \"is\", \"walking\"], [\"\\u30fb\", \"\\u30fb\", \"\\u30fb\", \"\\u73fe\\u4ee3\", \"\\u306e\", \"\\u82f1\\u96c4\", \"\\u4f1d\\u8aac\"], [\"CUSTOM_NUMBER\", \"\\u5e74\", \"\\u306e\", \"\\u516c\\u958b\", \"\\u4ee5\\u6765\", \"\\u3001\", \"CUSTOM_NUMBER\", \"\\u5e74\", \"\\u4ee5\\u4e0a\", \"\\u305f\\u3063\\...</td>\n",
       "      <td>[[\"this\", \"is\", \"the\", \"miracle\"], [\"the\", \"moon\", \"is\", \"walking\"], [\"\\u00b7\", \"\\u00b7\", \"\\u00b7\", \"legendary\", \"hero\", \"of\", \"the\", \"modern\"], [\"years\", \"since\", \"the\", \"release\", \"in\", \"CUSTOM_NUMBER\", \",\", \"just\", \"over\", \"CUSTOM_NUMBER\", \"years\", \",\", \"first\", \"saw\", \"this\", \"movie\"], [\"\\\"\"...</td>\n",
       "      <td>1</td>\n",
       "    </tr>\n",
       "  </tbody>\n",
       "</table>\n",
       "</div>"
      ],
      "text/plain": [
       "   rating  \\\n",
       "0       5   \n",
       "1       1   \n",
       "2       5   \n",
       "3       5   \n",
       "4       5   \n",
       "\n",
       "                                                                                                                                                                                                                                                                                                            ja  \\\n",
       "0  [[\"\\u611f\\u52d5\", \"\\u306e\", \"\\u30ab\\u30a6\\u30f3\\u30c8\\u30c0\\u30a6\\u30f3\", \"\\u30b3\\u30f3\\u30b5\\u30fc\\u30c8\"], [\"\\u30c7\\u30a3\\u30b9\\u30af\", \"CUSTOM_NUMBER\", \"\\u306e\", \"\\u4eac\\u30bb\\u30e9\", \"\\u30c9\\u30fc\\u30e0\", \"\\u3067\", \"\\u306e\", \"\\u30ab\\u30a6\\u30f3\\u30c8\\u30c0\\u30a6\\u30f3\", \"\\u30b3\\u30f3\\u30b5\\u...   \n",
       "1  [[\"\\u3082\\u3046\\u5c11\\u3057\", \"\\u30d7\\u30e9\\u30a4\\u30c9\", \"\\u3068\", \"\\u81ea\\u8eab\", \"\\u4f5c\", \"\\u3092\"], [\"\\u4eca\\u3084\", \"\\u5546\\u696d\", \"\\u5316\", \"\\u8ca9\\u58f2\", \"\\u306e\", \"\\u7b2c\\u4e00\\u4eba\\u8005\", \"\\u306e\", \"\\u3053\\u306e\", \"\\u4eba\\u9054\", \"\\u3002\", \"\\u6570\", \"\\u3060\\u3051\", \"\\u58f2\\u3063\", ...   \n",
       "2  [[\"\\u5d50\", \"\\u521d\\u5fc3\\u8005\", \"\\u3067\", \"\\u3054\\u3056\\u3044\", \"\\u307e\\u3059\"], [\"\\u305f\\u307e\\u305f\\u307e\", \"\\u5d50\", \"\\u306e\", \"\\u756a\\u7d44\", \"\\u3092\", \"\\u898b\\u308b\", \"\\u3088\\u3046\", \"\\u306b\", \"\\u306a\\u308a\", \"\\u3001\", \"\\u9045\\u307e\\u304d\\u306a\\u304c\\u3089\", \"\\u300c\", \"\\u5d50\", \"\\u3001\", ...   \n",
       "3  [[\"\\u3080\\u3057\\u308d\", \"\\u30d5\\u30a1\\u30f3\", \"\\u5411\\u3051\", \"\\u3067\", \"\\u3088\\u3044\"], [\"\\u30d9\\u30b9\\u30c8\", \"\\u7248\", \"\\u3092\", \"\\u5f15\\u3063\\u3055\\u3052\", \"\\u3066\", \"\\u306a\\u306e\\u3067\", \",\", \"\\u6709\\u540d\", \"\\u306a\", \"\\u66f2\", \"\\u3070\\u304b\\u308a\", \"\\u3060\", \"\\u3068\", \"\\u601d\\u3044\\u8fbc\\u...   \n",
       "4  [[\"this\", \"is\", \"the\", \"miracle\"], [\"the\", \"moon\", \"is\", \"walking\"], [\"\\u30fb\", \"\\u30fb\", \"\\u30fb\", \"\\u73fe\\u4ee3\", \"\\u306e\", \"\\u82f1\\u96c4\", \"\\u4f1d\\u8aac\"], [\"CUSTOM_NUMBER\", \"\\u5e74\", \"\\u306e\", \"\\u516c\\u958b\", \"\\u4ee5\\u6765\", \"\\u3001\", \"CUSTOM_NUMBER\", \"\\u5e74\", \"\\u4ee5\\u4e0a\", \"\\u305f\\u3063\\...   \n",
       "\n",
       "                                                                                                                                                                                                                                                                                                            en  \\\n",
       "0  [[\"moving\", \"countdown\", \"concert\"], [\"disc\", \"CUSTOM_NUMBER\", \"is\", \"a\", \"particularly\", \"good\", \"concert\", \"at\", \"the\", \"kyocera\", \"dome\", \"in\", \"the\", \"countdown\"], [\"two\", \"people\", \"in\", \"a\", \"relaxed\", \"atmosphere\", \"in\", \"the\", \"home\", \"of\", \"local\", \"sunrise\"], [\"kinki\", \"room\", \"for\", \"...   \n",
       "1                                                                                                                                                                                                                                                               [[\"to\", \"his\", \"own\", \"pride\", \"and\", \"more\"]]   \n",
       "2  [[\"our\", \"beginner\", \"storm\"], [\"and\", \"watch\", \"a\", \"storm\", \"as\", \"it\", \"happens\", \",\", \"getting\", \"ready\", \"\\\"\", \"storm\", \"!\", \"posted\", \"\\\"\", \"now\", \"i\", \"think\"], [\"the\", \"program\", \"of\", \"the\", \"storm\", \"track\", \"or\", \"have\", \"we\", \"heard\", \"songs\", \",\", \"cd\", \"and\", \"dvd\", \"that\", \"was\", ...   \n",
       "3  [[\"rather\", \"good\", \"for\", \"fans\"], [\"so\", \"back\", \"with\", \"the\", \"best\", \"version\", \",\", \"temashita\", \"hesitant\", \"to\", \"buy\", \"just\", \"assume\", \"famous\", \"song\"], [\"however\", \",\", \"substantial\", \"temashita\", \"have\", \"all\", \"the\", \"songs\", \"they\", \"are\", \"playing\", \"hard\", \"to\", \"look\", \"at\", \"...   \n",
       "4  [[\"this\", \"is\", \"the\", \"miracle\"], [\"the\", \"moon\", \"is\", \"walking\"], [\"\\u00b7\", \"\\u00b7\", \"\\u00b7\", \"legendary\", \"hero\", \"of\", \"the\", \"modern\"], [\"years\", \"since\", \"the\", \"release\", \"in\", \"CUSTOM_NUMBER\", \",\", \"just\", \"over\", \"CUSTOM_NUMBER\", \"years\", \",\", \"first\", \"saw\", \"this\", \"movie\"], [\"\\\"\"...   \n",
       "\n",
       "   label  \n",
       "0      1  \n",
       "1      0  \n",
       "2      1  \n",
       "3      1  \n",
       "4      1  "
      ]
     },
     "execution_count": 4,
     "metadata": {},
     "output_type": "execute_result"
    }
   ],
   "source": [
    "df = pd.read_csv(data_prefix + \".tsv\", delimiter=\"\\t\", header=None)\n",
    "df.columns = [\"rating\", s, t]\n",
    "df[\"label\"] = (df[\"rating\"] / 4).astype(np.int32)\n",
    "df.head()"
   ]
  },
  {
   "cell_type": "code",
   "execution_count": 5,
   "metadata": {},
   "outputs": [
    {
     "data": {
      "text/html": [
       "<div>\n",
       "<style scoped>\n",
       "    .dataframe tbody tr th:only-of-type {\n",
       "        vertical-align: middle;\n",
       "    }\n",
       "\n",
       "    .dataframe tbody tr th {\n",
       "        vertical-align: top;\n",
       "    }\n",
       "\n",
       "    .dataframe thead th {\n",
       "        text-align: right;\n",
       "    }\n",
       "</style>\n",
       "<table border=\"1\" class=\"dataframe\">\n",
       "  <thead>\n",
       "    <tr style=\"text-align: right;\">\n",
       "      <th></th>\n",
       "      <th>label</th>\n",
       "      <th>ja</th>\n",
       "      <th>en</th>\n",
       "    </tr>\n",
       "  </thead>\n",
       "  <tbody>\n",
       "    <tr>\n",
       "      <th>0</th>\n",
       "      <td>1</td>\n",
       "      <td>[[\"\\u611f\\u52d5\", \"\\u306e\", \"\\u30ab\\u30a6\\u30f3\\u30c8\\u30c0\\u30a6\\u30f3\", \"\\u30b3\\u30f3\\u30b5\\u30fc\\u30c8\"], [\"\\u30c7\\u30a3\\u30b9\\u30af\", \"CUSTOM_NUMBER\", \"\\u306e\", \"\\u4eac\\u30bb\\u30e9\", \"\\u30c9\\u30fc\\u30e0\", \"\\u3067\", \"\\u306e\", \"\\u30ab\\u30a6\\u30f3\\u30c8\\u30c0\\u30a6\\u30f3\", \"\\u30b3\\u30f3\\u30b5\\u...</td>\n",
       "      <td>[[\"moving\", \"countdown\", \"concert\"], [\"disc\", \"CUSTOM_NUMBER\", \"is\", \"a\", \"particularly\", \"good\", \"concert\", \"at\", \"the\", \"kyocera\", \"dome\", \"in\", \"the\", \"countdown\"], [\"two\", \"people\", \"in\", \"a\", \"relaxed\", \"atmosphere\", \"in\", \"the\", \"home\", \"of\", \"local\", \"sunrise\"], [\"kinki\", \"room\", \"for\", \"...</td>\n",
       "    </tr>\n",
       "    <tr>\n",
       "      <th>1</th>\n",
       "      <td>0</td>\n",
       "      <td>[[\"\\u3082\\u3046\\u5c11\\u3057\", \"\\u30d7\\u30e9\\u30a4\\u30c9\", \"\\u3068\", \"\\u81ea\\u8eab\", \"\\u4f5c\", \"\\u3092\"], [\"\\u4eca\\u3084\", \"\\u5546\\u696d\", \"\\u5316\", \"\\u8ca9\\u58f2\", \"\\u306e\", \"\\u7b2c\\u4e00\\u4eba\\u8005\", \"\\u306e\", \"\\u3053\\u306e\", \"\\u4eba\\u9054\", \"\\u3002\", \"\\u6570\", \"\\u3060\\u3051\", \"\\u58f2\\u3063\", ...</td>\n",
       "      <td>[[\"to\", \"his\", \"own\", \"pride\", \"and\", \"more\"]]</td>\n",
       "    </tr>\n",
       "    <tr>\n",
       "      <th>2</th>\n",
       "      <td>1</td>\n",
       "      <td>[[\"\\u5d50\", \"\\u521d\\u5fc3\\u8005\", \"\\u3067\", \"\\u3054\\u3056\\u3044\", \"\\u307e\\u3059\"], [\"\\u305f\\u307e\\u305f\\u307e\", \"\\u5d50\", \"\\u306e\", \"\\u756a\\u7d44\", \"\\u3092\", \"\\u898b\\u308b\", \"\\u3088\\u3046\", \"\\u306b\", \"\\u306a\\u308a\", \"\\u3001\", \"\\u9045\\u307e\\u304d\\u306a\\u304c\\u3089\", \"\\u300c\", \"\\u5d50\", \"\\u3001\", ...</td>\n",
       "      <td>[[\"our\", \"beginner\", \"storm\"], [\"and\", \"watch\", \"a\", \"storm\", \"as\", \"it\", \"happens\", \",\", \"getting\", \"ready\", \"\\\"\", \"storm\", \"!\", \"posted\", \"\\\"\", \"now\", \"i\", \"think\"], [\"the\", \"program\", \"of\", \"the\", \"storm\", \"track\", \"or\", \"have\", \"we\", \"heard\", \"songs\", \",\", \"cd\", \"and\", \"dvd\", \"that\", \"was\", ...</td>\n",
       "    </tr>\n",
       "    <tr>\n",
       "      <th>3</th>\n",
       "      <td>1</td>\n",
       "      <td>[[\"\\u3080\\u3057\\u308d\", \"\\u30d5\\u30a1\\u30f3\", \"\\u5411\\u3051\", \"\\u3067\", \"\\u3088\\u3044\"], [\"\\u30d9\\u30b9\\u30c8\", \"\\u7248\", \"\\u3092\", \"\\u5f15\\u3063\\u3055\\u3052\", \"\\u3066\", \"\\u306a\\u306e\\u3067\", \",\", \"\\u6709\\u540d\", \"\\u306a\", \"\\u66f2\", \"\\u3070\\u304b\\u308a\", \"\\u3060\", \"\\u3068\", \"\\u601d\\u3044\\u8fbc\\u...</td>\n",
       "      <td>[[\"rather\", \"good\", \"for\", \"fans\"], [\"so\", \"back\", \"with\", \"the\", \"best\", \"version\", \",\", \"temashita\", \"hesitant\", \"to\", \"buy\", \"just\", \"assume\", \"famous\", \"song\"], [\"however\", \",\", \"substantial\", \"temashita\", \"have\", \"all\", \"the\", \"songs\", \"they\", \"are\", \"playing\", \"hard\", \"to\", \"look\", \"at\", \"...</td>\n",
       "    </tr>\n",
       "    <tr>\n",
       "      <th>4</th>\n",
       "      <td>1</td>\n",
       "      <td>[[\"this\", \"is\", \"the\", \"miracle\"], [\"the\", \"moon\", \"is\", \"walking\"], [\"\\u30fb\", \"\\u30fb\", \"\\u30fb\", \"\\u73fe\\u4ee3\", \"\\u306e\", \"\\u82f1\\u96c4\", \"\\u4f1d\\u8aac\"], [\"CUSTOM_NUMBER\", \"\\u5e74\", \"\\u306e\", \"\\u516c\\u958b\", \"\\u4ee5\\u6765\", \"\\u3001\", \"CUSTOM_NUMBER\", \"\\u5e74\", \"\\u4ee5\\u4e0a\", \"\\u305f\\u3063\\...</td>\n",
       "      <td>[[\"this\", \"is\", \"the\", \"miracle\"], [\"the\", \"moon\", \"is\", \"walking\"], [\"\\u00b7\", \"\\u00b7\", \"\\u00b7\", \"legendary\", \"hero\", \"of\", \"the\", \"modern\"], [\"years\", \"since\", \"the\", \"release\", \"in\", \"CUSTOM_NUMBER\", \",\", \"just\", \"over\", \"CUSTOM_NUMBER\", \"years\", \",\", \"first\", \"saw\", \"this\", \"movie\"], [\"\\\"\"...</td>\n",
       "    </tr>\n",
       "  </tbody>\n",
       "</table>\n",
       "</div>"
      ],
      "text/plain": [
       "   label  \\\n",
       "0      1   \n",
       "1      0   \n",
       "2      1   \n",
       "3      1   \n",
       "4      1   \n",
       "\n",
       "                                                                                                                                                                                                                                                                                                            ja  \\\n",
       "0  [[\"\\u611f\\u52d5\", \"\\u306e\", \"\\u30ab\\u30a6\\u30f3\\u30c8\\u30c0\\u30a6\\u30f3\", \"\\u30b3\\u30f3\\u30b5\\u30fc\\u30c8\"], [\"\\u30c7\\u30a3\\u30b9\\u30af\", \"CUSTOM_NUMBER\", \"\\u306e\", \"\\u4eac\\u30bb\\u30e9\", \"\\u30c9\\u30fc\\u30e0\", \"\\u3067\", \"\\u306e\", \"\\u30ab\\u30a6\\u30f3\\u30c8\\u30c0\\u30a6\\u30f3\", \"\\u30b3\\u30f3\\u30b5\\u...   \n",
       "1  [[\"\\u3082\\u3046\\u5c11\\u3057\", \"\\u30d7\\u30e9\\u30a4\\u30c9\", \"\\u3068\", \"\\u81ea\\u8eab\", \"\\u4f5c\", \"\\u3092\"], [\"\\u4eca\\u3084\", \"\\u5546\\u696d\", \"\\u5316\", \"\\u8ca9\\u58f2\", \"\\u306e\", \"\\u7b2c\\u4e00\\u4eba\\u8005\", \"\\u306e\", \"\\u3053\\u306e\", \"\\u4eba\\u9054\", \"\\u3002\", \"\\u6570\", \"\\u3060\\u3051\", \"\\u58f2\\u3063\", ...   \n",
       "2  [[\"\\u5d50\", \"\\u521d\\u5fc3\\u8005\", \"\\u3067\", \"\\u3054\\u3056\\u3044\", \"\\u307e\\u3059\"], [\"\\u305f\\u307e\\u305f\\u307e\", \"\\u5d50\", \"\\u306e\", \"\\u756a\\u7d44\", \"\\u3092\", \"\\u898b\\u308b\", \"\\u3088\\u3046\", \"\\u306b\", \"\\u306a\\u308a\", \"\\u3001\", \"\\u9045\\u307e\\u304d\\u306a\\u304c\\u3089\", \"\\u300c\", \"\\u5d50\", \"\\u3001\", ...   \n",
       "3  [[\"\\u3080\\u3057\\u308d\", \"\\u30d5\\u30a1\\u30f3\", \"\\u5411\\u3051\", \"\\u3067\", \"\\u3088\\u3044\"], [\"\\u30d9\\u30b9\\u30c8\", \"\\u7248\", \"\\u3092\", \"\\u5f15\\u3063\\u3055\\u3052\", \"\\u3066\", \"\\u306a\\u306e\\u3067\", \",\", \"\\u6709\\u540d\", \"\\u306a\", \"\\u66f2\", \"\\u3070\\u304b\\u308a\", \"\\u3060\", \"\\u3068\", \"\\u601d\\u3044\\u8fbc\\u...   \n",
       "4  [[\"this\", \"is\", \"the\", \"miracle\"], [\"the\", \"moon\", \"is\", \"walking\"], [\"\\u30fb\", \"\\u30fb\", \"\\u30fb\", \"\\u73fe\\u4ee3\", \"\\u306e\", \"\\u82f1\\u96c4\", \"\\u4f1d\\u8aac\"], [\"CUSTOM_NUMBER\", \"\\u5e74\", \"\\u306e\", \"\\u516c\\u958b\", \"\\u4ee5\\u6765\", \"\\u3001\", \"CUSTOM_NUMBER\", \"\\u5e74\", \"\\u4ee5\\u4e0a\", \"\\u305f\\u3063\\...   \n",
       "\n",
       "                                                                                                                                                                                                                                                                                                            en  \n",
       "0  [[\"moving\", \"countdown\", \"concert\"], [\"disc\", \"CUSTOM_NUMBER\", \"is\", \"a\", \"particularly\", \"good\", \"concert\", \"at\", \"the\", \"kyocera\", \"dome\", \"in\", \"the\", \"countdown\"], [\"two\", \"people\", \"in\", \"a\", \"relaxed\", \"atmosphere\", \"in\", \"the\", \"home\", \"of\", \"local\", \"sunrise\"], [\"kinki\", \"room\", \"for\", \"...  \n",
       "1                                                                                                                                                                                                                                                               [[\"to\", \"his\", \"own\", \"pride\", \"and\", \"more\"]]  \n",
       "2  [[\"our\", \"beginner\", \"storm\"], [\"and\", \"watch\", \"a\", \"storm\", \"as\", \"it\", \"happens\", \",\", \"getting\", \"ready\", \"\\\"\", \"storm\", \"!\", \"posted\", \"\\\"\", \"now\", \"i\", \"think\"], [\"the\", \"program\", \"of\", \"the\", \"storm\", \"track\", \"or\", \"have\", \"we\", \"heard\", \"songs\", \",\", \"cd\", \"and\", \"dvd\", \"that\", \"was\", ...  \n",
       "3  [[\"rather\", \"good\", \"for\", \"fans\"], [\"so\", \"back\", \"with\", \"the\", \"best\", \"version\", \",\", \"temashita\", \"hesitant\", \"to\", \"buy\", \"just\", \"assume\", \"famous\", \"song\"], [\"however\", \",\", \"substantial\", \"temashita\", \"have\", \"all\", \"the\", \"songs\", \"they\", \"are\", \"playing\", \"hard\", \"to\", \"look\", \"at\", \"...  \n",
       "4  [[\"this\", \"is\", \"the\", \"miracle\"], [\"the\", \"moon\", \"is\", \"walking\"], [\"\\u00b7\", \"\\u00b7\", \"\\u00b7\", \"legendary\", \"hero\", \"of\", \"the\", \"modern\"], [\"years\", \"since\", \"the\", \"release\", \"in\", \"CUSTOM_NUMBER\", \",\", \"just\", \"over\", \"CUSTOM_NUMBER\", \"years\", \",\", \"first\", \"saw\", \"this\", \"movie\"], [\"\\\"\"...  "
      ]
     },
     "execution_count": 5,
     "metadata": {},
     "output_type": "execute_result"
    }
   ],
   "source": [
    "new_df = df[[\"label\", s, t]]\n",
    "new_df.head()"
   ]
  },
  {
   "cell_type": "code",
   "execution_count": 6,
   "metadata": {},
   "outputs": [
    {
     "data": {
      "text/plain": [
       "str"
      ]
     },
     "execution_count": 6,
     "metadata": {},
     "output_type": "execute_result"
    }
   ],
   "source": [
    "type(new_df[\"ja\"].values[0])"
   ]
  },
  {
   "cell_type": "code",
   "execution_count": 7,
   "metadata": {},
   "outputs": [],
   "source": [
    "new_df.to_csv(data_prefix + \".csv\", index=False)"
   ]
  }
 ],
 "metadata": {
  "kernelspec": {
   "display_name": "Python 3",
   "language": "python",
   "name": "python3"
  },
  "language_info": {
   "codemirror_mode": {
    "name": "ipython",
    "version": 3
   },
   "file_extension": ".py",
   "mimetype": "text/x-python",
   "name": "python",
   "nbconvert_exporter": "python",
   "pygments_lexer": "ipython3",
   "version": "3.6.7"
  }
 },
 "nbformat": 4,
 "nbformat_minor": 2
}
