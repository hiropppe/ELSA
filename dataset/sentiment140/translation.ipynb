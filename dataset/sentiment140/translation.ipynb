{
 "cells": [
  {
   "cell_type": "code",
   "execution_count": 1,
   "metadata": {},
   "outputs": [],
   "source": [
    "from IPython.core.interactiveshell import InteractiveShell\n",
    "InteractiveShell.ast_node_interactivity = \"all\""
   ]
  },
  {
   "cell_type": "code",
   "execution_count": 35,
   "metadata": {},
   "outputs": [],
   "source": [
    "import importlib\n",
    "import json\n",
    "import pandas as pd\n",
    "import re\n",
    "import unicodedata\n",
    "import traceback\n",
    "import os\n",
    "import sys\n",
    "\n",
    "from pathlib import Path\n",
    "from tqdm import tqdm_notebook as tqdm\n",
    "\n",
    "pd.set_option(\"display.max_colwidth\", 300)"
   ]
  },
  {
   "cell_type": "code",
   "execution_count": 3,
   "metadata": {},
   "outputs": [],
   "source": [
    "data_dir = Path('/data/sentiment140/')"
   ]
  },
  {
   "cell_type": "code",
   "execution_count": 4,
   "metadata": {},
   "outputs": [],
   "source": [
    "train_data_path = data_dir / \"training.1600000.processed.noemoticon.csv\""
   ]
  },
  {
   "cell_type": "code",
   "execution_count": 5,
   "metadata": {},
   "outputs": [
    {
     "data": {
      "text/html": [
       "<div>\n",
       "<style scoped>\n",
       "    .dataframe tbody tr th:only-of-type {\n",
       "        vertical-align: middle;\n",
       "    }\n",
       "\n",
       "    .dataframe tbody tr th {\n",
       "        vertical-align: top;\n",
       "    }\n",
       "\n",
       "    .dataframe thead th {\n",
       "        text-align: right;\n",
       "    }\n",
       "</style>\n",
       "<table border=\"1\" class=\"dataframe\">\n",
       "  <thead>\n",
       "    <tr style=\"text-align: right;\">\n",
       "      <th></th>\n",
       "      <th>polarity</th>\n",
       "      <th>text</th>\n",
       "    </tr>\n",
       "  </thead>\n",
       "  <tbody>\n",
       "    <tr>\n",
       "      <th>0</th>\n",
       "      <td>0</td>\n",
       "      <td>@switchfoot http://twitpic.com/2y1zl - Awww, that's a bummer.  You shoulda got David Carr of Third Day to do it. ;D</td>\n",
       "    </tr>\n",
       "    <tr>\n",
       "      <th>1</th>\n",
       "      <td>0</td>\n",
       "      <td>is upset that he can't update his Facebook by texting it... and might cry as a result  School today also. Blah!</td>\n",
       "    </tr>\n",
       "    <tr>\n",
       "      <th>2</th>\n",
       "      <td>0</td>\n",
       "      <td>@Kenichan I dived many times for the ball. Managed to save 50%  The rest go out of bounds</td>\n",
       "    </tr>\n",
       "    <tr>\n",
       "      <th>3</th>\n",
       "      <td>0</td>\n",
       "      <td>my whole body feels itchy and like its on fire</td>\n",
       "    </tr>\n",
       "    <tr>\n",
       "      <th>4</th>\n",
       "      <td>0</td>\n",
       "      <td>@nationwideclass no, it's not behaving at all. i'm mad. why am i here? because I can't see you all over there.</td>\n",
       "    </tr>\n",
       "  </tbody>\n",
       "</table>\n",
       "</div>"
      ],
      "text/plain": [
       "   polarity  \\\n",
       "0         0   \n",
       "1         0   \n",
       "2         0   \n",
       "3         0   \n",
       "4         0   \n",
       "\n",
       "                                                                                                                  text  \n",
       "0  @switchfoot http://twitpic.com/2y1zl - Awww, that's a bummer.  You shoulda got David Carr of Third Day to do it. ;D  \n",
       "1      is upset that he can't update his Facebook by texting it... and might cry as a result  School today also. Blah!  \n",
       "2                            @Kenichan I dived many times for the ball. Managed to save 50%  The rest go out of bounds  \n",
       "3                                                                      my whole body feels itchy and like its on fire   \n",
       "4      @nationwideclass no, it's not behaving at all. i'm mad. why am i here? because I can't see you all over there.   "
      ]
     },
     "execution_count": 5,
     "metadata": {},
     "output_type": "execute_result"
    },
    {
     "data": {
      "text/html": [
       "<div>\n",
       "<style scoped>\n",
       "    .dataframe tbody tr th:only-of-type {\n",
       "        vertical-align: middle;\n",
       "    }\n",
       "\n",
       "    .dataframe tbody tr th {\n",
       "        vertical-align: top;\n",
       "    }\n",
       "\n",
       "    .dataframe thead th {\n",
       "        text-align: right;\n",
       "    }\n",
       "</style>\n",
       "<table border=\"1\" class=\"dataframe\">\n",
       "  <thead>\n",
       "    <tr style=\"text-align: right;\">\n",
       "      <th></th>\n",
       "      <th>polarity</th>\n",
       "      <th>text</th>\n",
       "    </tr>\n",
       "  </thead>\n",
       "  <tbody>\n",
       "    <tr>\n",
       "      <th>800000</th>\n",
       "      <td>4</td>\n",
       "      <td>I LOVE @Health4UandPets u guys r the best!!</td>\n",
       "    </tr>\n",
       "    <tr>\n",
       "      <th>800001</th>\n",
       "      <td>4</td>\n",
       "      <td>im meeting up with one of my besties tonight! Cant wait!!  - GIRL TALK!!</td>\n",
       "    </tr>\n",
       "    <tr>\n",
       "      <th>800002</th>\n",
       "      <td>4</td>\n",
       "      <td>@DaRealSunisaKim Thanks for the Twitter add, Sunisa! I got to meet you once at a HIN show here in the DC area and you were a sweetheart.</td>\n",
       "    </tr>\n",
       "    <tr>\n",
       "      <th>800003</th>\n",
       "      <td>4</td>\n",
       "      <td>Being sick can be really cheap when it hurts too much to eat real food  Plus, your friends make you soup</td>\n",
       "    </tr>\n",
       "    <tr>\n",
       "      <th>800004</th>\n",
       "      <td>4</td>\n",
       "      <td>@LovesBrooklyn2 he has that effect on everyone</td>\n",
       "    </tr>\n",
       "  </tbody>\n",
       "</table>\n",
       "</div>"
      ],
      "text/plain": [
       "        polarity  \\\n",
       "800000         4   \n",
       "800001         4   \n",
       "800002         4   \n",
       "800003         4   \n",
       "800004         4   \n",
       "\n",
       "                                                                                                                                             text  \n",
       "800000                                                                                               I LOVE @Health4UandPets u guys r the best!!   \n",
       "800001                                                                   im meeting up with one of my besties tonight! Cant wait!!  - GIRL TALK!!  \n",
       "800002  @DaRealSunisaKim Thanks for the Twitter add, Sunisa! I got to meet you once at a HIN show here in the DC area and you were a sweetheart.   \n",
       "800003                                   Being sick can be really cheap when it hurts too much to eat real food  Plus, your friends make you soup  \n",
       "800004                                                                                            @LovesBrooklyn2 he has that effect on everyone   "
      ]
     },
     "execution_count": 5,
     "metadata": {},
     "output_type": "execute_result"
    }
   ],
   "source": [
    "df = pd.read_csv(train_data_path.__str__(), header=None, usecols=[0, 5], encoding='latin1')\n",
    "df.columns = ['polarity', 'text']\n",
    "df[df[\"polarity\"] == 0].head()\n",
    "df[df[\"polarity\"] == 4].head()"
   ]
  },
  {
   "cell_type": "code",
   "execution_count": 6,
   "metadata": {},
   "outputs": [
    {
     "data": {
      "text/plain": [
       "4    800000\n",
       "0    800000\n",
       "Name: polarity, dtype: int64"
      ]
     },
     "execution_count": 6,
     "metadata": {},
     "output_type": "execute_result"
    }
   ],
   "source": [
    "df.polarity.value_counts()"
   ]
  },
  {
   "cell_type": "code",
   "execution_count": 7,
   "metadata": {},
   "outputs": [],
   "source": [
    "CRLF_RE = re.compile(r'[\\s\\u3000]+')\n",
    "RETWEET_RE = re.compile(r'^[rR][tT]')\n",
    "HASHING_RE = re.compile(r'#[^\\s]+')\n",
    "MENTION_RE = re.compile(r'@[a-zA-Z0-9_]+:?')\n",
    "URL_RE = re.compile(r'(?:url\\s*)?(?:https?://|\\w*\\.\\w+\\.\\w+)(?:[a-zA-Z]|[0-9]|[$-_@.&+]|[!*\\(\\)…,]|[\\u4E00-\\u9FD0]|[あ-ん]|[\\u30A1-\\u30F4]|(?:%[0-9a-fA-F][0-9a-fA-F]))+')\n",
    "TWEETLINK_RE = re.compile(r't.co/[a-zA-Z0-9]+')\n",
    "PIC_TWITTER_RE = re.compile(r'pic.twitter.com/.+')\n",
    "\n",
    "def clean(text, lang=None, retweet=False):\n",
    "    try:\n",
    "        if retweet:\n",
    "            text = RETWEET_RE.sub('', text)\n",
    "        elif RETWEET_RE.match(text):\n",
    "            return None\n",
    "\n",
    "        text = unicodedata.normalize('NFKC', text)\n",
    "        text = CRLF_RE.sub(' ', text)\n",
    "        # text = HASHING_RE.sub('', text)\n",
    "        text = text.replace('#', '')\n",
    "        text = MENTION_RE.sub('', text)\n",
    "        text = URL_RE.sub('', text)\n",
    "        text = TWEETLINK_RE.sub('', text)\n",
    "        text = PIC_TWITTER_RE.sub('', text)\n",
    "        text = text.strip()\n",
    "        if text:\n",
    "            return text\n",
    "        else:\n",
    "            return None\n",
    "    except Exception:\n",
    "        return None"
   ]
  },
  {
   "cell_type": "code",
   "execution_count": 8,
   "metadata": {},
   "outputs": [],
   "source": [
    "df[\"clean_text\"] = df.apply(lambda row: clean(row.text), axis=1)"
   ]
  },
  {
   "cell_type": "code",
   "execution_count": 9,
   "metadata": {},
   "outputs": [],
   "source": [
    "df.dropna(subset=[\"clean_text\"], inplace=True)\n",
    "df.drop_duplicates(subset=[\"clean_text\"], inplace=True)"
   ]
  },
  {
   "cell_type": "code",
   "execution_count": 10,
   "metadata": {},
   "outputs": [
    {
     "data": {
      "text/plain": [
       "103821369"
      ]
     },
     "execution_count": 10,
     "metadata": {},
     "output_type": "execute_result"
    }
   ],
   "source": [
    "n_chars = sum(len(text) for text in df.clean_text.values)\n",
    "n_chars"
   ]
  },
  {
   "cell_type": "code",
   "execution_count": 11,
   "metadata": {},
   "outputs": [],
   "source": [
    "n_percentage_in_monthly_budget = 200000/110/(n_chars*20/1000000)"
   ]
  },
  {
   "cell_type": "code",
   "execution_count": 12,
   "metadata": {},
   "outputs": [
    {
     "data": {
      "text/plain": [
       "114203.5059"
      ]
     },
     "execution_count": 12,
     "metadata": {},
     "output_type": "execute_result"
    }
   ],
   "source": [
    "bugget_for_half_of_budget = (n_chars/2)*20/1000000*110\n",
    "bugget_for_half_of_budget"
   ]
  },
  {
   "cell_type": "code",
   "execution_count": 13,
   "metadata": {},
   "outputs": [
    {
     "data": {
      "text/plain": [
       "51910684.5"
      ]
     },
     "execution_count": 13,
     "metadata": {},
     "output_type": "execute_result"
    }
   ],
   "source": [
    "limit = (n_chars/2)\n",
    "limit"
   ]
  },
  {
   "cell_type": "code",
   "execution_count": 14,
   "metadata": {},
   "outputs": [
    {
     "data": {
      "text/plain": [
       "0    779677\n",
       "4    769731\n",
       "Name: polarity, dtype: int64"
      ]
     },
     "execution_count": 14,
     "metadata": {},
     "output_type": "execute_result"
    }
   ],
   "source": [
    "df.polarity.value_counts()"
   ]
  },
  {
   "cell_type": "code",
   "execution_count": 15,
   "metadata": {},
   "outputs": [
    {
     "data": {
      "text/html": [
       "<div>\n",
       "<style scoped>\n",
       "    .dataframe tbody tr th:only-of-type {\n",
       "        vertical-align: middle;\n",
       "    }\n",
       "\n",
       "    .dataframe tbody tr th {\n",
       "        vertical-align: top;\n",
       "    }\n",
       "\n",
       "    .dataframe thead th {\n",
       "        text-align: right;\n",
       "    }\n",
       "</style>\n",
       "<table border=\"1\" class=\"dataframe\">\n",
       "  <thead>\n",
       "    <tr style=\"text-align: right;\">\n",
       "      <th></th>\n",
       "      <th>polarity</th>\n",
       "      <th>text</th>\n",
       "      <th>clean_text</th>\n",
       "    </tr>\n",
       "  </thead>\n",
       "  <tbody>\n",
       "    <tr>\n",
       "      <th>0</th>\n",
       "      <td>0</td>\n",
       "      <td>@switchfoot http://twitpic.com/2y1zl - Awww, that's a bummer.  You shoulda got David Carr of Third Day to do it. ;D</td>\n",
       "      <td>- Awww, that's a bummer. You shoulda got David Carr of Third Day to do it. ;D</td>\n",
       "    </tr>\n",
       "    <tr>\n",
       "      <th>1</th>\n",
       "      <td>0</td>\n",
       "      <td>is upset that he can't update his Facebook by texting it... and might cry as a result  School today also. Blah!</td>\n",
       "      <td>is upset that he can't update his Facebook by texting it... and might cry as a result School today also. Blah!</td>\n",
       "    </tr>\n",
       "    <tr>\n",
       "      <th>2</th>\n",
       "      <td>0</td>\n",
       "      <td>@Kenichan I dived many times for the ball. Managed to save 50%  The rest go out of bounds</td>\n",
       "      <td>I dived many times for the ball. Managed to save 50% The rest go out of bounds</td>\n",
       "    </tr>\n",
       "    <tr>\n",
       "      <th>3</th>\n",
       "      <td>0</td>\n",
       "      <td>my whole body feels itchy and like its on fire</td>\n",
       "      <td>my whole body feels itchy and like its on fire</td>\n",
       "    </tr>\n",
       "    <tr>\n",
       "      <th>4</th>\n",
       "      <td>0</td>\n",
       "      <td>@nationwideclass no, it's not behaving at all. i'm mad. why am i here? because I can't see you all over there.</td>\n",
       "      <td>no, it's not behaving at all. i'm mad. why am i here? because I can't see you all over there.</td>\n",
       "    </tr>\n",
       "  </tbody>\n",
       "</table>\n",
       "</div>"
      ],
      "text/plain": [
       "   polarity  \\\n",
       "0         0   \n",
       "1         0   \n",
       "2         0   \n",
       "3         0   \n",
       "4         0   \n",
       "\n",
       "                                                                                                                  text  \\\n",
       "0  @switchfoot http://twitpic.com/2y1zl - Awww, that's a bummer.  You shoulda got David Carr of Third Day to do it. ;D   \n",
       "1      is upset that he can't update his Facebook by texting it... and might cry as a result  School today also. Blah!   \n",
       "2                            @Kenichan I dived many times for the ball. Managed to save 50%  The rest go out of bounds   \n",
       "3                                                                      my whole body feels itchy and like its on fire    \n",
       "4      @nationwideclass no, it's not behaving at all. i'm mad. why am i here? because I can't see you all over there.    \n",
       "\n",
       "                                                                                                       clean_text  \n",
       "0                                   - Awww, that's a bummer. You shoulda got David Carr of Third Day to do it. ;D  \n",
       "1  is upset that he can't update his Facebook by texting it... and might cry as a result School today also. Blah!  \n",
       "2                                  I dived many times for the ball. Managed to save 50% The rest go out of bounds  \n",
       "3                                                                  my whole body feels itchy and like its on fire  \n",
       "4                   no, it's not behaving at all. i'm mad. why am i here? because I can't see you all over there.  "
      ]
     },
     "execution_count": 15,
     "metadata": {},
     "output_type": "execute_result"
    },
    {
     "data": {
      "text/html": [
       "<div>\n",
       "<style scoped>\n",
       "    .dataframe tbody tr th:only-of-type {\n",
       "        vertical-align: middle;\n",
       "    }\n",
       "\n",
       "    .dataframe tbody tr th {\n",
       "        vertical-align: top;\n",
       "    }\n",
       "\n",
       "    .dataframe thead th {\n",
       "        text-align: right;\n",
       "    }\n",
       "</style>\n",
       "<table border=\"1\" class=\"dataframe\">\n",
       "  <thead>\n",
       "    <tr style=\"text-align: right;\">\n",
       "      <th></th>\n",
       "      <th>polarity</th>\n",
       "      <th>text</th>\n",
       "      <th>clean_text</th>\n",
       "    </tr>\n",
       "  </thead>\n",
       "  <tbody>\n",
       "    <tr>\n",
       "      <th>800000</th>\n",
       "      <td>4</td>\n",
       "      <td>I LOVE @Health4UandPets u guys r the best!!</td>\n",
       "      <td>I LOVE  u guys r the best!!</td>\n",
       "    </tr>\n",
       "    <tr>\n",
       "      <th>800001</th>\n",
       "      <td>4</td>\n",
       "      <td>im meeting up with one of my besties tonight! Cant wait!!  - GIRL TALK!!</td>\n",
       "      <td>im meeting up with one of my besties tonight! Cant wait!! - GIRL TALK!!</td>\n",
       "    </tr>\n",
       "    <tr>\n",
       "      <th>800002</th>\n",
       "      <td>4</td>\n",
       "      <td>@DaRealSunisaKim Thanks for the Twitter add, Sunisa! I got to meet you once at a HIN show here in the DC area and you were a sweetheart.</td>\n",
       "      <td>Thanks for the Twitter add, Sunisa! I got to meet you once at a HIN show here in the DC area and you were a sweetheart.</td>\n",
       "    </tr>\n",
       "    <tr>\n",
       "      <th>800003</th>\n",
       "      <td>4</td>\n",
       "      <td>Being sick can be really cheap when it hurts too much to eat real food  Plus, your friends make you soup</td>\n",
       "      <td>Being sick can be really cheap when it hurts too much to eat real food Plus, your friends make you soup</td>\n",
       "    </tr>\n",
       "    <tr>\n",
       "      <th>800004</th>\n",
       "      <td>4</td>\n",
       "      <td>@LovesBrooklyn2 he has that effect on everyone</td>\n",
       "      <td>he has that effect on everyone</td>\n",
       "    </tr>\n",
       "  </tbody>\n",
       "</table>\n",
       "</div>"
      ],
      "text/plain": [
       "        polarity  \\\n",
       "800000         4   \n",
       "800001         4   \n",
       "800002         4   \n",
       "800003         4   \n",
       "800004         4   \n",
       "\n",
       "                                                                                                                                             text  \\\n",
       "800000                                                                                               I LOVE @Health4UandPets u guys r the best!!    \n",
       "800001                                                                   im meeting up with one of my besties tonight! Cant wait!!  - GIRL TALK!!   \n",
       "800002  @DaRealSunisaKim Thanks for the Twitter add, Sunisa! I got to meet you once at a HIN show here in the DC area and you were a sweetheart.    \n",
       "800003                                   Being sick can be really cheap when it hurts too much to eat real food  Plus, your friends make you soup   \n",
       "800004                                                                                            @LovesBrooklyn2 he has that effect on everyone    \n",
       "\n",
       "                                                                                                                     clean_text  \n",
       "800000                                                                                              I LOVE  u guys r the best!!  \n",
       "800001                                                  im meeting up with one of my besties tonight! Cant wait!! - GIRL TALK!!  \n",
       "800002  Thanks for the Twitter add, Sunisa! I got to meet you once at a HIN show here in the DC area and you were a sweetheart.  \n",
       "800003                  Being sick can be really cheap when it hurts too much to eat real food Plus, your friends make you soup  \n",
       "800004                                                                                           he has that effect on everyone  "
      ]
     },
     "execution_count": 15,
     "metadata": {},
     "output_type": "execute_result"
    }
   ],
   "source": [
    "neg_df = df[df[\"polarity\"] == 0][:400000]\n",
    "pos_df = df[df[\"polarity\"] == 4][:400000]\n",
    "neg_df.head()\n",
    "pos_df.head()"
   ]
  },
  {
   "cell_type": "code",
   "execution_count": 16,
   "metadata": {},
   "outputs": [
    {
     "data": {
      "text/plain": [
       "117721.2432"
      ]
     },
     "execution_count": 16,
     "metadata": {},
     "output_type": "execute_result"
    }
   ],
   "source": [
    "neg_budget = sum(len(text) for text in neg_df.clean_text.values)*20/1000000*110\n",
    "pos_budget = sum(len(text) for text in pos_df.clean_text.values)*20/1000000*110\n",
    "budget = neg_budget + pos_budget\n",
    "budget"
   ]
  },
  {
   "cell_type": "code",
   "execution_count": null,
   "metadata": {},
   "outputs": [],
   "source": []
  },
  {
   "cell_type": "code",
   "execution_count": 17,
   "metadata": {},
   "outputs": [
    {
     "data": {
      "text/plain": [
       "<module 'gctranslate' from '/root/ELSA/dataset/sentiment140/gctranslate.py'>"
      ]
     },
     "execution_count": 17,
     "metadata": {},
     "output_type": "execute_result"
    }
   ],
   "source": [
    "import gctranslate as gct\n",
    "importlib.reload(gct)\n",
    "\n",
    "translator = gct.GCTranslate(cache_path='./gctcache.sqlite3')"
   ]
  },
  {
   "cell_type": "code",
   "execution_count": 18,
   "metadata": {},
   "outputs": [],
   "source": [
    "src = \"en\"\n",
    "tgt = \"ar\"\n",
    "\n",
    "translated_neg_text = []\n",
    "translated_pos_text = []\n",
    "\n",
    "total_chars = 0"
   ]
  },
  {
   "cell_type": "code",
   "execution_count": 19,
   "metadata": {},
   "outputs": [
    {
     "data": {
      "application/vnd.jupyter.widget-view+json": {
       "model_id": "763d47c63ed14952851a4d73af56cd74",
       "version_major": 2,
       "version_minor": 0
      },
      "text/plain": [
       "HBox(children=(IntProgress(value=0, max=400000), HTML(value='')))"
      ]
     },
     "metadata": {},
     "output_type": "display_data"
    },
    {
     "name": "stdout",
     "output_type": "stream",
     "text": [
      "\n"
     ]
    }
   ],
   "source": [
    "i = 0\n",
    "pbar = tqdm(neg_df.clean_text.values)\n",
    "for text in pbar:\n",
    "    try:\n",
    "        translated = translator.translate(text, tgt, src)\n",
    "        translated_neg_text.append(translated)\n",
    "    except:\n",
    "        translated_neg_text.append(None)\n",
    "        traceback.print_exc()\n",
    "    total_chars += len(text)\n",
    "    if i % 100 == 0:\n",
    "        pbar.set_postfix(total_chars=str(total_chars))\n",
    "    i += 1"
   ]
  },
  {
   "cell_type": "code",
   "execution_count": 21,
   "metadata": {},
   "outputs": [
    {
     "data": {
      "text/plain": [
       "400000"
      ]
     },
     "execution_count": 21,
     "metadata": {},
     "output_type": "execute_result"
    }
   ],
   "source": [
    "len(translated_pos_text)"
   ]
  },
  {
   "cell_type": "code",
   "execution_count": 20,
   "metadata": {},
   "outputs": [
    {
     "data": {
      "application/vnd.jupyter.widget-view+json": {
       "model_id": "6640ec39c8e84440a6ad9c23381a0d0b",
       "version_major": 2,
       "version_minor": 0
      },
      "text/plain": [
       "HBox(children=(IntProgress(value=0, max=400000), HTML(value='')))"
      ]
     },
     "metadata": {},
     "output_type": "display_data"
    },
    {
     "name": "stderr",
     "output_type": "stream",
     "text": [
      "Traceback (most recent call last):\n",
      "  File \"/usr/local/lib/python3.6/dist-packages/urllib3/connectionpool.py\", line 379, in _make_request\n",
      "    httplib_response = conn.getresponse(buffering=True)\n",
      "TypeError: getresponse() got an unexpected keyword argument 'buffering'\n",
      "\n",
      "During handling of the above exception, another exception occurred:\n",
      "\n",
      "Traceback (most recent call last):\n",
      "  File \"<ipython-input-20-49dbc3cda2c0>\", line 5, in <module>\n",
      "    translated = translator.translate(text, tgt, src)\n",
      "  File \"/root/ELSA/dataset/sentiment140/gctranslate.py\", line 56, in translate\n",
      "    translatedText = self.google_cloud_translate(inp, tgt, src, model)\n",
      "  File \"/root/ELSA/dataset/sentiment140/gctranslate.py\", line 80, in google_cloud_translate\n",
      "    inp, target_language=tgt, source_language=src, model=model)\n",
      "  File \"/usr/local/lib/python3.6/dist-packages/google/cloud/translate_v2/client.py\", line 252, in translate\n",
      "    response = self._connection.api_request(method=\"POST\", path=\"\", data=data)\n",
      "  File \"/usr/local/lib/python3.6/dist-packages/google/cloud/_http.py\", line 392, in api_request\n",
      "    target_object=_target_object,\n",
      "  File \"/usr/local/lib/python3.6/dist-packages/google/cloud/_http.py\", line 269, in _make_request\n",
      "    return self._do_request(method, url, headers, data, target_object)\n",
      "  File \"/usr/local/lib/python3.6/dist-packages/google/cloud/_http.py\", line 298, in _do_request\n",
      "    return self.http.request(url=url, method=method, headers=headers, data=data)\n",
      "  File \"/usr/local/lib/python3.6/dist-packages/google/auth/transport/requests.py\", line 208, in request\n",
      "    method, url, data=data, headers=request_headers, **kwargs)\n",
      "  File \"/usr/local/lib/python3.6/dist-packages/requests/sessions.py\", line 533, in request\n",
      "    resp = self.send(prep, **send_kwargs)\n",
      "  File \"/usr/local/lib/python3.6/dist-packages/requests/sessions.py\", line 646, in send\n",
      "    r = adapter.send(request, **kwargs)\n",
      "  File \"/usr/local/lib/python3.6/dist-packages/requests/adapters.py\", line 449, in send\n",
      "    timeout=timeout\n",
      "  File \"/usr/local/lib/python3.6/dist-packages/urllib3/connectionpool.py\", line 603, in urlopen\n",
      "    chunked=chunked)\n",
      "  File \"/usr/local/lib/python3.6/dist-packages/urllib3/connectionpool.py\", line 383, in _make_request\n",
      "    httplib_response = conn.getresponse()\n",
      "  File \"/usr/lib/python3.6/http/client.py\", line 1331, in getresponse\n",
      "    response.begin()\n",
      "  File \"/usr/lib/python3.6/http/client.py\", line 297, in begin\n",
      "    version, status, reason = self._read_status()\n",
      "  File \"/usr/lib/python3.6/http/client.py\", line 258, in _read_status\n",
      "    line = str(self.fp.readline(_MAXLINE + 1), \"iso-8859-1\")\n",
      "  File \"/usr/lib/python3.6/socket.py\", line 586, in readinto\n",
      "    return self._sock.recv_into(b)\n",
      "  File \"/usr/lib/python3.6/ssl.py\", line 1012, in recv_into\n",
      "    return self.read(nbytes, buffer)\n",
      "  File \"/usr/lib/python3.6/ssl.py\", line 874, in read\n",
      "    return self._sslobj.read(len, buffer)\n",
      "  File \"/usr/lib/python3.6/ssl.py\", line 631, in read\n",
      "    v = self._sslobj.read(len, buffer)\n",
      "KeyboardInterrupt\n"
     ]
    },
    {
     "name": "stdout",
     "output_type": "stream",
     "text": [
      "\n"
     ]
    }
   ],
   "source": [
    "i = 0\n",
    "pbar = tqdm(pos_df.clean_text.values)\n",
    "for text in pbar:\n",
    "    try:\n",
    "        translated = translator.translate(text, tgt, src)\n",
    "        translated_pos_text.append(translated)\n",
    "    except:\n",
    "        translated_pos_text.append(None)\n",
    "        traceback.print_exc()\n",
    "    total_chars += len(text)\n",
    "    if i % 100 == 0:\n",
    "        pbar.set_postfix(total_chars=str(total_chars))\n",
    "    i += 1"
   ]
  },
  {
   "cell_type": "code",
   "execution_count": 23,
   "metadata": {},
   "outputs": [
    {
     "data": {
      "text/plain": [
       "400000"
      ]
     },
     "execution_count": 23,
     "metadata": {},
     "output_type": "execute_result"
    }
   ],
   "source": [
    "len(translated_neg_text)"
   ]
  },
  {
   "cell_type": "code",
   "execution_count": 37,
   "metadata": {},
   "outputs": [],
   "source": [
    "sys.path.append(\"../../script/\")\n",
    "from word_generator import get_default_tokenizer"
   ]
  },
  {
   "cell_type": "markdown",
   "metadata": {},
   "source": [
    "tokenize src and target tweets"
   ]
  },
  {
   "cell_type": "code",
   "execution_count": 62,
   "metadata": {},
   "outputs": [],
   "source": [
    "def tokenize(texts, tokenizer):\n",
    "    tokenized_texts = []\n",
    "    for text in tqdm(texts):\n",
    "        try:\n",
    "            tokenized_texts.append([tokenizer.tokenize(text)])\n",
    "        except KeyboardInterrupt:\n",
    "            break\n",
    "        except:\n",
    "            tokenized_texts.append(None)\n",
    "    return tokenized_texts"
   ]
  },
  {
   "cell_type": "code",
   "execution_count": 59,
   "metadata": {},
   "outputs": [
    {
     "name": "stdout",
     "output_type": "stream",
     "text": [
      "Use device: gpu\n",
      "---\n",
      "Loading: tokenize\n",
      "With settings: \n",
      "{'model_path': '/data/stanfordnlp_resources/ar_padt_models/ar_padt_tokenizer.pt', 'lang': 'ar', 'shorthand': 'ar_padt', 'mode': 'predict'}\n",
      "---\n",
      "Loading: mwt\n",
      "With settings: \n",
      "{'model_path': '/data/stanfordnlp_resources/ar_padt_models/ar_padt_mwt_expander.pt', 'lang': 'ar', 'shorthand': 'ar_padt', 'mode': 'predict'}\n",
      "Building an attentional Seq2Seq model...\n",
      "Using a Bi-LSTM encoder\n",
      "Using soft attention for LSTM.\n",
      "Finetune all embeddings.\n",
      "Done loading processors!\n",
      "---\n"
     ]
    }
   ],
   "source": [
    "en_tokenizer = get_default_tokenizer(\"en\")\n",
    "ar_tokenizer = get_default_tokenizer(\"ar\")"
   ]
  },
  {
   "cell_type": "code",
   "execution_count": 64,
   "metadata": {},
   "outputs": [
    {
     "data": {
      "application/vnd.jupyter.widget-view+json": {
       "model_id": "ecc4acc2c698425e85615b3b26c7ade1",
       "version_major": 2,
       "version_minor": 0
      },
      "text/plain": [
       "HBox(children=(IntProgress(value=0, max=400000), HTML(value='')))"
      ]
     },
     "metadata": {},
     "output_type": "display_data"
    },
    {
     "name": "stdout",
     "output_type": "stream",
     "text": [
      "\n"
     ]
    },
    {
     "data": {
      "application/vnd.jupyter.widget-view+json": {
       "model_id": "328a62fae84340f192df3d3300f81af4",
       "version_major": 2,
       "version_minor": 0
      },
      "text/plain": [
       "HBox(children=(IntProgress(value=0, max=400000), HTML(value='')))"
      ]
     },
     "metadata": {},
     "output_type": "display_data"
    },
    {
     "name": "stdout",
     "output_type": "stream",
     "text": [
      "\n"
     ]
    },
    {
     "data": {
      "application/vnd.jupyter.widget-view+json": {
       "model_id": "0e8b6596095c4d7091d008a6b509eb4f",
       "version_major": 2,
       "version_minor": 0
      },
      "text/plain": [
       "HBox(children=(IntProgress(value=0, max=400000), HTML(value='')))"
      ]
     },
     "metadata": {},
     "output_type": "display_data"
    },
    {
     "name": "stdout",
     "output_type": "stream",
     "text": [
      "\n"
     ]
    },
    {
     "data": {
      "application/vnd.jupyter.widget-view+json": {
       "model_id": "33b1b24b28104415b640a69bb0ea35ea",
       "version_major": 2,
       "version_minor": 0
      },
      "text/plain": [
       "HBox(children=(IntProgress(value=0, max=400000), HTML(value='')))"
      ]
     },
     "metadata": {},
     "output_type": "display_data"
    },
    {
     "name": "stdout",
     "output_type": "stream",
     "text": [
      "\n"
     ]
    }
   ],
   "source": [
    "tokenized_neg_text_en = tokenize(neg_df.clean_text.values, en_tokenizer)\n",
    "tokenized_neg_text_ar = tokenize(translated_neg_text, ar_tokenizer)\n",
    "tokenized_pos_text_en = tokenize(pos_df.clean_text.values, en_tokenizer)\n",
    "tokenized_pos_text_ar = tokenize(translated_pos_text, ar_tokenizer)"
   ]
  },
  {
   "cell_type": "code",
   "execution_count": null,
   "metadata": {},
   "outputs": [],
   "source": []
  },
  {
   "cell_type": "code",
   "execution_count": 52,
   "metadata": {},
   "outputs": [],
   "source": [
    "en_ar_df = pd.DataFrame({\"en\": tokenized_neg, \"ar\": tokenized_neg_ar})"
   ]
  },
  {
   "cell_type": "code",
   "execution_count": 53,
   "metadata": {},
   "outputs": [
    {
     "data": {
      "text/plain": [
       "(400000, 2)"
      ]
     },
     "execution_count": 53,
     "metadata": {},
     "output_type": "execute_result"
    }
   ],
   "source": [
    "en_ar_df.dropna(inplace=True)\n",
    "en_ar_df.shape"
   ]
  },
  {
   "cell_type": "code",
   "execution_count": 54,
   "metadata": {},
   "outputs": [
    {
     "data": {
      "text/html": [
       "<div>\n",
       "<style scoped>\n",
       "    .dataframe tbody tr th:only-of-type {\n",
       "        vertical-align: middle;\n",
       "    }\n",
       "\n",
       "    .dataframe tbody tr th {\n",
       "        vertical-align: top;\n",
       "    }\n",
       "\n",
       "    .dataframe thead th {\n",
       "        text-align: right;\n",
       "    }\n",
       "</style>\n",
       "<table border=\"1\" class=\"dataframe\">\n",
       "  <thead>\n",
       "    <tr style=\"text-align: right;\">\n",
       "      <th></th>\n",
       "      <th>en</th>\n",
       "      <th>ar</th>\n",
       "    </tr>\n",
       "  </thead>\n",
       "  <tbody>\n",
       "    <tr>\n",
       "      <th>0</th>\n",
       "      <td>[[-, Awww, ,, that's, a, bummer, ., You, shoulda, got, David, Carr, of, Third, Day, to, do, it, ., ;D]]</td>\n",
       "      <td>[[-, awww, ,, that's, a, bumme, r, ., you, shoulda, got, david, carr, of, third, day, to, do, it, ., ;d]]</td>\n",
       "    </tr>\n",
       "    <tr>\n",
       "      <th>1</th>\n",
       "      <td>[[is, upset, that, he, can't, update, his, Facebook, by, texting, it, ..., and, might, cry, as, a, result, School, today, also, ., Blah, !]]</td>\n",
       "      <td>[[is, u, pset, that, he, can't, update, his, facebook, by, texting, it, ., ., ., and, might, cry, as, a, r, esult, school, today, also, ., blah, !]]</td>\n",
       "    </tr>\n",
       "    <tr>\n",
       "      <th>2</th>\n",
       "      <td>[[I, dived, many, times, for, the, ball, ., Managed, to, save, 50, %, The, rest, go, out, of, bounds]]</td>\n",
       "      <td>[[i, dived, many, times, for, the, ball, ., ددددد, دد, to, save, 50, %, the, r, est, go, out, of, boun, d, s]]</td>\n",
       "    </tr>\n",
       "    <tr>\n",
       "      <th>3</th>\n",
       "      <td>[[my, whole, body, feels, itchy, and, like, its, on, fire]]</td>\n",
       "      <td>[[my, whole, body, f, eels, itchy, and, like, its, on, fi, r, e]]</td>\n",
       "    </tr>\n",
       "    <tr>\n",
       "      <th>4</th>\n",
       "      <td>[[no, ,, it's, not, behaving, at, all, ., i'm, mad, ., why, am, i, here, ?, because, I, can't, see, you, all, over, there, .]]</td>\n",
       "      <td>[[no, ,, it's, not, behaving, at, all, ., دد, د, mad, ., why, am, i, h, er, e?, b, ecause, i, can't, s, e, e, you, all, over, ther, e, .]]</td>\n",
       "    </tr>\n",
       "    <tr>\n",
       "      <th>5</th>\n",
       "      <td>[[not, the, whole, crew]]</td>\n",
       "      <td>[[n, ot, the, whole, cr, e, w]]</td>\n",
       "    </tr>\n",
       "    <tr>\n",
       "      <th>6</th>\n",
       "      <td>[[Need, a, hug]]</td>\n",
       "      <td>[[need, a, hug]]</td>\n",
       "    </tr>\n",
       "    <tr>\n",
       "      <th>7</th>\n",
       "      <td>[[hey, long, time, no, see, !, Yes, .., Rains, a, bit, ,, only, a, bit, LOL, ,, I'm, fine, thanks, ,, how's, you, ?]]</td>\n",
       "      <td>[[hey, long, time, no, se, e, !, y, e, s, ., ., rains, a, bit, ,only, a, bit, lol, ,, i'm, fine, thanks, ,, how's, you, ?]]</td>\n",
       "    </tr>\n",
       "    <tr>\n",
       "      <th>8</th>\n",
       "      <td>[[nope, they, didn't, have, it]]</td>\n",
       "      <td>[[nope, they, didn't, have, i, t]]</td>\n",
       "    </tr>\n",
       "    <tr>\n",
       "      <th>9</th>\n",
       "      <td>[[que, me, muera, ?]]</td>\n",
       "      <td>[[que, me, muera, ?]]</td>\n",
       "    </tr>\n",
       "    <tr>\n",
       "      <th>10</th>\n",
       "      <td>[[spring, break, in, plain, city, ..., it's, snowing]]</td>\n",
       "      <td>[[spring, break, in, plain, city, ., ., ., دد, دد, snowin, g]]</td>\n",
       "    </tr>\n",
       "    <tr>\n",
       "      <th>11</th>\n",
       "      <td>[[I, just, re-pierced, my, ears]]</td>\n",
       "      <td>[[i, j, ust, r, e, -, pi, erced, my, e, a, r, s]]</td>\n",
       "    </tr>\n",
       "    <tr>\n",
       "      <th>12</th>\n",
       "      <td>[[I, couldn't, bear, to, watch, it, ., And, I, thought, the, UA, loss, was, embarrassing, . . . . .]]</td>\n",
       "      <td>[[i, couldn't, bear, to, watch, it, ., and, i, thought, the, ua, l, oss, was, embar, r, assing, ., ., ., ., .]]</td>\n",
       "    </tr>\n",
       "    <tr>\n",
       "      <th>13</th>\n",
       "      <td>[[It, it, counts, ,, idk, why, I, did, either, ., you, never, talk, to, me, anymore]]</td>\n",
       "      <td>[[it, it, counts, ,, idk, why, i, did, e, ithe, r, ., you, n, ever, talk, to, me, anym, o, r, e]]</td>\n",
       "    </tr>\n",
       "    <tr>\n",
       "      <th>14</th>\n",
       "      <td>[[i, would've, been, the, first, ,, but, i, didn't, have, a, gun, ., not, really, though, ,, zac, snyder's, just, a, doucheclown, .]]</td>\n",
       "      <td>[[i, w, ould'v, e, b, een, the, first, ,, but, i, didn't, have, a, gun, ., not, r, eally, though, ,, zac, snyder, ', s, just, a, douch, eclown, .]]</td>\n",
       "    </tr>\n",
       "    <tr>\n",
       "      <th>15</th>\n",
       "      <td>[[I, wish, I, got, to, watch, it, with, you, !, !, I, miss, you, and, how, was, the, premiere, ?, !]]</td>\n",
       "      <td>[[i, wish, i, got, to, watch, it, with, you, !, !, i, miss, you, and, how, was, the, p, r, emie, r, e, ?, !]]</td>\n",
       "    </tr>\n",
       "    <tr>\n",
       "      <th>16</th>\n",
       "      <td>[[Hollis, ', death, scene, will, hurt, me, severely, to, watch, on, film, wry, is, directors, cut, not, out, now, ?]]</td>\n",
       "      <td>[[hollis', death, scene, will, hurt, me, seve, rely, to, watch, on, film, wry, is, di, r, e, cto, rs, cut, n, ot, out, now?]]</td>\n",
       "    </tr>\n",
       "    <tr>\n",
       "      <th>17</th>\n",
       "      <td>[[about, to, file, taxes]]</td>\n",
       "      <td>[[about, to, file, tax, e, s]]</td>\n",
       "    </tr>\n",
       "    <tr>\n",
       "      <th>18</th>\n",
       "      <td>[[ahh, ive, always, wanted, to, see, rent, love, the, soundtrack, !, !]]</td>\n",
       "      <td>[[ahh, ive, always, wanted, to, s, e, e, r, ent, love, the, soundtrack, !, !]]</td>\n",
       "    </tr>\n",
       "    <tr>\n",
       "      <th>19</th>\n",
       "      <td>[[Oh, dear, ., Were, you, drinking, out, of, the, forgotten, table, drinks, ?]]</td>\n",
       "      <td>[[oh, dear, ., were, you, drinking, out, of, the, f, or, g, otten, table, drink, s, ?]]</td>\n",
       "    </tr>\n",
       "    <tr>\n",
       "      <th>20</th>\n",
       "      <td>[[i, was, out, most, of, the, day, so, didn't, get, much, done]]</td>\n",
       "      <td>[[i, was, out, m, ost, of, the, day, so, didn't, get, much, don, e]]</td>\n",
       "    </tr>\n",
       "    <tr>\n",
       "      <th>21</th>\n",
       "      <td>[[one, of, my, friend, called, me, ,, and, asked, to, meet, with, her, at, Mid, Valley, today, ..., but, i've, no, time, *, sigh, *]]</td>\n",
       "      <td>[[one, of, my, friend, called, me, ,, and, asked, to, m, eet, with, her, at, mid, valley, today, ., ., ., دد, د, i've, no, time, *, sigh, *]]</td>\n",
       "    </tr>\n",
       "    <tr>\n",
       "      <th>22</th>\n",
       "      <td>[[I, baked, you, a, cake, but, I, ated, it]]</td>\n",
       "      <td>[[i, baked, y, ou, a, cake, but, i, ated, i, t]]</td>\n",
       "    </tr>\n",
       "    <tr>\n",
       "      <th>23</th>\n",
       "      <td>[[this, week, is, not, going, as, i, had, hoped]]</td>\n",
       "      <td>[[this, w, eek, is, not, going, as, i, had, h, op, e, d]]</td>\n",
       "    </tr>\n",
       "    <tr>\n",
       "      <th>24</th>\n",
       "      <td>[[blagh, class, at, 8, tomorrow]]</td>\n",
       "      <td>[[blagh, class, at, 8, t, om, o, r, r, o, w]]</td>\n",
       "    </tr>\n",
       "    <tr>\n",
       "      <th>25</th>\n",
       "      <td>[[I, hate, when, I, have, to, call, and, wake, people, up]]</td>\n",
       "      <td>[[i, hate, when, i, have, to, call, and, wake, people, up]]</td>\n",
       "    </tr>\n",
       "    <tr>\n",
       "      <th>26</th>\n",
       "      <td>[[Just, going, to, cry, myself, to, sleep, after, watching, Marley, and, Me, .]]</td>\n",
       "      <td>[[just, going, to, cry, myself, to, sleep, after, watching, marley, and, me, .]]</td>\n",
       "    </tr>\n",
       "    <tr>\n",
       "      <th>27</th>\n",
       "      <td>[[im, sad, now, Miss.Lilly]]</td>\n",
       "      <td>[[im, sad, now, mi, ss, ., lill, y]]</td>\n",
       "    </tr>\n",
       "    <tr>\n",
       "      <th>28</th>\n",
       "      <td>[[oooh, ..., LOL, that, leslie, ..., and, ok, I, won't, do, it, again, so, leslie, won't, get, mad, again]]</td>\n",
       "      <td>[[ooooh, ., ., ., ., lol, that, lesli, e, ., ., ., ., and, ok, i, won't, do, it, again, so, l, esli, e, won't, get, mad, agai, n]]</td>\n",
       "    </tr>\n",
       "    <tr>\n",
       "      <th>29</th>\n",
       "      <td>[[Meh, ..., Almost, Lover, is, the, exception, ..., this, track, gets, me, depressed, every, time, .]]</td>\n",
       "      <td>[[meh, ., ., ., almost, lover, is, the, e, xceptio, n, ., ., ., this, track, g, ets, me, d, epr, e, ss, e, d, e, very, tim, e, .]]</td>\n",
       "    </tr>\n",
       "    <tr>\n",
       "      <th>...</th>\n",
       "      <td>...</td>\n",
       "      <td>...</td>\n",
       "    </tr>\n",
       "    <tr>\n",
       "      <th>399970</th>\n",
       "      <td>[[.., hey, sorry, .., twitter, said, i, had, done, too, many, tweets, would, not, let, me, send, anymore, lol, .., night, night, x, x]]</td>\n",
       "      <td>[[., ., hey, sorry, ., ., twitter, said, i, had, done, too, many, tweets, would, n, ot, let, me, send, anymor, e, l, o, l, ., ., ددد, دد, night, x, x]]</td>\n",
       "    </tr>\n",
       "    <tr>\n",
       "      <th>399971</th>\n",
       "      <td>[[Fun, ?, lol, ~, Meee, ..., well, i, am, going, soon]]</td>\n",
       "      <td>[[fun?, l, ol, ~, mee, e, e, ., ., ., ., well, i, am, going, s, oon]]</td>\n",
       "    </tr>\n",
       "    <tr>\n",
       "      <th>399972</th>\n",
       "      <td>[[That, stinks, -, sorry, to, hear, .]]</td>\n",
       "      <td>[[دد, دد, stinks, -, sorry, to, hear, .]]</td>\n",
       "    </tr>\n",
       "    <tr>\n",
       "      <th>399973</th>\n",
       "      <td>[[Summer, 2009, Beach, trend, =, cankles, .]]</td>\n",
       "      <td>[[summer, 2009, beach, trend, =cankl, e, s, .]]</td>\n",
       "    </tr>\n",
       "    <tr>\n",
       "      <th>399974</th>\n",
       "      <td>[[He, didn't, All, we, had, was, Lidl, wine, and, Lidl, nibbles, and, I, heard, he's, a, bit, of, a, diva, so, I, didn't, ask, ...]]</td>\n",
       "      <td>[[he, didn't, all, we, had, was, lidl, wine, and, lidl, nibbles, and, i, heard, h, e's, a, bit, of, a, diva, so, i, didn't, a, sk, ., ., .]]</td>\n",
       "    </tr>\n",
       "    <tr>\n",
       "      <th>399975</th>\n",
       "      <td>[[., But, no, French, dubbing, of, Chuck, or, most, other, TV, shows, in, QuÃ, ©, bec, (, R1, ), ., It's, infuriating, ., (, BTVS, french, dub, but, not, Dollhouse, )]]</td>\n",
       "      <td>[[., but, no, french, dubbing, of, chuck, or, m, ost, other, tv, shows, in, quã©bec, (, r1, ), ., it's, infuriating, ., (, btvs, french, dub, but, not, dollh, o, u, s, e, )]]</td>\n",
       "    </tr>\n",
       "    <tr>\n",
       "      <th>399976</th>\n",
       "      <td>[[I'm, done, for, the, night, ., I, was, getting, eaten, alive, by, the, bugs, (, typical, for, me, down, here, ), and, I'm, out, of, shape, ., :-|]]</td>\n",
       "      <td>[[i'm, d, one, for, the, night, ., i, was, g, etting, e, aten, alive, by, the, bug, s, (, typical, for, me, down, h, er, e, ), and, i'm, out, of, shap, e, ., :, -, |]]</td>\n",
       "    </tr>\n",
       "    <tr>\n",
       "      <th>399977</th>\n",
       "      <td>[[sweep, picking, .., ugh, hate, it]]</td>\n",
       "      <td>[[sweep, picking, ., ., دد, د, hate, i, t]]</td>\n",
       "    </tr>\n",
       "    <tr>\n",
       "      <th>399978</th>\n",
       "      <td>[[Aw, ,, I'm, so, sorry, to, hear, that]]</td>\n",
       "      <td>[[aw, ,, i'm, so, sorry, to, hear, that]]</td>\n",
       "    </tr>\n",
       "    <tr>\n",
       "      <th>399979</th>\n",
       "      <td>[[oh, in, that, case, m, quite, a, few, thousand, miles, away]]</td>\n",
       "      <td>[[oh, in, that, case, m, quite, a, few, thousand, miles, away]]</td>\n",
       "    </tr>\n",
       "    <tr>\n",
       "      <th>399980</th>\n",
       "      <td>[[i, think, u, all, know, what, happened, i, had, to, many, tweets, if, i, get, too, many, tweets, on, here, then, i'll, get, mad]]</td>\n",
       "      <td>[[i, think, u, all, know, what, happened, i, had, to, many, tweets, if, i, g, et, too, many, t, weets, on, h, er, e, then, i'll, get, mad]]</td>\n",
       "    </tr>\n",
       "    <tr>\n",
       "      <th>399981</th>\n",
       "      <td>[[I, am, cold, and, tired]]</td>\n",
       "      <td>[[i, am, cold, and, tir, e, d]]</td>\n",
       "    </tr>\n",
       "    <tr>\n",
       "      <th>399982</th>\n",
       "      <td>[[Air, is, in, the, shop, ., No, laptop, for, a, week, .]]</td>\n",
       "      <td>[[air, is, in, the, shop, ., no, laptop, for, a, w, e, e, k, .]]</td>\n",
       "    </tr>\n",
       "    <tr>\n",
       "      <th>399983</th>\n",
       "      <td>[[My, puppies, their, first, vaccines, !, They, look, sooo, sad, .]]</td>\n",
       "      <td>[[my, puppie, s, their, first, vaccine, s, !, دد, دد, look, soooo, sad, .]]</td>\n",
       "    </tr>\n",
       "    <tr>\n",
       "      <th>399984</th>\n",
       "      <td>[[How, does, this, work]]</td>\n",
       "      <td>[[how, d, o, es, this, work]]</td>\n",
       "    </tr>\n",
       "    <tr>\n",
       "      <th>399985</th>\n",
       "      <td>[[ahh, yes, i, dont, see, you, connected, with, us]]</td>\n",
       "      <td>[[ahh, y, e, s, i, d, ont, s, ee, you, conn, e, cted, with, u, s]]</td>\n",
       "    </tr>\n",
       "    <tr>\n",
       "      <th>399986</th>\n",
       "      <td>[[oh, no, !, !, i, hate, thunder, !, wear, rubber, soled, shoes, haha, xxx]]</td>\n",
       "      <td>[[oh, n, o, !, !, i, hate, thunde, r, !, دد, دد, r, ubber, soled, shoes, haha, xxx]]</td>\n",
       "    </tr>\n",
       "    <tr>\n",
       "      <th>399987</th>\n",
       "      <td>[[I, have, determined, that, my, cold, is, still, with, me, ..., guess, I'll, be, doing, a, lot, of, nothing, tomorrow]]</td>\n",
       "      <td>[[i, have, d, eter, mine, d, that, my, cold, is, still, with, m, e, ., ., ., ., g, u, e, ss, i'll, be, doing, a, lot, of, nothing, t, om, o, r, r, o, w]]</td>\n",
       "    </tr>\n",
       "    <tr>\n",
       "      <th>399988</th>\n",
       "      <td>[[aww, your, super, shy, ?, no, way, !, get, out, of, here, haha, do, you, remember, me, from, Australia, ?, i, doubt, it, haha, please, come, back, xx]]</td>\n",
       "      <td>[[aww, your, super, shy?, no, way, !, g, et, out, of, her, e, haha, do, you, r, em, e, mber, me, from, australia?, i, doubt, it, haha, please, come, back, xx]]</td>\n",
       "    </tr>\n",
       "    <tr>\n",
       "      <th>399989</th>\n",
       "      <td>[[all, lOlz]]</td>\n",
       "      <td>[[all, l, olz]]</td>\n",
       "    </tr>\n",
       "    <tr>\n",
       "      <th>399990</th>\n",
       "      <td>[[jus, creating, a, twitter, page, ,, but, i, have, no, friends]]</td>\n",
       "      <td>[[jus, creating, a, twitter, page, ,, but, i, have, no, frien, d, s]]</td>\n",
       "    </tr>\n",
       "    <tr>\n",
       "      <th>399991</th>\n",
       "      <td>[[I, went, into, a, few, places, and, it, was, Â, £, 40, ,, I, stalled, ,, I, have, a, few, clubcard, vouchers, for, Tesco, but, they, had, sold, out, ., Tough, luck]]</td>\n",
       "      <td>[[i, w, ent, into, a, few, places, and, it, was, â£, 40, ,, i, stalled, ,, i, have, a, few, clubcard, v, ouchers, for, t, esco, but, they, had, sold, out, ., ددد, دد, luck]]</td>\n",
       "    </tr>\n",
       "    <tr>\n",
       "      <th>399992</th>\n",
       "      <td>[[Can't, ,, I, have, an, online, test, !, !]]</td>\n",
       "      <td>[[can't, ,, i, have, an, onlin, e, t, est, !, !]]</td>\n",
       "    </tr>\n",
       "    <tr>\n",
       "      <th>399993</th>\n",
       "      <td>[[Note, to, self, don't, drive, more, than, 10, hours, Arrrgh]]</td>\n",
       "      <td>[[note, to, self, don't, drive, mor, e, than, 10, hours, arrrgh]]</td>\n",
       "    </tr>\n",
       "    <tr>\n",
       "      <th>399994</th>\n",
       "      <td>[[prom, is, now, over, kinda, sad, .., but, a, fun, night, ,, one, to, remember, !]]</td>\n",
       "      <td>[[prom, is, now, over, kinda, دد, د, ., ., دد, د, a, fun, n, ight, ,, one, to, r, ememb, e, r, !]]</td>\n",
       "    </tr>\n",
       "    <tr>\n",
       "      <th>399995</th>\n",
       "      <td>[[I, hate, when, I, go, to, a, restaurant, and, the, only, thing, that's, good, are, the, drinks, and, I, only, had, water]]</td>\n",
       "      <td>[[i, hate, when, i, go, to, a, r, esta, urant, and, the, only, thing, that's, good, are, the, drinks, and, i, only, had, wat, e, r]]</td>\n",
       "    </tr>\n",
       "    <tr>\n",
       "      <th>399996</th>\n",
       "      <td>[[i, wish, corn, dogs, and, tater, tots, were, on, the, Dr, Asa, Plan]]</td>\n",
       "      <td>[[i, wish, corn, dogs, and, tate, r, t, ots, were, on, the, dr, asa, plan]]</td>\n",
       "    </tr>\n",
       "    <tr>\n",
       "      <th>399997</th>\n",
       "      <td>[[Infelizmente, jÃ, ¡, existe, e, se, chama, World, of, Warcraft]]</td>\n",
       "      <td>[[infe, l, i, z, mente, jã¡, e, xiste, e, se, chama, world, of, warcr, a, f, t]]</td>\n",
       "    </tr>\n",
       "    <tr>\n",
       "      <th>399998</th>\n",
       "      <td>[[I, ask, myself, everytime, I, walk, into, this, building, ., My, mouth, waters, at, the, mere, thought, of, kog]]</td>\n",
       "      <td>[[i, ask, myself, e, ve, rytime, i, walk, into, this, building, ., my, mouth, w, ate, r, s, at, the, mer, e, thought, of, kog]]</td>\n",
       "    </tr>\n",
       "    <tr>\n",
       "      <th>399999</th>\n",
       "      <td>[[You, know, when, Alan, Carr, takes, the, piss, of, your, love, life, live, on, radio, 2, that, things, are, bad, !]]</td>\n",
       "      <td>[[you, know, when, alan, carr, takes, the, piss, of, your, love, life, live, on, radio, 2, that, things, are, bad, !]]</td>\n",
       "    </tr>\n",
       "  </tbody>\n",
       "</table>\n",
       "<p>400000 rows × 2 columns</p>\n",
       "</div>"
      ],
      "text/plain": [
       "                                                                                                                                                                              en  \\\n",
       "0                                                                        [[-, Awww, ,, that's, a, bummer, ., You, shoulda, got, David, Carr, of, Third, Day, to, do, it, ., ;D]]   \n",
       "1                                   [[is, upset, that, he, can't, update, his, Facebook, by, texting, it, ..., and, might, cry, as, a, result, School, today, also, ., Blah, !]]   \n",
       "2                                                                         [[I, dived, many, times, for, the, ball, ., Managed, to, save, 50, %, The, rest, go, out, of, bounds]]   \n",
       "3                                                                                                                    [[my, whole, body, feels, itchy, and, like, its, on, fire]]   \n",
       "4                                                 [[no, ,, it's, not, behaving, at, all, ., i'm, mad, ., why, am, i, here, ?, because, I, can't, see, you, all, over, there, .]]   \n",
       "5                                                                                                                                                      [[not, the, whole, crew]]   \n",
       "6                                                                                                                                                               [[Need, a, hug]]   \n",
       "7                                                          [[hey, long, time, no, see, !, Yes, .., Rains, a, bit, ,, only, a, bit, LOL, ,, I'm, fine, thanks, ,, how's, you, ?]]   \n",
       "8                                                                                                                                               [[nope, they, didn't, have, it]]   \n",
       "9                                                                                                                                                          [[que, me, muera, ?]]   \n",
       "10                                                                                                                        [[spring, break, in, plain, city, ..., it's, snowing]]   \n",
       "11                                                                                                                                             [[I, just, re-pierced, my, ears]]   \n",
       "12                                                                         [[I, couldn't, bear, to, watch, it, ., And, I, thought, the, UA, loss, was, embarrassing, . . . . .]]   \n",
       "13                                                                                         [[It, it, counts, ,, idk, why, I, did, either, ., you, never, talk, to, me, anymore]]   \n",
       "14                                         [[i, would've, been, the, first, ,, but, i, didn't, have, a, gun, ., not, really, though, ,, zac, snyder's, just, a, doucheclown, .]]   \n",
       "15                                                                         [[I, wish, I, got, to, watch, it, with, you, !, !, I, miss, you, and, how, was, the, premiere, ?, !]]   \n",
       "16                                                         [[Hollis, ', death, scene, will, hurt, me, severely, to, watch, on, film, wry, is, directors, cut, not, out, now, ?]]   \n",
       "17                                                                                                                                                    [[about, to, file, taxes]]   \n",
       "18                                                                                                      [[ahh, ive, always, wanted, to, see, rent, love, the, soundtrack, !, !]]   \n",
       "19                                                                                               [[Oh, dear, ., Were, you, drinking, out, of, the, forgotten, table, drinks, ?]]   \n",
       "20                                                                                                              [[i, was, out, most, of, the, day, so, didn't, get, much, done]]   \n",
       "21                                         [[one, of, my, friend, called, me, ,, and, asked, to, meet, with, her, at, Mid, Valley, today, ..., but, i've, no, time, *, sigh, *]]   \n",
       "22                                                                                                                                  [[I, baked, you, a, cake, but, I, ated, it]]   \n",
       "23                                                                                                                             [[this, week, is, not, going, as, i, had, hoped]]   \n",
       "24                                                                                                                                             [[blagh, class, at, 8, tomorrow]]   \n",
       "25                                                                                                                   [[I, hate, when, I, have, to, call, and, wake, people, up]]   \n",
       "26                                                                                              [[Just, going, to, cry, myself, to, sleep, after, watching, Marley, and, Me, .]]   \n",
       "27                                                                                                                                                  [[im, sad, now, Miss.Lilly]]   \n",
       "28                                                                   [[oooh, ..., LOL, that, leslie, ..., and, ok, I, won't, do, it, again, so, leslie, won't, get, mad, again]]   \n",
       "29                                                                        [[Meh, ..., Almost, Lover, is, the, exception, ..., this, track, gets, me, depressed, every, time, .]]   \n",
       "...                                                                                                                                                                          ...   \n",
       "399970                                   [[.., hey, sorry, .., twitter, said, i, had, done, too, many, tweets, would, not, let, me, send, anymore, lol, .., night, night, x, x]]   \n",
       "399971                                                                                                                   [[Fun, ?, lol, ~, Meee, ..., well, i, am, going, soon]]   \n",
       "399972                                                                                                                                   [[That, stinks, -, sorry, to, hear, .]]   \n",
       "399973                                                                                                                             [[Summer, 2009, Beach, trend, =, cankles, .]]   \n",
       "399974                                      [[He, didn't, All, we, had, was, Lidl, wine, and, Lidl, nibbles, and, I, heard, he's, a, bit, of, a, diva, so, I, didn't, ask, ...]]   \n",
       "399975  [[., But, no, French, dubbing, of, Chuck, or, most, other, TV, shows, in, QuÃ, ©, bec, (, R1, ), ., It's, infuriating, ., (, BTVS, french, dub, but, not, Dollhouse, )]]   \n",
       "399976                     [[I'm, done, for, the, night, ., I, was, getting, eaten, alive, by, the, bugs, (, typical, for, me, down, here, ), and, I'm, out, of, shape, ., :-|]]   \n",
       "399977                                                                                                                                     [[sweep, picking, .., ugh, hate, it]]   \n",
       "399978                                                                                                                                 [[Aw, ,, I'm, so, sorry, to, hear, that]]   \n",
       "399979                                                                                                           [[oh, in, that, case, m, quite, a, few, thousand, miles, away]]   \n",
       "399980                                       [[i, think, u, all, know, what, happened, i, had, to, many, tweets, if, i, get, too, many, tweets, on, here, then, i'll, get, mad]]   \n",
       "399981                                                                                                                                               [[I, am, cold, and, tired]]   \n",
       "399982                                                                                                                [[Air, is, in, the, shop, ., No, laptop, for, a, week, .]]   \n",
       "399983                                                                                                      [[My, puppies, their, first, vaccines, !, They, look, sooo, sad, .]]   \n",
       "399984                                                                                                                                                 [[How, does, this, work]]   \n",
       "399985                                                                                                                      [[ahh, yes, i, dont, see, you, connected, with, us]]   \n",
       "399986                                                                                              [[oh, no, !, !, i, hate, thunder, !, wear, rubber, soled, shoes, haha, xxx]]   \n",
       "399987                                                  [[I, have, determined, that, my, cold, is, still, with, me, ..., guess, I'll, be, doing, a, lot, of, nothing, tomorrow]]   \n",
       "399988                 [[aww, your, super, shy, ?, no, way, !, get, out, of, here, haha, do, you, remember, me, from, Australia, ?, i, doubt, it, haha, please, come, back, xx]]   \n",
       "399989                                                                                                                                                             [[all, lOlz]]   \n",
       "399990                                                                                                         [[jus, creating, a, twitter, page, ,, but, i, have, no, friends]]   \n",
       "399991   [[I, went, into, a, few, places, and, it, was, Â, £, 40, ,, I, stalled, ,, I, have, a, few, clubcard, vouchers, for, Tesco, but, they, had, sold, out, ., Tough, luck]]   \n",
       "399992                                                                                                                             [[Can't, ,, I, have, an, online, test, !, !]]   \n",
       "399993                                                                                                           [[Note, to, self, don't, drive, more, than, 10, hours, Arrrgh]]   \n",
       "399994                                                                                      [[prom, is, now, over, kinda, sad, .., but, a, fun, night, ,, one, to, remember, !]]   \n",
       "399995                                              [[I, hate, when, I, go, to, a, restaurant, and, the, only, thing, that's, good, are, the, drinks, and, I, only, had, water]]   \n",
       "399996                                                                                                   [[i, wish, corn, dogs, and, tater, tots, were, on, the, Dr, Asa, Plan]]   \n",
       "399997                                                                                                        [[Infelizmente, jÃ, ¡, existe, e, se, chama, World, of, Warcraft]]   \n",
       "399998                                                       [[I, ask, myself, everytime, I, walk, into, this, building, ., My, mouth, waters, at, the, mere, thought, of, kog]]   \n",
       "399999                                                    [[You, know, when, Alan, Carr, takes, the, piss, of, your, love, life, live, on, radio, 2, that, things, are, bad, !]]   \n",
       "\n",
       "                                                                                                                                                                                    ar  \n",
       "0                                                                            [[-, awww, ,, that's, a, bumme, r, ., you, shoulda, got, david, carr, of, third, day, to, do, it, ., ;d]]  \n",
       "1                                 [[is, u, pset, that, he, can't, update, his, facebook, by, texting, it, ., ., ., and, might, cry, as, a, r, esult, school, today, also, ., blah, !]]  \n",
       "2                                                                       [[i, dived, many, times, for, the, ball, ., ددددد, دد, to, save, 50, %, the, r, est, go, out, of, boun, d, s]]  \n",
       "3                                                                                                                    [[my, whole, body, f, eels, itchy, and, like, its, on, fi, r, e]]  \n",
       "4                                           [[no, ,, it's, not, behaving, at, all, ., دد, د, mad, ., why, am, i, h, er, e?, b, ecause, i, can't, s, e, e, you, all, over, ther, e, .]]  \n",
       "5                                                                                                                                                      [[n, ot, the, whole, cr, e, w]]  \n",
       "6                                                                                                                                                                     [[need, a, hug]]  \n",
       "7                                                          [[hey, long, time, no, se, e, !, y, e, s, ., ., rains, a, bit, ,only, a, bit, lol, ,, i'm, fine, thanks, ,, how's, you, ?]]  \n",
       "8                                                                                                                                                   [[nope, they, didn't, have, i, t]]  \n",
       "9                                                                                                                                                                [[que, me, muera, ?]]  \n",
       "10                                                                                                                      [[spring, break, in, plain, city, ., ., ., دد, دد, snowin, g]]  \n",
       "11                                                                                                                                   [[i, j, ust, r, e, -, pi, erced, my, e, a, r, s]]  \n",
       "12                                                                     [[i, couldn't, bear, to, watch, it, ., and, i, thought, the, ua, l, oss, was, embar, r, assing, ., ., ., ., .]]  \n",
       "13                                                                                   [[it, it, counts, ,, idk, why, i, did, e, ithe, r, ., you, n, ever, talk, to, me, anym, o, r, e]]  \n",
       "14                                 [[i, w, ould'v, e, b, een, the, first, ,, but, i, didn't, have, a, gun, ., not, r, eally, though, ,, zac, snyder, ', s, just, a, douch, eclown, .]]  \n",
       "15                                                                       [[i, wish, i, got, to, watch, it, with, you, !, !, i, miss, you, and, how, was, the, p, r, emie, r, e, ?, !]]  \n",
       "16                                                       [[hollis', death, scene, will, hurt, me, seve, rely, to, watch, on, film, wry, is, di, r, e, cto, rs, cut, n, ot, out, now?]]  \n",
       "17                                                                                                                                                      [[about, to, file, tax, e, s]]  \n",
       "18                                                                                                      [[ahh, ive, always, wanted, to, s, e, e, r, ent, love, the, soundtrack, !, !]]  \n",
       "19                                                                                             [[oh, dear, ., were, you, drinking, out, of, the, f, or, g, otten, table, drink, s, ?]]  \n",
       "20                                                                                                                [[i, was, out, m, ost, of, the, day, so, didn't, get, much, don, e]]  \n",
       "21                                       [[one, of, my, friend, called, me, ,, and, asked, to, m, eet, with, her, at, mid, valley, today, ., ., ., دد, د, i've, no, time, *, sigh, *]]  \n",
       "22                                                                                                                                    [[i, baked, y, ou, a, cake, but, i, ated, i, t]]  \n",
       "23                                                                                                                           [[this, w, eek, is, not, going, as, i, had, h, op, e, d]]  \n",
       "24                                                                                                                                       [[blagh, class, at, 8, t, om, o, r, r, o, w]]  \n",
       "25                                                                                                                         [[i, hate, when, i, have, to, call, and, wake, people, up]]  \n",
       "26                                                                                                    [[just, going, to, cry, myself, to, sleep, after, watching, marley, and, me, .]]  \n",
       "27                                                                                                                                                [[im, sad, now, mi, ss, ., lill, y]]  \n",
       "28                                                  [[ooooh, ., ., ., ., lol, that, lesli, e, ., ., ., ., and, ok, i, won't, do, it, again, so, l, esli, e, won't, get, mad, agai, n]]  \n",
       "29                                                  [[meh, ., ., ., almost, lover, is, the, e, xceptio, n, ., ., ., this, track, g, ets, me, d, epr, e, ss, e, d, e, very, tim, e, .]]  \n",
       "...                                                                                                                                                                                ...  \n",
       "399970                         [[., ., hey, sorry, ., ., twitter, said, i, had, done, too, many, tweets, would, n, ot, let, me, send, anymor, e, l, o, l, ., ., ددد, دد, night, x, x]]  \n",
       "399971                                                                                                           [[fun?, l, ol, ~, mee, e, e, ., ., ., ., well, i, am, going, s, oon]]  \n",
       "399972                                                                                                                                       [[دد, دد, stinks, -, sorry, to, hear, .]]  \n",
       "399973                                                                                                                                 [[summer, 2009, beach, trend, =cankl, e, s, .]]  \n",
       "399974                                    [[he, didn't, all, we, had, was, lidl, wine, and, lidl, nibbles, and, i, heard, h, e's, a, bit, of, a, diva, so, i, didn't, a, sk, ., ., .]]  \n",
       "399975  [[., but, no, french, dubbing, of, chuck, or, m, ost, other, tv, shows, in, quã©bec, (, r1, ), ., it's, infuriating, ., (, btvs, french, dub, but, not, dollh, o, u, s, e, )]]  \n",
       "399976         [[i'm, d, one, for, the, night, ., i, was, g, etting, e, aten, alive, by, the, bug, s, (, typical, for, me, down, h, er, e, ), and, i'm, out, of, shap, e, ., :, -, |]]  \n",
       "399977                                                                                                                                     [[sweep, picking, ., ., دد, د, hate, i, t]]  \n",
       "399978                                                                                                                                       [[aw, ,, i'm, so, sorry, to, hear, that]]  \n",
       "399979                                                                                                                 [[oh, in, that, case, m, quite, a, few, thousand, miles, away]]  \n",
       "399980                                     [[i, think, u, all, know, what, happened, i, had, to, many, tweets, if, i, g, et, too, many, t, weets, on, h, er, e, then, i'll, get, mad]]  \n",
       "399981                                                                                                                                                 [[i, am, cold, and, tir, e, d]]  \n",
       "399982                                                                                                                [[air, is, in, the, shop, ., no, laptop, for, a, w, e, e, k, .]]  \n",
       "399983                                                                                                     [[my, puppie, s, their, first, vaccine, s, !, دد, دد, look, soooo, sad, .]]  \n",
       "399984                                                                                                                                                   [[how, d, o, es, this, work]]  \n",
       "399985                                                                                                              [[ahh, y, e, s, i, d, ont, s, ee, you, conn, e, cted, with, u, s]]  \n",
       "399986                                                                                            [[oh, n, o, !, !, i, hate, thunde, r, !, دد, دد, r, ubber, soled, shoes, haha, xxx]]  \n",
       "399987                       [[i, have, d, eter, mine, d, that, my, cold, is, still, with, m, e, ., ., ., ., g, u, e, ss, i'll, be, doing, a, lot, of, nothing, t, om, o, r, r, o, w]]  \n",
       "399988                 [[aww, your, super, shy?, no, way, !, g, et, out, of, her, e, haha, do, you, r, em, e, mber, me, from, australia?, i, doubt, it, haha, please, come, back, xx]]  \n",
       "399989                                                                                                                                                                 [[all, l, olz]]  \n",
       "399990                                                                                                           [[jus, creating, a, twitter, page, ,, but, i, have, no, frien, d, s]]  \n",
       "399991   [[i, w, ent, into, a, few, places, and, it, was, â£, 40, ,, i, stalled, ,, i, have, a, few, clubcard, v, ouchers, for, t, esco, but, they, had, sold, out, ., ددد, دد, luck]]  \n",
       "399992                                                                                                                               [[can't, ,, i, have, an, onlin, e, t, est, !, !]]  \n",
       "399993                                                                                                               [[note, to, self, don't, drive, mor, e, than, 10, hours, arrrgh]]  \n",
       "399994                                                                              [[prom, is, now, over, kinda, دد, د, ., ., دد, د, a, fun, n, ight, ,, one, to, r, ememb, e, r, !]]  \n",
       "399995                                            [[i, hate, when, i, go, to, a, r, esta, urant, and, the, only, thing, that's, good, are, the, drinks, and, i, only, had, wat, e, r]]  \n",
       "399996                                                                                                     [[i, wish, corn, dogs, and, tate, r, t, ots, were, on, the, dr, asa, plan]]  \n",
       "399997                                                                                                [[infe, l, i, z, mente, jã¡, e, xiste, e, se, chama, world, of, warcr, a, f, t]]  \n",
       "399998                                                 [[i, ask, myself, e, ve, rytime, i, walk, into, this, building, ., my, mouth, w, ate, r, s, at, the, mer, e, thought, of, kog]]  \n",
       "399999                                                          [[you, know, when, alan, carr, takes, the, piss, of, your, love, life, live, on, radio, 2, that, things, are, bad, !]]  \n",
       "\n",
       "[400000 rows x 2 columns]"
      ]
     },
     "execution_count": 54,
     "metadata": {},
     "output_type": "execute_result"
    }
   ],
   "source": [
    "en_ar_df"
   ]
  }
 ],
 "metadata": {
  "kernelspec": {
   "display_name": "Python 3",
   "language": "python",
   "name": "python3"
  },
  "language_info": {
   "codemirror_mode": {
    "name": "ipython",
    "version": 3
   },
   "file_extension": ".py",
   "mimetype": "text/x-python",
   "name": "python",
   "nbconvert_exporter": "python",
   "pygments_lexer": "ipython3",
   "version": "3.6.7"
  }
 },
 "nbformat": 4,
 "nbformat_minor": 2
}
