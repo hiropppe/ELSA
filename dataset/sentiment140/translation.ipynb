{
 "cells": [
  {
   "cell_type": "code",
   "execution_count": 1,
   "metadata": {},
   "outputs": [],
   "source": [
    "from IPython.core.interactiveshell import InteractiveShell\n",
    "InteractiveShell.ast_node_interactivity = \"all\""
   ]
  },
  {
   "cell_type": "code",
   "execution_count": 2,
   "metadata": {},
   "outputs": [],
   "source": [
    "import importlib\n",
    "import json\n",
    "import pandas as pd\n",
    "import re\n",
    "import unicodedata\n",
    "import traceback\n",
    "\n",
    "from pathlib import Path\n",
    "from tqdm import tqdm_notebook as tqdm\n",
    "\n",
    "pd.set_option(\"display.max_colwidth\", 300)"
   ]
  },
  {
   "cell_type": "code",
   "execution_count": 3,
   "metadata": {},
   "outputs": [],
   "source": [
    "data_dir = Path('/data/sentiment140/')"
   ]
  },
  {
   "cell_type": "code",
   "execution_count": 4,
   "metadata": {},
   "outputs": [],
   "source": [
    "train_data_path = data_dir / \"training.1600000.processed.noemoticon.csv\""
   ]
  },
  {
   "cell_type": "code",
   "execution_count": 5,
   "metadata": {},
   "outputs": [
    {
     "data": {
      "text/html": [
       "<div>\n",
       "<style scoped>\n",
       "    .dataframe tbody tr th:only-of-type {\n",
       "        vertical-align: middle;\n",
       "    }\n",
       "\n",
       "    .dataframe tbody tr th {\n",
       "        vertical-align: top;\n",
       "    }\n",
       "\n",
       "    .dataframe thead th {\n",
       "        text-align: right;\n",
       "    }\n",
       "</style>\n",
       "<table border=\"1\" class=\"dataframe\">\n",
       "  <thead>\n",
       "    <tr style=\"text-align: right;\">\n",
       "      <th></th>\n",
       "      <th>polarity</th>\n",
       "      <th>text</th>\n",
       "    </tr>\n",
       "  </thead>\n",
       "  <tbody>\n",
       "    <tr>\n",
       "      <th>0</th>\n",
       "      <td>0</td>\n",
       "      <td>@switchfoot http://twitpic.com/2y1zl - Awww, that's a bummer.  You shoulda got David Carr of Third Day to do it. ;D</td>\n",
       "    </tr>\n",
       "    <tr>\n",
       "      <th>1</th>\n",
       "      <td>0</td>\n",
       "      <td>is upset that he can't update his Facebook by texting it... and might cry as a result  School today also. Blah!</td>\n",
       "    </tr>\n",
       "    <tr>\n",
       "      <th>2</th>\n",
       "      <td>0</td>\n",
       "      <td>@Kenichan I dived many times for the ball. Managed to save 50%  The rest go out of bounds</td>\n",
       "    </tr>\n",
       "    <tr>\n",
       "      <th>3</th>\n",
       "      <td>0</td>\n",
       "      <td>my whole body feels itchy and like its on fire</td>\n",
       "    </tr>\n",
       "    <tr>\n",
       "      <th>4</th>\n",
       "      <td>0</td>\n",
       "      <td>@nationwideclass no, it's not behaving at all. i'm mad. why am i here? because I can't see you all over there.</td>\n",
       "    </tr>\n",
       "  </tbody>\n",
       "</table>\n",
       "</div>"
      ],
      "text/plain": [
       "   polarity  \\\n",
       "0         0   \n",
       "1         0   \n",
       "2         0   \n",
       "3         0   \n",
       "4         0   \n",
       "\n",
       "                                                                                                                  text  \n",
       "0  @switchfoot http://twitpic.com/2y1zl - Awww, that's a bummer.  You shoulda got David Carr of Third Day to do it. ;D  \n",
       "1      is upset that he can't update his Facebook by texting it... and might cry as a result  School today also. Blah!  \n",
       "2                            @Kenichan I dived many times for the ball. Managed to save 50%  The rest go out of bounds  \n",
       "3                                                                      my whole body feels itchy and like its on fire   \n",
       "4      @nationwideclass no, it's not behaving at all. i'm mad. why am i here? because I can't see you all over there.   "
      ]
     },
     "execution_count": 5,
     "metadata": {},
     "output_type": "execute_result"
    },
    {
     "data": {
      "text/html": [
       "<div>\n",
       "<style scoped>\n",
       "    .dataframe tbody tr th:only-of-type {\n",
       "        vertical-align: middle;\n",
       "    }\n",
       "\n",
       "    .dataframe tbody tr th {\n",
       "        vertical-align: top;\n",
       "    }\n",
       "\n",
       "    .dataframe thead th {\n",
       "        text-align: right;\n",
       "    }\n",
       "</style>\n",
       "<table border=\"1\" class=\"dataframe\">\n",
       "  <thead>\n",
       "    <tr style=\"text-align: right;\">\n",
       "      <th></th>\n",
       "      <th>polarity</th>\n",
       "      <th>text</th>\n",
       "    </tr>\n",
       "  </thead>\n",
       "  <tbody>\n",
       "    <tr>\n",
       "      <th>800000</th>\n",
       "      <td>4</td>\n",
       "      <td>I LOVE @Health4UandPets u guys r the best!!</td>\n",
       "    </tr>\n",
       "    <tr>\n",
       "      <th>800001</th>\n",
       "      <td>4</td>\n",
       "      <td>im meeting up with one of my besties tonight! Cant wait!!  - GIRL TALK!!</td>\n",
       "    </tr>\n",
       "    <tr>\n",
       "      <th>800002</th>\n",
       "      <td>4</td>\n",
       "      <td>@DaRealSunisaKim Thanks for the Twitter add, Sunisa! I got to meet you once at a HIN show here in the DC area and you were a sweetheart.</td>\n",
       "    </tr>\n",
       "    <tr>\n",
       "      <th>800003</th>\n",
       "      <td>4</td>\n",
       "      <td>Being sick can be really cheap when it hurts too much to eat real food  Plus, your friends make you soup</td>\n",
       "    </tr>\n",
       "    <tr>\n",
       "      <th>800004</th>\n",
       "      <td>4</td>\n",
       "      <td>@LovesBrooklyn2 he has that effect on everyone</td>\n",
       "    </tr>\n",
       "  </tbody>\n",
       "</table>\n",
       "</div>"
      ],
      "text/plain": [
       "        polarity  \\\n",
       "800000         4   \n",
       "800001         4   \n",
       "800002         4   \n",
       "800003         4   \n",
       "800004         4   \n",
       "\n",
       "                                                                                                                                             text  \n",
       "800000                                                                                               I LOVE @Health4UandPets u guys r the best!!   \n",
       "800001                                                                   im meeting up with one of my besties tonight! Cant wait!!  - GIRL TALK!!  \n",
       "800002  @DaRealSunisaKim Thanks for the Twitter add, Sunisa! I got to meet you once at a HIN show here in the DC area and you were a sweetheart.   \n",
       "800003                                   Being sick can be really cheap when it hurts too much to eat real food  Plus, your friends make you soup  \n",
       "800004                                                                                            @LovesBrooklyn2 he has that effect on everyone   "
      ]
     },
     "execution_count": 5,
     "metadata": {},
     "output_type": "execute_result"
    }
   ],
   "source": [
    "df = pd.read_csv(train_data_path.__str__(), header=None, usecols=[0, 5], encoding='latin1')\n",
    "df.columns = ['polarity', 'text']\n",
    "df[df[\"polarity\"] == 0].head()\n",
    "df[df[\"polarity\"] == 4].head()"
   ]
  },
  {
   "cell_type": "code",
   "execution_count": 6,
   "metadata": {},
   "outputs": [
    {
     "data": {
      "text/plain": [
       "4    800000\n",
       "0    800000\n",
       "Name: polarity, dtype: int64"
      ]
     },
     "execution_count": 6,
     "metadata": {},
     "output_type": "execute_result"
    }
   ],
   "source": [
    "df.polarity.value_counts()"
   ]
  },
  {
   "cell_type": "code",
   "execution_count": 7,
   "metadata": {},
   "outputs": [],
   "source": [
    "CRLF_RE = re.compile(r'[\\s\\u3000]+')\n",
    "RETWEET_RE = re.compile(r'^[rR][tT]')\n",
    "HASHING_RE = re.compile(r'#[^\\s]+')\n",
    "MENTION_RE = re.compile(r'@[a-zA-Z0-9_]+:?')\n",
    "URL_RE = re.compile(r'(?:url\\s*)?(?:https?://|\\w*\\.\\w+\\.\\w+)(?:[a-zA-Z]|[0-9]|[$-_@.&+]|[!*\\(\\)…,]|[\\u4E00-\\u9FD0]|[あ-ん]|[\\u30A1-\\u30F4]|(?:%[0-9a-fA-F][0-9a-fA-F]))+')\n",
    "TWEETLINK_RE = re.compile(r't.co/[a-zA-Z0-9]+')\n",
    "PIC_TWITTER_RE = re.compile(r'pic.twitter.com/.+')\n",
    "\n",
    "def clean(text, lang=None, retweet=False):\n",
    "    try:\n",
    "        if retweet:\n",
    "            text = RETWEET_RE.sub('', text)\n",
    "        elif RETWEET_RE.match(text):\n",
    "            return None\n",
    "\n",
    "        text = unicodedata.normalize('NFKC', text)\n",
    "        text = CRLF_RE.sub(' ', text)\n",
    "        # text = HASHING_RE.sub('', text)\n",
    "        text = text.replace('#', '')\n",
    "        text = MENTION_RE.sub('', text)\n",
    "        text = URL_RE.sub('', text)\n",
    "        text = TWEETLINK_RE.sub('', text)\n",
    "        text = PIC_TWITTER_RE.sub('', text)\n",
    "        text = text.strip()\n",
    "        if text:\n",
    "            return text\n",
    "        else:\n",
    "            return None\n",
    "    except Exception:\n",
    "        return None"
   ]
  },
  {
   "cell_type": "code",
   "execution_count": 8,
   "metadata": {},
   "outputs": [],
   "source": [
    "df[\"clean_text\"] = df.apply(lambda row: clean(row.text), axis=1)"
   ]
  },
  {
   "cell_type": "code",
   "execution_count": 9,
   "metadata": {},
   "outputs": [],
   "source": [
    "df.dropna(subset=[\"clean_text\"], inplace=True)\n",
    "df.drop_duplicates(subset=[\"clean_text\"], inplace=True)"
   ]
  },
  {
   "cell_type": "code",
   "execution_count": 10,
   "metadata": {},
   "outputs": [
    {
     "data": {
      "text/plain": [
       "103821369"
      ]
     },
     "execution_count": 10,
     "metadata": {},
     "output_type": "execute_result"
    }
   ],
   "source": [
    "n_chars = sum(len(text) for text in df.clean_text.values)\n",
    "n_chars"
   ]
  },
  {
   "cell_type": "code",
   "execution_count": 11,
   "metadata": {},
   "outputs": [],
   "source": [
    "n_percentage_in_monthly_budget = 200000/110/(n_chars*20/1000000)"
   ]
  },
  {
   "cell_type": "code",
   "execution_count": 12,
   "metadata": {},
   "outputs": [
    {
     "data": {
      "text/plain": [
       "114203.5059"
      ]
     },
     "execution_count": 12,
     "metadata": {},
     "output_type": "execute_result"
    }
   ],
   "source": [
    "bugget_for_half_of_budget = (n_chars/2)*20/1000000*110\n",
    "bugget_for_half_of_budget"
   ]
  },
  {
   "cell_type": "code",
   "execution_count": 13,
   "metadata": {},
   "outputs": [
    {
     "data": {
      "text/plain": [
       "51910684.5"
      ]
     },
     "execution_count": 13,
     "metadata": {},
     "output_type": "execute_result"
    }
   ],
   "source": [
    "limit = (n_chars/2)\n",
    "limit"
   ]
  },
  {
   "cell_type": "code",
   "execution_count": 14,
   "metadata": {},
   "outputs": [
    {
     "data": {
      "text/plain": [
       "0    779677\n",
       "4    769731\n",
       "Name: polarity, dtype: int64"
      ]
     },
     "execution_count": 14,
     "metadata": {},
     "output_type": "execute_result"
    }
   ],
   "source": [
    "df.polarity.value_counts()"
   ]
  },
  {
   "cell_type": "code",
   "execution_count": 15,
   "metadata": {},
   "outputs": [
    {
     "data": {
      "text/html": [
       "<div>\n",
       "<style scoped>\n",
       "    .dataframe tbody tr th:only-of-type {\n",
       "        vertical-align: middle;\n",
       "    }\n",
       "\n",
       "    .dataframe tbody tr th {\n",
       "        vertical-align: top;\n",
       "    }\n",
       "\n",
       "    .dataframe thead th {\n",
       "        text-align: right;\n",
       "    }\n",
       "</style>\n",
       "<table border=\"1\" class=\"dataframe\">\n",
       "  <thead>\n",
       "    <tr style=\"text-align: right;\">\n",
       "      <th></th>\n",
       "      <th>polarity</th>\n",
       "      <th>text</th>\n",
       "      <th>clean_text</th>\n",
       "    </tr>\n",
       "  </thead>\n",
       "  <tbody>\n",
       "    <tr>\n",
       "      <th>0</th>\n",
       "      <td>0</td>\n",
       "      <td>@switchfoot http://twitpic.com/2y1zl - Awww, that's a bummer.  You shoulda got David Carr of Third Day to do it. ;D</td>\n",
       "      <td>- Awww, that's a bummer. You shoulda got David Carr of Third Day to do it. ;D</td>\n",
       "    </tr>\n",
       "    <tr>\n",
       "      <th>1</th>\n",
       "      <td>0</td>\n",
       "      <td>is upset that he can't update his Facebook by texting it... and might cry as a result  School today also. Blah!</td>\n",
       "      <td>is upset that he can't update his Facebook by texting it... and might cry as a result School today also. Blah!</td>\n",
       "    </tr>\n",
       "    <tr>\n",
       "      <th>2</th>\n",
       "      <td>0</td>\n",
       "      <td>@Kenichan I dived many times for the ball. Managed to save 50%  The rest go out of bounds</td>\n",
       "      <td>I dived many times for the ball. Managed to save 50% The rest go out of bounds</td>\n",
       "    </tr>\n",
       "    <tr>\n",
       "      <th>3</th>\n",
       "      <td>0</td>\n",
       "      <td>my whole body feels itchy and like its on fire</td>\n",
       "      <td>my whole body feels itchy and like its on fire</td>\n",
       "    </tr>\n",
       "    <tr>\n",
       "      <th>4</th>\n",
       "      <td>0</td>\n",
       "      <td>@nationwideclass no, it's not behaving at all. i'm mad. why am i here? because I can't see you all over there.</td>\n",
       "      <td>no, it's not behaving at all. i'm mad. why am i here? because I can't see you all over there.</td>\n",
       "    </tr>\n",
       "  </tbody>\n",
       "</table>\n",
       "</div>"
      ],
      "text/plain": [
       "   polarity  \\\n",
       "0         0   \n",
       "1         0   \n",
       "2         0   \n",
       "3         0   \n",
       "4         0   \n",
       "\n",
       "                                                                                                                  text  \\\n",
       "0  @switchfoot http://twitpic.com/2y1zl - Awww, that's a bummer.  You shoulda got David Carr of Third Day to do it. ;D   \n",
       "1      is upset that he can't update his Facebook by texting it... and might cry as a result  School today also. Blah!   \n",
       "2                            @Kenichan I dived many times for the ball. Managed to save 50%  The rest go out of bounds   \n",
       "3                                                                      my whole body feels itchy and like its on fire    \n",
       "4      @nationwideclass no, it's not behaving at all. i'm mad. why am i here? because I can't see you all over there.    \n",
       "\n",
       "                                                                                                       clean_text  \n",
       "0                                   - Awww, that's a bummer. You shoulda got David Carr of Third Day to do it. ;D  \n",
       "1  is upset that he can't update his Facebook by texting it... and might cry as a result School today also. Blah!  \n",
       "2                                  I dived many times for the ball. Managed to save 50% The rest go out of bounds  \n",
       "3                                                                  my whole body feels itchy and like its on fire  \n",
       "4                   no, it's not behaving at all. i'm mad. why am i here? because I can't see you all over there.  "
      ]
     },
     "execution_count": 15,
     "metadata": {},
     "output_type": "execute_result"
    },
    {
     "data": {
      "text/html": [
       "<div>\n",
       "<style scoped>\n",
       "    .dataframe tbody tr th:only-of-type {\n",
       "        vertical-align: middle;\n",
       "    }\n",
       "\n",
       "    .dataframe tbody tr th {\n",
       "        vertical-align: top;\n",
       "    }\n",
       "\n",
       "    .dataframe thead th {\n",
       "        text-align: right;\n",
       "    }\n",
       "</style>\n",
       "<table border=\"1\" class=\"dataframe\">\n",
       "  <thead>\n",
       "    <tr style=\"text-align: right;\">\n",
       "      <th></th>\n",
       "      <th>polarity</th>\n",
       "      <th>text</th>\n",
       "      <th>clean_text</th>\n",
       "    </tr>\n",
       "  </thead>\n",
       "  <tbody>\n",
       "    <tr>\n",
       "      <th>800000</th>\n",
       "      <td>4</td>\n",
       "      <td>I LOVE @Health4UandPets u guys r the best!!</td>\n",
       "      <td>I LOVE  u guys r the best!!</td>\n",
       "    </tr>\n",
       "    <tr>\n",
       "      <th>800001</th>\n",
       "      <td>4</td>\n",
       "      <td>im meeting up with one of my besties tonight! Cant wait!!  - GIRL TALK!!</td>\n",
       "      <td>im meeting up with one of my besties tonight! Cant wait!! - GIRL TALK!!</td>\n",
       "    </tr>\n",
       "    <tr>\n",
       "      <th>800002</th>\n",
       "      <td>4</td>\n",
       "      <td>@DaRealSunisaKim Thanks for the Twitter add, Sunisa! I got to meet you once at a HIN show here in the DC area and you were a sweetheart.</td>\n",
       "      <td>Thanks for the Twitter add, Sunisa! I got to meet you once at a HIN show here in the DC area and you were a sweetheart.</td>\n",
       "    </tr>\n",
       "    <tr>\n",
       "      <th>800003</th>\n",
       "      <td>4</td>\n",
       "      <td>Being sick can be really cheap when it hurts too much to eat real food  Plus, your friends make you soup</td>\n",
       "      <td>Being sick can be really cheap when it hurts too much to eat real food Plus, your friends make you soup</td>\n",
       "    </tr>\n",
       "    <tr>\n",
       "      <th>800004</th>\n",
       "      <td>4</td>\n",
       "      <td>@LovesBrooklyn2 he has that effect on everyone</td>\n",
       "      <td>he has that effect on everyone</td>\n",
       "    </tr>\n",
       "  </tbody>\n",
       "</table>\n",
       "</div>"
      ],
      "text/plain": [
       "        polarity  \\\n",
       "800000         4   \n",
       "800001         4   \n",
       "800002         4   \n",
       "800003         4   \n",
       "800004         4   \n",
       "\n",
       "                                                                                                                                             text  \\\n",
       "800000                                                                                               I LOVE @Health4UandPets u guys r the best!!    \n",
       "800001                                                                   im meeting up with one of my besties tonight! Cant wait!!  - GIRL TALK!!   \n",
       "800002  @DaRealSunisaKim Thanks for the Twitter add, Sunisa! I got to meet you once at a HIN show here in the DC area and you were a sweetheart.    \n",
       "800003                                   Being sick can be really cheap when it hurts too much to eat real food  Plus, your friends make you soup   \n",
       "800004                                                                                            @LovesBrooklyn2 he has that effect on everyone    \n",
       "\n",
       "                                                                                                                     clean_text  \n",
       "800000                                                                                              I LOVE  u guys r the best!!  \n",
       "800001                                                  im meeting up with one of my besties tonight! Cant wait!! - GIRL TALK!!  \n",
       "800002  Thanks for the Twitter add, Sunisa! I got to meet you once at a HIN show here in the DC area and you were a sweetheart.  \n",
       "800003                  Being sick can be really cheap when it hurts too much to eat real food Plus, your friends make you soup  \n",
       "800004                                                                                           he has that effect on everyone  "
      ]
     },
     "execution_count": 15,
     "metadata": {},
     "output_type": "execute_result"
    }
   ],
   "source": [
    "neg_df = df[df[\"polarity\"] == 0][:400000]\n",
    "pos_df = df[df[\"polarity\"] == 4][:400000]\n",
    "neg_df.head()\n",
    "pos_df.head()"
   ]
  },
  {
   "cell_type": "code",
   "execution_count": 16,
   "metadata": {},
   "outputs": [
    {
     "data": {
      "text/plain": [
       "117721.2432"
      ]
     },
     "execution_count": 16,
     "metadata": {},
     "output_type": "execute_result"
    }
   ],
   "source": [
    "neg_budget = sum(len(text) for text in neg_df.clean_text.values)*20/1000000*110\n",
    "pos_budget = sum(len(text) for text in pos_df.clean_text.values)*20/1000000*110\n",
    "budget = neg_budget + pos_budget\n",
    "budget"
   ]
  },
  {
   "cell_type": "code",
   "execution_count": null,
   "metadata": {},
   "outputs": [],
   "source": []
  },
  {
   "cell_type": "code",
   "execution_count": 17,
   "metadata": {},
   "outputs": [
    {
     "data": {
      "text/plain": [
       "<module 'gctranslate' from '/root/ELSA/dataset/sentiment140/gctranslate.py'>"
      ]
     },
     "execution_count": 17,
     "metadata": {},
     "output_type": "execute_result"
    }
   ],
   "source": [
    "import gctranslate as gct\n",
    "importlib.reload(gct)\n",
    "\n",
    "translator = gct.GCTranslate(cache_path='./gctcache.sqlite3')"
   ]
  },
  {
   "cell_type": "code",
   "execution_count": 18,
   "metadata": {},
   "outputs": [],
   "source": [
    "src = \"en\"\n",
    "tgt = \"ar\"\n",
    "\n",
    "translated_neg_text = []\n",
    "translated_pos_text = []\n",
    "\n",
    "total_chars = 0"
   ]
  },
  {
   "cell_type": "code",
   "execution_count": 19,
   "metadata": {},
   "outputs": [
    {
     "data": {
      "application/vnd.jupyter.widget-view+json": {
       "model_id": "763d47c63ed14952851a4d73af56cd74",
       "version_major": 2,
       "version_minor": 0
      },
      "text/plain": [
       "HBox(children=(IntProgress(value=0, max=400000), HTML(value='')))"
      ]
     },
     "metadata": {},
     "output_type": "display_data"
    },
    {
     "name": "stdout",
     "output_type": "stream",
     "text": [
      "\n"
     ]
    }
   ],
   "source": [
    "i = 0\n",
    "pbar = tqdm(neg_df.clean_text.values)\n",
    "for text in pbar:\n",
    "    try:\n",
    "        translated = translator.translate(text, tgt, src)\n",
    "        translated_neg_text.append(translated)\n",
    "    except:\n",
    "        translated_neg_text.append(None)\n",
    "        traceback.print_exc()\n",
    "    total_chars += len(text)\n",
    "    if i % 100 == 0:\n",
    "        pbar.set_postfix(total_chars=str(total_chars))\n",
    "    i += 1"
   ]
  },
  {
   "cell_type": "code",
   "execution_count": null,
   "metadata": {},
   "outputs": [],
   "source": [
    "len(translated_pos_text)"
   ]
  },
  {
   "cell_type": "code",
   "execution_count": null,
   "metadata": {},
   "outputs": [
    {
     "data": {
      "application/vnd.jupyter.widget-view+json": {
       "model_id": "6640ec39c8e84440a6ad9c23381a0d0b",
       "version_major": 2,
       "version_minor": 0
      },
      "text/plain": [
       "HBox(children=(IntProgress(value=0, max=400000), HTML(value='')))"
      ]
     },
     "metadata": {},
     "output_type": "display_data"
    },
    {
     "name": "stderr",
     "output_type": "stream",
     "text": [
      "Traceback (most recent call last):\n",
      "  File \"/usr/local/lib/python3.6/dist-packages/urllib3/connectionpool.py\", line 379, in _make_request\n",
      "    httplib_response = conn.getresponse(buffering=True)\n",
      "TypeError: getresponse() got an unexpected keyword argument 'buffering'\n",
      "\n",
      "During handling of the above exception, another exception occurred:\n",
      "\n",
      "Traceback (most recent call last):\n",
      "  File \"<ipython-input-20-49dbc3cda2c0>\", line 5, in <module>\n",
      "    translated = translator.translate(text, tgt, src)\n",
      "  File \"/root/ELSA/dataset/sentiment140/gctranslate.py\", line 56, in translate\n",
      "    translatedText = self.google_cloud_translate(inp, tgt, src, model)\n",
      "  File \"/root/ELSA/dataset/sentiment140/gctranslate.py\", line 80, in google_cloud_translate\n",
      "    inp, target_language=tgt, source_language=src, model=model)\n",
      "  File \"/usr/local/lib/python3.6/dist-packages/google/cloud/translate_v2/client.py\", line 252, in translate\n",
      "    response = self._connection.api_request(method=\"POST\", path=\"\", data=data)\n",
      "  File \"/usr/local/lib/python3.6/dist-packages/google/cloud/_http.py\", line 392, in api_request\n",
      "    target_object=_target_object,\n",
      "  File \"/usr/local/lib/python3.6/dist-packages/google/cloud/_http.py\", line 269, in _make_request\n",
      "    return self._do_request(method, url, headers, data, target_object)\n",
      "  File \"/usr/local/lib/python3.6/dist-packages/google/cloud/_http.py\", line 298, in _do_request\n",
      "    return self.http.request(url=url, method=method, headers=headers, data=data)\n",
      "  File \"/usr/local/lib/python3.6/dist-packages/google/auth/transport/requests.py\", line 208, in request\n",
      "    method, url, data=data, headers=request_headers, **kwargs)\n",
      "  File \"/usr/local/lib/python3.6/dist-packages/requests/sessions.py\", line 533, in request\n",
      "    resp = self.send(prep, **send_kwargs)\n",
      "  File \"/usr/local/lib/python3.6/dist-packages/requests/sessions.py\", line 646, in send\n",
      "    r = adapter.send(request, **kwargs)\n",
      "  File \"/usr/local/lib/python3.6/dist-packages/requests/adapters.py\", line 449, in send\n",
      "    timeout=timeout\n",
      "  File \"/usr/local/lib/python3.6/dist-packages/urllib3/connectionpool.py\", line 603, in urlopen\n",
      "    chunked=chunked)\n",
      "  File \"/usr/local/lib/python3.6/dist-packages/urllib3/connectionpool.py\", line 383, in _make_request\n",
      "    httplib_response = conn.getresponse()\n",
      "  File \"/usr/lib/python3.6/http/client.py\", line 1331, in getresponse\n",
      "    response.begin()\n",
      "  File \"/usr/lib/python3.6/http/client.py\", line 297, in begin\n",
      "    version, status, reason = self._read_status()\n",
      "  File \"/usr/lib/python3.6/http/client.py\", line 258, in _read_status\n",
      "    line = str(self.fp.readline(_MAXLINE + 1), \"iso-8859-1\")\n",
      "  File \"/usr/lib/python3.6/socket.py\", line 586, in readinto\n",
      "    return self._sock.recv_into(b)\n",
      "  File \"/usr/lib/python3.6/ssl.py\", line 1012, in recv_into\n",
      "    return self.read(nbytes, buffer)\n",
      "  File \"/usr/lib/python3.6/ssl.py\", line 874, in read\n",
      "    return self._sslobj.read(len, buffer)\n",
      "  File \"/usr/lib/python3.6/ssl.py\", line 631, in read\n",
      "    v = self._sslobj.read(len, buffer)\n",
      "KeyboardInterrupt\n"
     ]
    }
   ],
   "source": [
    "i = 0\n",
    "pbar = tqdm(pos_df.clean_text.values)\n",
    "for text in pbar:\n",
    "    try:\n",
    "        translated = translator.translate(text, tgt, src)\n",
    "        translated_pos_text.append(translated)\n",
    "    except:\n",
    "        translated_pos_text.append(None)\n",
    "        traceback.print_exc()\n",
    "    total_chars += len(text)\n",
    "    if i % 100 == 0:\n",
    "        pbar.set_postfix(total_chars=str(total_chars))\n",
    "    i += 1"
   ]
  }
 ],
 "metadata": {
  "kernelspec": {
   "display_name": "Python 3",
   "language": "python",
   "name": "python3"
  },
  "language_info": {
   "codemirror_mode": {
    "name": "ipython",
    "version": 3
   },
   "file_extension": ".py",
   "mimetype": "text/x-python",
   "name": "python",
   "nbconvert_exporter": "python",
   "pygments_lexer": "ipython3",
   "version": "3.6.7"
  }
 },
 "nbformat": 4,
 "nbformat_minor": 2
}
