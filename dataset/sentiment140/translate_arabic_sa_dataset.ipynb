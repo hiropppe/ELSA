{
 "cells": [
  {
   "cell_type": "code",
   "execution_count": 1,
   "metadata": {},
   "outputs": [],
   "source": [
    "from IPython.core.interactiveshell import InteractiveShell\n",
    "InteractiveShell.ast_node_interactivity = \"all\""
   ]
  },
  {
   "cell_type": "code",
   "execution_count": 2,
   "metadata": {},
   "outputs": [],
   "source": [
    "import importlib\n",
    "import json\n",
    "import os\n",
    "import pandas as pd\n",
    "import sys\n",
    "\n",
    "from pathlib import Path\n",
    "from tqdm import tqdm_notebook as tqdm"
   ]
  },
  {
   "cell_type": "code",
   "execution_count": 3,
   "metadata": {},
   "outputs": [],
   "source": [
    "os.environ['CUDA_VISIBLE_DEVICES'] = \"2\""
   ]
  },
  {
   "cell_type": "code",
   "execution_count": 4,
   "metadata": {},
   "outputs": [],
   "source": [
    "data_dir = Path(\"/data/arabic_sa_tweets/\")"
   ]
  },
  {
   "cell_type": "code",
   "execution_count": 5,
   "metadata": {},
   "outputs": [],
   "source": [
    "ar_texts, labels  = [], [] \n",
    "for path in data_dir.glob(\"*.txt\"):\n",
    "    try:\n",
    "        ar_texts.append(open(path).read().strip())\n",
    "    except UnicodeDecodeError:\n",
    "        ar_texts.append(open(path, encoding=\"latin1\").read().strip())        \n",
    "    if path.name.startswith(\"neg\"):\n",
    "        labels.append(0)\n",
    "    else:\n",
    "        labels.append(1)"
   ]
  },
  {
   "cell_type": "code",
   "execution_count": 6,
   "metadata": {},
   "outputs": [
    {
     "data": {
      "text/plain": [
       "'/data/arabic_sa_tweets/negative234.txt'"
      ]
     },
     "execution_count": 6,
     "metadata": {},
     "output_type": "execute_result"
    },
    {
     "data": {
      "text/plain": [
       "'/data/arabic_sa_tweets/negative294.txt'"
      ]
     },
     "execution_count": 6,
     "metadata": {},
     "output_type": "execute_result"
    },
    {
     "data": {
      "text/plain": [
       "'/data/arabic_sa_tweets/negative352.txt'"
      ]
     },
     "execution_count": 6,
     "metadata": {},
     "output_type": "execute_result"
    },
    {
     "data": {
      "text/plain": [
       "'/data/arabic_sa_tweets/negative473.txt'"
      ]
     },
     "execution_count": 6,
     "metadata": {},
     "output_type": "execute_result"
    }
   ],
   "source": [
    "for i, t in enumerate(ar_texts):\n",
    "    if not t.strip():\n",
    "        list(data_dir.glob(\"*.txt\"))[i].__str__()"
   ]
  },
  {
   "cell_type": "code",
   "execution_count": 7,
   "metadata": {},
   "outputs": [
    {
     "data": {
      "text/plain": [
       "<module 'gctranslate' from '/root/ELSA/dataset/sentiment140/gctranslate.py'>"
      ]
     },
     "execution_count": 7,
     "metadata": {},
     "output_type": "execute_result"
    }
   ],
   "source": [
    "import gctranslate as gct\n",
    "importlib.reload(gct)\n",
    "\n",
    "translator = gct.GCTranslate(cache_path='./gctcache.sqlite3')"
   ]
  },
  {
   "cell_type": "code",
   "execution_count": 8,
   "metadata": {},
   "outputs": [],
   "source": [
    "src = \"ar\"\n",
    "tgt = \"en\"\n",
    "\n",
    "en_texts = []\n",
    "\n",
    "total_chars = 0"
   ]
  },
  {
   "cell_type": "code",
   "execution_count": 9,
   "metadata": {},
   "outputs": [
    {
     "data": {
      "application/vnd.jupyter.widget-view+json": {
       "model_id": "9db303c9f6404b2b9edd2a2900dc25cd",
       "version_major": 2,
       "version_minor": 0
      },
      "text/plain": [
       "HBox(children=(IntProgress(value=0, max=2000), HTML(value='')))"
      ]
     },
     "metadata": {},
     "output_type": "display_data"
    },
    {
     "name": "stdout",
     "output_type": "stream",
     "text": [
      "\n"
     ]
    }
   ],
   "source": [
    "i = 0\n",
    "pbar = tqdm(ar_texts)\n",
    "for text in pbar:\n",
    "    try:\n",
    "        translated = translator.translate(text, tgt, src)\n",
    "        en_texts.append(translated)\n",
    "    except:\n",
    "        en_texts.append(None)\n",
    "        traceback.print_exc()\n",
    "    total_chars += len(text)\n",
    "    if i % 100 == 0:\n",
    "        pbar.set_postfix(total_chars=str(total_chars))\n",
    "    i += 1"
   ]
  },
  {
   "cell_type": "code",
   "execution_count": 10,
   "metadata": {},
   "outputs": [
    {
     "data": {
      "text/plain": [
       "<module 'word_generator' from '../../script/word_generator.py'>"
      ]
     },
     "execution_count": 10,
     "metadata": {},
     "output_type": "execute_result"
    }
   ],
   "source": [
    "sys.path.append(\"../../script/\")\n",
    "import word_generator as wg\n",
    "importlib.reload(wg)"
   ]
  },
  {
   "cell_type": "code",
   "execution_count": 11,
   "metadata": {},
   "outputs": [],
   "source": [
    "def tokenize(texts, tokenizer):\n",
    "    tokenized_texts = []\n",
    "    for text in tqdm(texts):\n",
    "        try:\n",
    "            tokenized_texts.append(json.dumps([tokenizer.tokenize(text)]))\n",
    "        except KeyboardInterrupt:\n",
    "            break\n",
    "        except:\n",
    "            tokenized_texts.append(None)\n",
    "    return tokenized_texts"
   ]
  },
  {
   "cell_type": "code",
   "execution_count": 12,
   "metadata": {},
   "outputs": [
    {
     "name": "stdout",
     "output_type": "stream",
     "text": [
      "Use device: gpu\n",
      "---\n",
      "Loading: tokenize\n",
      "With settings: \n",
      "{'model_path': '/data/stanfordnlp_resources/ar_padt_models/ar_padt_tokenizer.pt', 'lang': 'ar', 'shorthand': 'ar_padt', 'mode': 'predict'}\n",
      "---\n",
      "Loading: mwt\n",
      "With settings: \n",
      "{'model_path': '/data/stanfordnlp_resources/ar_padt_models/ar_padt_mwt_expander.pt', 'lang': 'ar', 'shorthand': 'ar_padt', 'mode': 'predict'}\n",
      "Building an attentional Seq2Seq model...\n",
      "Using a Bi-LSTM encoder\n",
      "Using soft attention for LSTM.\n",
      "Finetune all embeddings.\n",
      "Done loading processors!\n",
      "---\n"
     ]
    }
   ],
   "source": [
    "ar_tokenizer = wg.get_default_tokenizer(\"ar\")\n",
    "en_tokenizer = wg.get_default_tokenizer(\"en\")"
   ]
  },
  {
   "cell_type": "code",
   "execution_count": 13,
   "metadata": {},
   "outputs": [
    {
     "data": {
      "application/vnd.jupyter.widget-view+json": {
       "model_id": "480fc57a43df4b17b78c2f5b8daf03da",
       "version_major": 2,
       "version_minor": 0
      },
      "text/plain": [
       "HBox(children=(IntProgress(value=0, max=2000), HTML(value='')))"
      ]
     },
     "metadata": {},
     "output_type": "display_data"
    },
    {
     "name": "stdout",
     "output_type": "stream",
     "text": [
      "\n"
     ]
    },
    {
     "data": {
      "application/vnd.jupyter.widget-view+json": {
       "model_id": "bfee99345b8f43b0a6449d6297950611",
       "version_major": 2,
       "version_minor": 0
      },
      "text/plain": [
       "HBox(children=(IntProgress(value=0, max=2000), HTML(value='')))"
      ]
     },
     "metadata": {},
     "output_type": "display_data"
    },
    {
     "name": "stdout",
     "output_type": "stream",
     "text": [
      "\n"
     ]
    }
   ],
   "source": [
    "ar_tokens = tokenize(ar_texts, ar_tokenizer)\n",
    "en_tokens = tokenize(en_texts, en_tokenizer)"
   ]
  },
  {
   "cell_type": "code",
   "execution_count": 14,
   "metadata": {},
   "outputs": [],
   "source": [
    "ar_en_df = pd.DataFrame({\"label\": labels, \"ar\": ar_tokens, \"en\": en_tokens})"
   ]
  },
  {
   "cell_type": "code",
   "execution_count": 15,
   "metadata": {},
   "outputs": [
    {
     "data": {
      "text/html": [
       "<div>\n",
       "<style scoped>\n",
       "    .dataframe tbody tr th:only-of-type {\n",
       "        vertical-align: middle;\n",
       "    }\n",
       "\n",
       "    .dataframe tbody tr th {\n",
       "        vertical-align: top;\n",
       "    }\n",
       "\n",
       "    .dataframe thead th {\n",
       "        text-align: right;\n",
       "    }\n",
       "</style>\n",
       "<table border=\"1\" class=\"dataframe\">\n",
       "  <thead>\n",
       "    <tr style=\"text-align: right;\">\n",
       "      <th></th>\n",
       "      <th>label</th>\n",
       "      <th>ar</th>\n",
       "      <th>en</th>\n",
       "    </tr>\n",
       "  </thead>\n",
       "  <tbody>\n",
       "    <tr>\n",
       "      <th>1151</th>\n",
       "      <td>0</td>\n",
       "      <td>None</td>\n",
       "      <td>[[]]</td>\n",
       "    </tr>\n",
       "    <tr>\n",
       "      <th>1217</th>\n",
       "      <td>0</td>\n",
       "      <td>None</td>\n",
       "      <td>[[]]</td>\n",
       "    </tr>\n",
       "    <tr>\n",
       "      <th>1282</th>\n",
       "      <td>0</td>\n",
       "      <td>None</td>\n",
       "      <td>[[]]</td>\n",
       "    </tr>\n",
       "    <tr>\n",
       "      <th>1416</th>\n",
       "      <td>0</td>\n",
       "      <td>None</td>\n",
       "      <td>[[]]</td>\n",
       "    </tr>\n",
       "  </tbody>\n",
       "</table>\n",
       "</div>"
      ],
      "text/plain": [
       "      label    ar    en\n",
       "1151      0  None  [[]]\n",
       "1217      0  None  [[]]\n",
       "1282      0  None  [[]]\n",
       "1416      0  None  [[]]"
      ]
     },
     "execution_count": 15,
     "metadata": {},
     "output_type": "execute_result"
    }
   ],
   "source": [
    "ar_en_df[ar_en_df.isnull().any(axis=1)]"
   ]
  },
  {
   "cell_type": "code",
   "execution_count": 16,
   "metadata": {},
   "outputs": [
    {
     "data": {
      "text/plain": [
       "(2000, 3)"
      ]
     },
     "execution_count": 16,
     "metadata": {},
     "output_type": "execute_result"
    },
    {
     "data": {
      "text/plain": [
       "(1996, 3)"
      ]
     },
     "execution_count": 16,
     "metadata": {},
     "output_type": "execute_result"
    },
    {
     "data": {
      "text/html": [
       "<div>\n",
       "<style scoped>\n",
       "    .dataframe tbody tr th:only-of-type {\n",
       "        vertical-align: middle;\n",
       "    }\n",
       "\n",
       "    .dataframe tbody tr th {\n",
       "        vertical-align: top;\n",
       "    }\n",
       "\n",
       "    .dataframe thead th {\n",
       "        text-align: right;\n",
       "    }\n",
       "</style>\n",
       "<table border=\"1\" class=\"dataframe\">\n",
       "  <thead>\n",
       "    <tr style=\"text-align: right;\">\n",
       "      <th></th>\n",
       "      <th>label</th>\n",
       "      <th>ar</th>\n",
       "      <th>en</th>\n",
       "    </tr>\n",
       "  </thead>\n",
       "  <tbody>\n",
       "    <tr>\n",
       "      <th>1000</th>\n",
       "      <td>0</td>\n",
       "      <td>[[\"\\ufeff\\u0648\", \"\\u0627\\u0644\\u0644\\u0647\", ...</td>\n",
       "      <td>[[\"And\", \"Allah\", \"is\", \"haraam\", \"and\", \"Alla...</td>\n",
       "    </tr>\n",
       "    <tr>\n",
       "      <th>1001</th>\n",
       "      <td>0</td>\n",
       "      <td>[[\"\\u062f\\u0627\\u0644\\u0628\\u0646\\u0632\\u064a\\...</td>\n",
       "      <td>[[\"Gasoline\", \"comes\", \"from\", \"Saudi\", \"Arabi...</td>\n",
       "    </tr>\n",
       "    <tr>\n",
       "      <th>1002</th>\n",
       "      <td>0</td>\n",
       "      <td>[[\"\\u0627\\u0644\\u0644\\u0647\", \"\\u064a\\u0648\\u0...</td>\n",
       "      <td>[[\"God\", \"takes\", \"you\"]]</td>\n",
       "    </tr>\n",
       "    <tr>\n",
       "      <th>1003</th>\n",
       "      <td>0</td>\n",
       "      <td>[[\"\\u0634\\u0648\", \"\\u0647\\u0627\\u062f\", \"\\u062...</td>\n",
       "      <td>[[\"Shoo\", \"Had\", \"a\", \"reasonable\", \"program\",...</td>\n",
       "    </tr>\n",
       "    <tr>\n",
       "      <th>1004</th>\n",
       "      <td>0</td>\n",
       "      <td>[[\"\\ufeff\\u0644\\u0644\\u0623\\u0633\\u0641\", \"\\u0...</td>\n",
       "      <td>[[\"Unfortunately\", \",\", \"some\", \"believe\", \"th...</td>\n",
       "    </tr>\n",
       "  </tbody>\n",
       "</table>\n",
       "</div>"
      ],
      "text/plain": [
       "      label                                                 ar  \\\n",
       "1000      0  [[\"\\ufeff\\u0648\", \"\\u0627\\u0644\\u0644\\u0647\", ...   \n",
       "1001      0  [[\"\\u062f\\u0627\\u0644\\u0628\\u0646\\u0632\\u064a\\...   \n",
       "1002      0  [[\"\\u0627\\u0644\\u0644\\u0647\", \"\\u064a\\u0648\\u0...   \n",
       "1003      0  [[\"\\u0634\\u0648\", \"\\u0647\\u0627\\u062f\", \"\\u062...   \n",
       "1004      0  [[\"\\ufeff\\u0644\\u0644\\u0623\\u0633\\u0641\", \"\\u0...   \n",
       "\n",
       "                                                     en  \n",
       "1000  [[\"And\", \"Allah\", \"is\", \"haraam\", \"and\", \"Alla...  \n",
       "1001  [[\"Gasoline\", \"comes\", \"from\", \"Saudi\", \"Arabi...  \n",
       "1002                          [[\"God\", \"takes\", \"you\"]]  \n",
       "1003  [[\"Shoo\", \"Had\", \"a\", \"reasonable\", \"program\",...  \n",
       "1004  [[\"Unfortunately\", \",\", \"some\", \"believe\", \"th...  "
      ]
     },
     "execution_count": 16,
     "metadata": {},
     "output_type": "execute_result"
    },
    {
     "data": {
      "text/html": [
       "<div>\n",
       "<style scoped>\n",
       "    .dataframe tbody tr th:only-of-type {\n",
       "        vertical-align: middle;\n",
       "    }\n",
       "\n",
       "    .dataframe tbody tr th {\n",
       "        vertical-align: top;\n",
       "    }\n",
       "\n",
       "    .dataframe thead th {\n",
       "        text-align: right;\n",
       "    }\n",
       "</style>\n",
       "<table border=\"1\" class=\"dataframe\">\n",
       "  <thead>\n",
       "    <tr style=\"text-align: right;\">\n",
       "      <th></th>\n",
       "      <th>label</th>\n",
       "      <th>ar</th>\n",
       "      <th>en</th>\n",
       "    </tr>\n",
       "  </thead>\n",
       "  <tbody>\n",
       "    <tr>\n",
       "      <th>0</th>\n",
       "      <td>1</td>\n",
       "      <td>[[\"\\ufeff\\u062d\\u0642\\u0627\"]]</td>\n",
       "      <td>[[\"Really\"]]</td>\n",
       "    </tr>\n",
       "    <tr>\n",
       "      <th>1</th>\n",
       "      <td>1</td>\n",
       "      <td>[[\"\\u0635\\u062d\", \"\\u062c\\u062f\\u0627\"]]</td>\n",
       "      <td>[[\"Very\", \"true\"]]</td>\n",
       "    </tr>\n",
       "    <tr>\n",
       "      <th>2</th>\n",
       "      <td>1</td>\n",
       "      <td>[[\"\\ufeff\\u0627\\u0647\", \"\\u0648\", \"\\u0627\\u064...</td>\n",
       "      <td>[[\"Oh\", \"and\", \"grace\"]]</td>\n",
       "    </tr>\n",
       "    <tr>\n",
       "      <th>3</th>\n",
       "      <td>1</td>\n",
       "      <td>[[\"\\u0643\\u0644\\u0627\\u0645\\u0643\", \"\\u062c\\u0...</td>\n",
       "      <td>[[\"Your\", \"words\", \"are\", \"beautiful\", \"and\", ...</td>\n",
       "    </tr>\n",
       "    <tr>\n",
       "      <th>4</th>\n",
       "      <td>1</td>\n",
       "      <td>[[\"\\ufeff\\u0648\", \"\\u062e\\u064a\\u0631\", \"\\u062...</td>\n",
       "      <td>[[\"And\", \"the\", \"best\", \"speech\", \"is\", \"what\"...</td>\n",
       "    </tr>\n",
       "  </tbody>\n",
       "</table>\n",
       "</div>"
      ],
      "text/plain": [
       "   label                                                 ar  \\\n",
       "0      1                     [[\"\\ufeff\\u062d\\u0642\\u0627\"]]   \n",
       "1      1           [[\"\\u0635\\u062d\", \"\\u062c\\u062f\\u0627\"]]   \n",
       "2      1  [[\"\\ufeff\\u0627\\u0647\", \"\\u0648\", \"\\u0627\\u064...   \n",
       "3      1  [[\"\\u0643\\u0644\\u0627\\u0645\\u0643\", \"\\u062c\\u0...   \n",
       "4      1  [[\"\\ufeff\\u0648\", \"\\u062e\\u064a\\u0631\", \"\\u062...   \n",
       "\n",
       "                                                  en  \n",
       "0                                       [[\"Really\"]]  \n",
       "1                                 [[\"Very\", \"true\"]]  \n",
       "2                           [[\"Oh\", \"and\", \"grace\"]]  \n",
       "3  [[\"Your\", \"words\", \"are\", \"beautiful\", \"and\", ...  \n",
       "4  [[\"And\", \"the\", \"best\", \"speech\", \"is\", \"what\"...  "
      ]
     },
     "execution_count": 16,
     "metadata": {},
     "output_type": "execute_result"
    }
   ],
   "source": [
    "ar_en_df = pd.DataFrame({\"label\": labels, \"ar\": ar_tokens, \"en\": en_tokens})\n",
    "ar_en_df.shape\n",
    "ar_en_df.dropna(inplace=True)\n",
    "ar_en_df.shape\n",
    "ar_en_df[ar_en_df.label == 0].head()\n",
    "ar_en_df[ar_en_df.label == 1].head()"
   ]
  },
  {
   "cell_type": "code",
   "execution_count": 17,
   "metadata": {},
   "outputs": [],
   "source": [
    "ar_en_df.to_csv((data_dir / \"uci_arabic_sa_tweets.csv\").__str__(), index=False)"
   ]
  }
 ],
 "metadata": {
  "kernelspec": {
   "display_name": "Python 3",
   "language": "python",
   "name": "python3"
  },
  "language_info": {
   "codemirror_mode": {
    "name": "ipython",
    "version": 3
   },
   "file_extension": ".py",
   "mimetype": "text/x-python",
   "name": "python",
   "nbconvert_exporter": "python",
   "pygments_lexer": "ipython3",
   "version": "3.6.7"
  }
 },
 "nbformat": 4,
 "nbformat_minor": 2
}
