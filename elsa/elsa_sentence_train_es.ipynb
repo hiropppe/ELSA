{
 "cells": [
  {
   "cell_type": "code",
   "execution_count": 1,
   "metadata": {},
   "outputs": [
    {
     "name": "stderr",
     "output_type": "stream",
     "text": [
      "Using TensorFlow backend.\n"
     ]
    }
   ],
   "source": [
    "import h5py\n",
    "import keras\n",
    "import numpy as np\n",
    "import json\n",
    "import os\n",
    "import uuid\n",
    "import yaml\n",
    "\n",
    "from attlayer import AttentionWeightedAverage\n",
    "#from avglayer import MaskAverage\n",
    "from copy import deepcopy\n",
    "#from finetuning import (sampling_generator, finetuning_callbacks)\n",
    "from operator import itemgetter\n",
    "#from global_variables import NB_TOKENS, NB_EMOJI_CLASSES\n",
    "from keras.layers import *\n",
    "from keras.layers.merge import concatenate\n",
    "from keras.layers import Input, Bidirectional, Embedding, Dense, Dropout, SpatialDropout1D, LSTM, Activation\n",
    "from keras.models import Model, Sequential\n",
    "from keras.optimizers import Adam\n",
    "from keras.regularizers import L1L2 \n",
    "from pathlib import Path\n",
    "from sklearn.metrics import classification_report, recall_score, precision_score, f1_score\n",
    "from os.path import exists"
   ]
  },
  {
   "cell_type": "code",
   "execution_count": 2,
   "metadata": {},
   "outputs": [],
   "source": [
    "def elsa_architecture(nb_classes, nb_tokens, maxlen, feature_output=False, embed_dropout_rate=0, final_dropout_rate=0, embed_dim=300,\n",
    "                    embed_l2=1E-6, return_attention=False, load_embedding=False, pre_embedding=None, high=False, LSTM_hidden=512, LSTM_drop=0.5):\n",
    "    \"\"\"\n",
    "    Returns the DeepMoji architecture uninitialized and\n",
    "    without using the pretrained model weights.\n",
    "    # Arguments:\n",
    "        nb_classes: Number of classes in the dataset.\n",
    "        nb_tokens: Number of tokens in the dataset (i.e. vocabulary size).\n",
    "        maxlen: Maximum length of a token.\n",
    "        feature_output: If True the model returns the penultimate\n",
    "                        feature vector rather than Softmax probabilities\n",
    "                        (defaults to False).\n",
    "        embed_dropout_rate: Dropout rate for the embedding layer.\n",
    "        final_dropout_rate: Dropout rate for the final Softmax layer.\n",
    "        embed_l2: L2 regularization for the embedding layerl.\n",
    "        high: use or not the highway network\n",
    "    # Returns:\n",
    "        Model with the given parameters.\n",
    "    \"\"\"\n",
    "    class NonMasking(Layer):   \n",
    "        def __init__(self, **kwargs):   \n",
    "            self.supports_masking = True  \n",
    "            super(NonMasking, self).__init__(**kwargs)   \n",
    "\n",
    "        def build(self, input_shape):   \n",
    "            input_shape = input_shape   \n",
    "\n",
    "        def compute_mask(self, input, input_mask=None):   \n",
    "            # do not pass the mask to the next layers   \n",
    "            return None   \n",
    "\n",
    "        def call(self, x, mask=None):   \n",
    "            return x   \n",
    "\n",
    "        def get_output_shape_for(self, input_shape):   \n",
    "            return input_shape \n",
    "    # define embedding layer that turns word tokens into vectors\n",
    "    # an activation function is used to bound the values of the embedding\n",
    "    model_input = Input(shape=(maxlen,), dtype='int32')\n",
    "    embed_reg = L1L2(l2=embed_l2) if embed_l2 != 0 else None\n",
    "\n",
    "    if not load_embedding and pre_embedding is None:\n",
    "        embed = Embedding(input_dim=nb_tokens, output_dim=embed_dim, mask_zero=True,input_length=maxlen,embeddings_regularizer=embed_reg,\n",
    "                          name='embedding')\n",
    "    else:\n",
    "        embed = Embedding(input_dim=nb_tokens, output_dim=embed_dim, mask_zero=True,input_length=maxlen, weights=[pre_embedding],\n",
    "                          embeddings_regularizer=embed_reg,trainable=True, name='embedding')\n",
    "    if high:\n",
    "        x = NonMasking()(embed(model_input))\n",
    "    else:\n",
    "        x = embed(model_input)\n",
    "    x = Activation('tanh')(x)\n",
    "\n",
    "    # entire embedding channels are dropped out instead of the\n",
    "    # normal Keras embedding dropout, which drops all channels for entire words\n",
    "    # many of the datasets contain so few words that losing one or more words can alter the emotions completely\n",
    "    if embed_dropout_rate != 0:\n",
    "        embed_drop = SpatialDropout1D(embed_dropout_rate, name='embed_drop')\n",
    "        x = embed_drop(x)\n",
    "\n",
    "    # skip-connection from embedding to output eases gradient-flow and allows access to lower-level features\n",
    "    # ordering of the way the merge is done is important for consistency with the pretrained model\n",
    "    lstm_0_output = Bidirectional(LSTM(LSTM_hidden, return_sequences=True, dropout=LSTM_drop), name=\"bi_lstm_0\" )(x)\n",
    "    lstm_1_output = Bidirectional(LSTM(LSTM_hidden, return_sequences=True, dropout=LSTM_drop), name=\"bi_lstm_1\" )(lstm_0_output)\n",
    "    x = concatenate([lstm_1_output, lstm_0_output, x])\n",
    "    if high:\n",
    "        x = TimeDistributed(Highway(activation='tanh', name=\"high\"))(x)\n",
    "    # if return_attention is True in AttentionWeightedAverage, an additional tensor\n",
    "    # representing the weight at each timestep is returned\n",
    "    weights = None\n",
    "    x = AttentionWeightedAverage(name='attlayer', return_attention=return_attention)(x)\n",
    "    #x = MaskAverage(name='attlayer', return_attention=return_attention)(x)\n",
    "    if return_attention:\n",
    "        x, weights = x\n",
    "\n",
    "    if not feature_output:\n",
    "        # output class probabilities\n",
    "        if final_dropout_rate != 0:\n",
    "            x = Dropout(final_dropout_rate)(x)\n",
    "\n",
    "        if nb_classes > 2:\n",
    "            outputs = [Dense(nb_classes, activation='softmax', name='softmax')(x)]\n",
    "        else:\n",
    "            outputs = [Dense(1, activation='sigmoid', name='softmax')(x)]\n",
    "    else:\n",
    "        # output penultimate feature vector\n",
    "        outputs = [x]\n",
    "\n",
    "    if return_attention:\n",
    "        # add the attention weights to the outputs if required\n",
    "        outputs.append(weights)\n",
    "\n",
    "    return Model(inputs=[model_input], outputs=outputs)"
   ]
  },
  {
   "cell_type": "code",
   "execution_count": 3,
   "metadata": {},
   "outputs": [],
   "source": [
    "os.environ['CUDA_VISIBLE_DEVICES'] = \"1\"\n",
    "cur_lan = \"elsa_es\"\n",
    "maxlen = 30\n",
    "batch_size = 250\n",
    "lr = 0.001\n",
    "epoch_size = 25000\n",
    "nb_epochs = 1000\n",
    "patience = 5\n",
    "checkpoint_weight_path = \"./ckpt\"\n",
    "loss = \"categorical_crossentropy\"\n",
    "optim = \"adam\"\n",
    "vocab_path = \"/data/elsa\"\n",
    "nb_classes=64"
   ]
  },
  {
   "cell_type": "code",
   "execution_count": 4,
   "metadata": {},
   "outputs": [],
   "source": [
    "LSTM_hidden = 512\n",
    "LSTM_drop = 0.5\n",
    "final_dropout_rate = 0.5\n",
    "embed_dropout_rate = 0.0\n",
    "high = False\n",
    "load_embedding = True\n",
    "embed_dim = 200"
   ]
  },
  {
   "cell_type": "code",
   "execution_count": 5,
   "metadata": {},
   "outputs": [],
   "source": [
    "steps = int(epoch_size/batch_size)\n",
    "\n",
    "wv_path = Path(vocab_path).joinpath(\"{:s}_wv.npy\".format(cur_lan)).as_posix()\n",
    "X_path = Path(vocab_path).joinpath(\"{:s}_X.npy\".format(cur_lan)).as_posix()\n",
    "y_path = Path(vocab_path).joinpath(\"{:s}_y.npy\".format(cur_lan)).as_posix()\n",
    "\n",
    "word_vec = np.load(wv_path, allow_pickle=True)\n",
    "input_vec, input_label = np.load(X_path, allow_pickle=True), np.load(y_path, allow_pickle=True)\n",
    "nb_tokens, input_len = len(word_vec), len(input_label)\n",
    "\n",
    "#please modify the checkpoint_weight_path\n",
    "#checkpoint_weight_path = '/storage1/user/ss/tmoji_ori/weight/tmoji-lstm-checkpoint-%s-h-1.hdf5' % cur_lan\n",
    "\n",
    "idx_shuffle = list(range(input_len))\n",
    "np.random.shuffle(idx_shuffle)\n",
    "idx_train, idx_val, idx_test = idx_shuffle[ :int(input_len*0.7) ], idx_shuffle[int(input_len*0.7):int(input_len*0.9)], idx_shuffle[int(input_len*0.9):]\n",
    "\n",
    "(X_train, y_train) = (input_vec[idx_train], input_label[idx_train])\n",
    "(X_val, y_val) = (input_vec[idx_val], input_label[idx_val])\n",
    "(X_test, y_test) = (input_vec[idx_test], input_label[idx_test])"
   ]
  },
  {
   "cell_type": "code",
   "execution_count": 24,
   "metadata": {},
   "outputs": [
    {
     "name": "stdout",
     "output_type": "stream",
     "text": [
      "39295.0\n",
      "27126.0\n",
      "26201.0\n",
      "13569.0\n",
      "17109.0\n",
      "10350.0\n",
      "11106.0\n",
      "7401.0\n",
      "6681.0\n",
      "3546.0\n",
      "7585.0\n",
      "6567.0\n",
      "8581.0\n",
      "7779.0\n",
      "8449.0\n",
      "6747.0\n",
      "9015.0\n",
      "5469.0\n",
      "5369.0\n",
      "8025.0\n",
      "5731.0\n",
      "2105.0\n",
      "4973.0\n",
      "8028.0\n",
      "6007.0\n",
      "6125.0\n",
      "4985.0\n",
      "4671.0\n",
      "5047.0\n",
      "5187.0\n",
      "5017.0\n",
      "6372.0\n",
      "5343.0\n",
      "2831.0\n",
      "4705.0\n",
      "3963.0\n",
      "3633.0\n",
      "4937.0\n",
      "5163.0\n",
      "4205.0\n",
      "2053.0\n",
      "2893.0\n",
      "4043.0\n",
      "5347.0\n",
      "4219.0\n",
      "3767.0\n",
      "3387.0\n",
      "4047.0\n",
      "3445.0\n",
      "3457.0\n",
      "3241.0\n",
      "360.0\n",
      "3603.0\n",
      "3509.0\n",
      "4553.0\n",
      "1855.0\n",
      "2923.0\n",
      "2657.0\n",
      "3205.0\n",
      "3529.0\n",
      "2795.0\n",
      "3777.0\n",
      "2189.0\n",
      "2880.0\n"
     ]
    }
   ],
   "source": [
    "for i in range(64):\n",
    "    print(input_label[:, i].sum())"
   ]
  },
  {
   "cell_type": "code",
   "execution_count": 6,
   "metadata": {},
   "outputs": [
    {
     "name": "stdout",
     "output_type": "stream",
     "text": [
      "WARNING:tensorflow:From /usr/local/lib/python3.6/dist-packages/tensorflow/python/framework/op_def_library.py:263: colocate_with (from tensorflow.python.framework.ops) is deprecated and will be removed in a future version.\n",
      "Instructions for updating:\n",
      "Colocations handled automatically by placer.\n",
      "WARNING:tensorflow:From /usr/local/lib/python3.6/dist-packages/keras/backend/tensorflow_backend.py:3445: calling dropout (from tensorflow.python.ops.nn_ops) with keep_prob is deprecated and will be removed in a future version.\n",
      "Instructions for updating:\n",
      "Please use `rate` instead of `keep_prob`. Rate should be set to `rate = 1 - keep_prob`.\n",
      "__________________________________________________________________________________________________\n",
      "Layer (type)                    Output Shape         Param #     Connected to                     \n",
      "==================================================================================================\n",
      "input_1 (InputLayer)            (None, 30)           0                                            \n",
      "__________________________________________________________________________________________________\n",
      "embedding (Embedding)           (None, 30, 200)      21534400    input_1[0][0]                    \n",
      "__________________________________________________________________________________________________\n",
      "activation_1 (Activation)       (None, 30, 200)      0           embedding[0][0]                  \n",
      "__________________________________________________________________________________________________\n",
      "bi_lstm_0 (Bidirectional)       (None, 30, 1024)     2920448     activation_1[0][0]               \n",
      "__________________________________________________________________________________________________\n",
      "bi_lstm_1 (Bidirectional)       (None, 30, 1024)     6295552     bi_lstm_0[0][0]                  \n",
      "__________________________________________________________________________________________________\n",
      "concatenate_1 (Concatenate)     (None, 30, 2248)     0           bi_lstm_1[0][0]                  \n",
      "                                                                 bi_lstm_0[0][0]                  \n",
      "                                                                 activation_1[0][0]               \n",
      "__________________________________________________________________________________________________\n",
      "attlayer (AttentionWeightedAver (None, 2248)         2248        concatenate_1[0][0]              \n",
      "__________________________________________________________________________________________________\n",
      "dropout_1 (Dropout)             (None, 2248)         0           attlayer[0][0]                   \n",
      "__________________________________________________________________________________________________\n",
      "softmax (Dense)                 (None, 64)           143936      dropout_1[0][0]                  \n",
      "==================================================================================================\n",
      "Total params: 30,896,584\n",
      "Trainable params: 30,896,584\n",
      "Non-trainable params: 0\n",
      "__________________________________________________________________________________________________\n"
     ]
    }
   ],
   "source": [
    "model = elsa_architecture(nb_classes=nb_classes, nb_tokens=nb_tokens, maxlen=maxlen, final_dropout_rate=final_dropout_rate, embed_dropout_rate=embed_dropout_rate, \n",
    "                          load_embedding=True, pre_embedding=word_vec, high=high, embed_dim=embed_dim)\n",
    "model.summary()"
   ]
  },
  {
   "cell_type": "code",
   "execution_count": 7,
   "metadata": {},
   "outputs": [
    {
     "name": "stdout",
     "output_type": "stream",
     "text": [
      "WARNING:tensorflow:From /usr/local/lib/python3.6/dist-packages/tensorflow/python/ops/math_ops.py:3066: to_int32 (from tensorflow.python.ops.math_ops) is deprecated and will be removed in a future version.\n",
      "Instructions for updating:\n",
      "Use tf.cast instead.\n",
      "WARNING:tensorflow:From /usr/local/lib/python3.6/dist-packages/tensorflow/python/ops/math_grad.py:102: div (from tensorflow.python.ops.math_ops) is deprecated and will be removed in a future version.\n",
      "Instructions for updating:\n",
      "Deprecated in favor of operator or tf.math.divide.\n",
      "Train on 288912 samples, validate on 82546 samples\n",
      "Epoch 1/1000\n",
      "288912/288912 [==============================] - 372s 1ms/step - loss: 2.8115 - acc: 0.3023 - val_loss: 2.3728 - val_acc: 0.4014\n",
      "Epoch 2/1000\n",
      "288912/288912 [==============================] - 299s 1ms/step - loss: 2.0686 - acc: 0.4794 - val_loss: 2.0682 - val_acc: 0.4893\n",
      "Epoch 3/1000\n",
      "288912/288912 [==============================] - 291s 1ms/step - loss: 1.5835 - acc: 0.5990 - val_loss: 1.9185 - val_acc: 0.5464\n",
      "Epoch 4/1000\n",
      "288912/288912 [==============================] - 297s 1ms/step - loss: 1.2863 - acc: 0.6676 - val_loss: 1.8713 - val_acc: 0.5795\n",
      "Epoch 5/1000\n",
      "288912/288912 [==============================] - 306s 1ms/step - loss: 1.1113 - acc: 0.7083 - val_loss: 1.8824 - val_acc: 0.6016\n",
      "Epoch 6/1000\n",
      "288912/288912 [==============================] - 312s 1ms/step - loss: 1.0035 - acc: 0.7334 - val_loss: 1.8761 - val_acc: 0.6180\n",
      "Epoch 7/1000\n",
      "288912/288912 [==============================] - 309s 1ms/step - loss: 0.9206 - acc: 0.7536 - val_loss: 1.8966 - val_acc: 0.6301\n",
      "Epoch 8/1000\n",
      "288912/288912 [==============================] - 315s 1ms/step - loss: 0.8602 - acc: 0.7690 - val_loss: 1.9250 - val_acc: 0.6398\n",
      "Epoch 9/1000\n",
      "288912/288912 [==============================] - 325s 1ms/step - loss: 0.8144 - acc: 0.7809 - val_loss: 1.9299 - val_acc: 0.6481\n"
     ]
    },
    {
     "data": {
      "text/plain": [
       "<keras.callbacks.History at 0x7eff38362cc0>"
      ]
     },
     "execution_count": 7,
     "metadata": {},
     "output_type": "execute_result"
    }
   ],
   "source": [
    "if optim == 'adam':\n",
    "    adam = Adam(clipnorm=1, lr=lr)\n",
    "    model.compile(loss=loss, optimizer=adam, metrics=['accuracy'])\n",
    "elif optim == 'rmsprop':\n",
    "    model.compile(loss=loss, optimizer='rmsprop', metrics=['accuracy'])\n",
    "\n",
    "model.fit(X_train,\n",
    "          y_train,\n",
    "          batch_size=batch_size,\n",
    "          epochs=nb_epochs,\n",
    "          validation_data=(X_val, y_val),\n",
    "          callbacks=[keras.callbacks.EarlyStopping(monitor='val_loss', min_delta=0, patience=patience, verbose=0, mode='auto')],\n",
    "          verbose=True)\n",
    "\n",
    "#callbacks = finetuning_callbacks(checkpoint_weight_path, patience, verbose=1)\n",
    "#for i in range(2):\n",
    "    #train_gen = sampling_generator(X_train, y_train, batch_size, upsample=False, epoch_size=epoch_size)\n",
    "    #model.fit_generator(train_gen, steps_per_epoch=steps, epochs=nb_epochs,validation_data=(X_val, y_val),validation_steps=steps, callbacks=callbacks, verbose=True)"
   ]
  },
  {
   "cell_type": "code",
   "execution_count": 8,
   "metadata": {},
   "outputs": [
    {
     "name": "stdout",
     "output_type": "stream",
     "text": [
      "0.6526142373423293\n"
     ]
    }
   ],
   "source": [
    "_, acc = model.evaluate(X_test, y_test, batch_size=batch_size, verbose=0)\n",
    "\n",
    "print(acc)"
   ]
  },
  {
   "cell_type": "code",
   "execution_count": 9,
   "metadata": {},
   "outputs": [],
   "source": [
    "token2index = json.loads(open(\"/data/elsa/elsa_es_vocab.txt\", \"r\").read())\n",
    "\n",
    "freq = {line.split()[0]: int(line.split()[1]) for line in open(\"/data/elsa/elsa_es_emoji.txt\").readlines()}\n",
    "freq_topn = sorted(freq.items(), key=itemgetter(1), reverse=True)[:nb_classes]"
   ]
  },
  {
   "cell_type": "code",
   "execution_count": 10,
   "metadata": {},
   "outputs": [],
   "source": [
    "y_pred = model.predict(X_test)"
   ]
  },
  {
   "cell_type": "code",
   "execution_count": 22,
   "metadata": {},
   "outputs": [
    {
     "name": "stdout",
     "output_type": "stream",
     "text": [
      "              precision    recall  f1-score   support\n",
      "\n",
      "           😂       0.57      0.72      0.64      3940\n",
      "           ❤       0.56      0.65      0.60      2746\n",
      "           😍       0.49      0.65      0.56      2572\n",
      "           🤣       0.61      0.55      0.58      1321\n",
      "           😭       0.57      0.65      0.61      1722\n",
      "           👏       0.73      0.73      0.73      1002\n",
      "           🔥       0.79      0.72      0.75      1106\n",
      "           💜       0.75      0.61      0.67       715\n",
      "           😘       0.51      0.56      0.54       663\n",
      "           ♀       0.85      0.87      0.86       373\n",
      "           👇       0.75      0.77      0.76       739\n",
      "           😈       0.75      0.73      0.74       674\n",
      "           🔴       0.80      0.81      0.81       869\n",
      "           🙏       0.75      0.75      0.75       737\n",
      "           🤦       0.81      0.85      0.83       839\n",
      "           💪       0.73      0.65      0.69       699\n",
      "           🤔       0.62      0.66      0.64       958\n",
      "           💙       0.71      0.62      0.66       514\n",
      "           💕       0.69      0.47      0.56       533\n",
      "           🥺       0.53      0.50      0.52       789\n",
      "           🤤       0.64      0.53      0.58       541\n",
      "           ♂       0.76      0.83      0.80       206\n",
      "           🏆       0.85      0.87      0.86       529\n",
      "           🙄       0.59      0.51      0.55       794\n",
      "           💚       0.84      0.79      0.82       620\n",
      "           👉       0.86      0.85      0.85       577\n",
      "           ✨       0.71      0.63      0.67       476\n",
      "           ♥       0.72      0.45      0.55       465\n",
      "           😱       0.74      0.67      0.70       529\n",
      "           🥰       0.64      0.45      0.53       524\n",
      "           🙌       0.65      0.66      0.66       489\n",
      "           😔       0.60      0.55      0.57       610\n",
      "           😊       0.43      0.51      0.47       527\n",
      "           ⭐       0.75      0.81      0.78       260\n",
      "           🎶       0.73      0.68      0.70       472\n",
      "           ⚽       0.81      0.75      0.78       432\n",
      "           💖       0.62      0.48      0.54       348\n",
      "           😎       0.61      0.57      0.59       516\n",
      "           😉       0.58      0.55      0.56       546\n",
      "           😏       0.72      0.59      0.65       442\n",
      "           💦       0.76      0.76      0.76       218\n",
      "           💛       0.71      0.52      0.60       296\n",
      "           😁       0.60      0.43      0.50       417\n",
      "           🤷       0.82      0.74      0.77       515\n",
      "           😅       0.61      0.45      0.52       432\n",
      "           ⚠       0.89      0.84      0.86       413\n",
      "           🚨       0.75      0.82      0.78       332\n",
      "           💔       0.69      0.52      0.59       396\n",
      "           🤗       0.69      0.47      0.56       359\n",
      "           👍       0.68      0.55      0.61       331\n",
      "           😋       0.56      0.56      0.56       299\n",
      "           🔶       0.86      0.82      0.84        39\n",
      "           ➡       0.73      0.75      0.74       347\n",
      "           🤩       0.67      0.53      0.60       348\n",
      "           📢       0.81      0.75      0.78       475\n",
      "           ⚪       0.82      0.77      0.80       180\n",
      "           😡       0.68      0.56      0.61       314\n",
      "           🎉       0.80      0.78      0.79       246\n",
      "           🤭       0.63      0.48      0.54       317\n",
      "           😢       0.64      0.43      0.51       351\n",
      "           👌       0.72      0.53      0.61       303\n",
      "           👀       0.72      0.61      0.66       420\n",
      "           ✅       0.89      0.85      0.87       233\n",
      "           🤪       0.59      0.56      0.58       279\n",
      "\n",
      "    accuracy                           0.65     41274\n",
      "   macro avg       0.70      0.65      0.67     41274\n",
      "weighted avg       0.66      0.65      0.65     41274\n",
      "\n"
     ]
    }
   ],
   "source": [
    "print(classification_report(y_test.argmax(axis=1), y_pred.argmax(axis=1), target_names=[e[0] for e in freq_topn]))"
   ]
  },
  {
   "cell_type": "code",
   "execution_count": 23,
   "metadata": {},
   "outputs": [
    {
     "data": {
      "text/plain": [
       "(288912, 30)"
      ]
     },
     "execution_count": 23,
     "metadata": {},
     "output_type": "execute_result"
    }
   ],
   "source": [
    "X_train.shape"
   ]
  }
 ],
 "metadata": {
  "kernelspec": {
   "display_name": "Python 3",
   "language": "python",
   "name": "python3"
  },
  "language_info": {
   "codemirror_mode": {
    "name": "ipython",
    "version": 3
   },
   "file_extension": ".py",
   "mimetype": "text/x-python",
   "name": "python",
   "nbconvert_exporter": "python",
   "pygments_lexer": "ipython3",
   "version": "3.6.7"
  }
 },
 "nbformat": 4,
 "nbformat_minor": 2
}
