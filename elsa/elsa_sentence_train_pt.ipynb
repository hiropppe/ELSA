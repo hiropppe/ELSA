{
 "cells": [
  {
   "cell_type": "code",
   "execution_count": 1,
   "metadata": {},
   "outputs": [
    {
     "name": "stderr",
     "output_type": "stream",
     "text": [
      "Using TensorFlow backend.\n"
     ]
    }
   ],
   "source": [
    "import h5py\n",
    "import keras\n",
    "import numpy as np\n",
    "import json\n",
    "import os\n",
    "import uuid\n",
    "import yaml\n",
    "\n",
    "from attlayer import AttentionWeightedAverage\n",
    "#from avglayer import MaskAverage\n",
    "from copy import deepcopy\n",
    "#from finetuning import (sampling_generator, finetuning_callbacks)\n",
    "from operator import itemgetter\n",
    "#from global_variables import NB_TOKENS, NB_EMOJI_CLASSES\n",
    "from keras.layers import *\n",
    "from keras.layers.merge import concatenate\n",
    "from keras.layers import Input, Bidirectional, Embedding, Dense, Dropout, SpatialDropout1D, LSTM, Activation\n",
    "from keras.models import Model, Sequential\n",
    "from keras.optimizers import Adam\n",
    "from keras.regularizers import L1L2 \n",
    "from pathlib import Path\n",
    "from sklearn.metrics import classification_report, recall_score, precision_score, f1_score\n",
    "from os.path import exists"
   ]
  },
  {
   "cell_type": "code",
   "execution_count": 2,
   "metadata": {},
   "outputs": [],
   "source": [
    "def elsa_architecture(nb_classes, nb_tokens, maxlen, feature_output=False, embed_dropout_rate=0, final_dropout_rate=0, embed_dim=300,\n",
    "                    embed_l2=1E-6, return_attention=False, load_embedding=False, pre_embedding=None, high=False, LSTM_hidden=512, LSTM_drop=0.5):\n",
    "    \"\"\"\n",
    "    Returns the DeepMoji architecture uninitialized and\n",
    "    without using the pretrained model weights.\n",
    "    # Arguments:\n",
    "        nb_classes: Number of classes in the dataset.\n",
    "        nb_tokens: Number of tokens in the dataset (i.e. vocabulary size).\n",
    "        maxlen: Maximum length of a token.\n",
    "        feature_output: If True the model returns the penultimate\n",
    "                        feature vector rather than Softmax probabilities\n",
    "                        (defaults to False).\n",
    "        embed_dropout_rate: Dropout rate for the embedding layer.\n",
    "        final_dropout_rate: Dropout rate for the final Softmax layer.\n",
    "        embed_l2: L2 regularization for the embedding layerl.\n",
    "        high: use or not the highway network\n",
    "    # Returns:\n",
    "        Model with the given parameters.\n",
    "    \"\"\"\n",
    "    class NonMasking(Layer):   \n",
    "        def __init__(self, **kwargs):   \n",
    "            self.supports_masking = True  \n",
    "            super(NonMasking, self).__init__(**kwargs)   \n",
    "\n",
    "        def build(self, input_shape):   \n",
    "            input_shape = input_shape   \n",
    "\n",
    "        def compute_mask(self, input, input_mask=None):   \n",
    "            # do not pass the mask to the next layers   \n",
    "            return None   \n",
    "\n",
    "        def call(self, x, mask=None):   \n",
    "            return x   \n",
    "\n",
    "        def get_output_shape_for(self, input_shape):   \n",
    "            return input_shape \n",
    "    # define embedding layer that turns word tokens into vectors\n",
    "    # an activation function is used to bound the values of the embedding\n",
    "    model_input = Input(shape=(maxlen,), dtype='int32')\n",
    "    embed_reg = L1L2(l2=embed_l2) if embed_l2 != 0 else None\n",
    "\n",
    "    if not load_embedding and pre_embedding is None:\n",
    "        embed = Embedding(input_dim=nb_tokens, output_dim=embed_dim, mask_zero=True,input_length=maxlen,embeddings_regularizer=embed_reg,\n",
    "                          name='embedding')\n",
    "    else:\n",
    "        embed = Embedding(input_dim=nb_tokens, output_dim=embed_dim, mask_zero=True,input_length=maxlen, weights=[pre_embedding],\n",
    "                          embeddings_regularizer=embed_reg,trainable=True, name='embedding')\n",
    "    if high:\n",
    "        x = NonMasking()(embed(model_input))\n",
    "    else:\n",
    "        x = embed(model_input)\n",
    "    x = Activation('tanh')(x)\n",
    "\n",
    "    # entire embedding channels are dropped out instead of the\n",
    "    # normal Keras embedding dropout, which drops all channels for entire words\n",
    "    # many of the datasets contain so few words that losing one or more words can alter the emotions completely\n",
    "    if embed_dropout_rate != 0:\n",
    "        embed_drop = SpatialDropout1D(embed_dropout_rate, name='embed_drop')\n",
    "        x = embed_drop(x)\n",
    "\n",
    "    # skip-connection from embedding to output eases gradient-flow and allows access to lower-level features\n",
    "    # ordering of the way the merge is done is important for consistency with the pretrained model\n",
    "    lstm_0_output = Bidirectional(LSTM(LSTM_hidden, return_sequences=True, dropout=LSTM_drop), name=\"bi_lstm_0\" )(x)\n",
    "    lstm_1_output = Bidirectional(LSTM(LSTM_hidden, return_sequences=True, dropout=LSTM_drop), name=\"bi_lstm_1\" )(lstm_0_output)\n",
    "    x = concatenate([lstm_1_output, lstm_0_output, x])\n",
    "    if high:\n",
    "        x = TimeDistributed(Highway(activation='tanh', name=\"high\"))(x)\n",
    "    # if return_attention is True in AttentionWeightedAverage, an additional tensor\n",
    "    # representing the weight at each timestep is returned\n",
    "    weights = None\n",
    "    x = AttentionWeightedAverage(name='attlayer', return_attention=return_attention)(x)\n",
    "    #x = MaskAverage(name='attlayer', return_attention=return_attention)(x)\n",
    "    if return_attention:\n",
    "        x, weights = x\n",
    "\n",
    "    if not feature_output:\n",
    "        # output class probabilities\n",
    "        if final_dropout_rate != 0:\n",
    "            x = Dropout(final_dropout_rate)(x)\n",
    "\n",
    "        if nb_classes > 2:\n",
    "            outputs = [Dense(nb_classes, activation='softmax', name='softmax')(x)]\n",
    "        else:\n",
    "            outputs = [Dense(1, activation='sigmoid', name='softmax')(x)]\n",
    "    else:\n",
    "        # output penultimate feature vector\n",
    "        outputs = [x]\n",
    "\n",
    "    if return_attention:\n",
    "        # add the attention weights to the outputs if required\n",
    "        outputs.append(weights)\n",
    "\n",
    "    return Model(inputs=[model_input], outputs=outputs)"
   ]
  },
  {
   "cell_type": "code",
   "execution_count": 3,
   "metadata": {},
   "outputs": [],
   "source": [
    "os.environ['CUDA_VISIBLE_DEVICES'] = \"2\"\n",
    "cur_lan = \"elsa_pt\"\n",
    "maxlen = 20\n",
    "batch_size = 250\n",
    "lr = 3e-4\n",
    "epoch_size = 25000\n",
    "nb_epochs = 1000\n",
    "patience = 5\n",
    "checkpoint_weight_path = \"./ckpt\"\n",
    "loss = \"categorical_crossentropy\"\n",
    "optim = \"adam\"\n",
    "vocab_path = \"/data/elsa\"\n",
    "nb_classes=64"
   ]
  },
  {
   "cell_type": "code",
   "execution_count": 4,
   "metadata": {},
   "outputs": [],
   "source": [
    "LSTM_hidden = 512\n",
    "LSTM_drop = 0.5\n",
    "final_dropout_rate = 0.5\n",
    "embed_dropout_rate = 0.0\n",
    "high = False\n",
    "load_embedding = True\n",
    "embed_dim = 200"
   ]
  },
  {
   "cell_type": "code",
   "execution_count": 5,
   "metadata": {},
   "outputs": [],
   "source": [
    "steps = int(epoch_size/batch_size)\n",
    "\n",
    "wv_path = Path(vocab_path).joinpath(\"{:s}_wv.npy\".format(cur_lan)).as_posix()\n",
    "X_path = Path(vocab_path).joinpath(\"{:s}_X.npy\".format(cur_lan)).as_posix()\n",
    "y_path = Path(vocab_path).joinpath(\"{:s}_y.npy\".format(cur_lan)).as_posix()\n",
    "\n",
    "word_vec = np.load(wv_path, allow_pickle=True)\n",
    "input_vec, input_label = np.load(X_path, allow_pickle=True), np.load(y_path, allow_pickle=True)\n",
    "nb_tokens, input_len = len(word_vec), len(input_label)\n",
    "\n",
    "train_end = int(input_len*0.7)\n",
    "val_end = int(input_len*0.9)\n",
    "\n",
    "(X_train, y_train) = (input_vec[:train_end], input_label[:train_end])\n",
    "(X_val, y_val) = (input_vec[train_end:val_end], input_label[train_end:val_end])\n",
    "(X_test, y_test) = (input_vec[val_end:], input_label[val_end:])"
   ]
  },
  {
   "cell_type": "code",
   "execution_count": 6,
   "metadata": {},
   "outputs": [
    {
     "data": {
      "text/plain": [
       "(236157, 20)"
      ]
     },
     "execution_count": 6,
     "metadata": {},
     "output_type": "execute_result"
    }
   ],
   "source": [
    "input_vec.shape"
   ]
  },
  {
   "cell_type": "code",
   "execution_count": 7,
   "metadata": {},
   "outputs": [
    {
     "name": "stdout",
     "output_type": "stream",
     "text": [
      "WARNING:tensorflow:From /usr/local/lib/python3.6/dist-packages/tensorflow/python/framework/op_def_library.py:263: colocate_with (from tensorflow.python.framework.ops) is deprecated and will be removed in a future version.\n",
      "Instructions for updating:\n",
      "Colocations handled automatically by placer.\n",
      "WARNING:tensorflow:From /usr/local/lib/python3.6/dist-packages/keras/backend/tensorflow_backend.py:3445: calling dropout (from tensorflow.python.ops.nn_ops) with keep_prob is deprecated and will be removed in a future version.\n",
      "Instructions for updating:\n",
      "Please use `rate` instead of `keep_prob`. Rate should be set to `rate = 1 - keep_prob`.\n",
      "__________________________________________________________________________________________________\n",
      "Layer (type)                    Output Shape         Param #     Connected to                     \n",
      "==================================================================================================\n",
      "input_1 (InputLayer)            (None, 20)           0                                            \n",
      "__________________________________________________________________________________________________\n",
      "embedding (Embedding)           (None, 20, 200)      14168400    input_1[0][0]                    \n",
      "__________________________________________________________________________________________________\n",
      "activation_1 (Activation)       (None, 20, 200)      0           embedding[0][0]                  \n",
      "__________________________________________________________________________________________________\n",
      "bi_lstm_0 (Bidirectional)       (None, 20, 1024)     2920448     activation_1[0][0]               \n",
      "__________________________________________________________________________________________________\n",
      "bi_lstm_1 (Bidirectional)       (None, 20, 1024)     6295552     bi_lstm_0[0][0]                  \n",
      "__________________________________________________________________________________________________\n",
      "concatenate_1 (Concatenate)     (None, 20, 2248)     0           bi_lstm_1[0][0]                  \n",
      "                                                                 bi_lstm_0[0][0]                  \n",
      "                                                                 activation_1[0][0]               \n",
      "__________________________________________________________________________________________________\n",
      "attlayer (AttentionWeightedAver (None, 2248)         2248        concatenate_1[0][0]              \n",
      "__________________________________________________________________________________________________\n",
      "dropout_1 (Dropout)             (None, 2248)         0           attlayer[0][0]                   \n",
      "__________________________________________________________________________________________________\n",
      "softmax (Dense)                 (None, 64)           143936      dropout_1[0][0]                  \n",
      "==================================================================================================\n",
      "Total params: 23,530,584\n",
      "Trainable params: 23,530,584\n",
      "Non-trainable params: 0\n",
      "__________________________________________________________________________________________________\n"
     ]
    }
   ],
   "source": [
    "model = elsa_architecture(nb_classes=nb_classes, nb_tokens=nb_tokens, maxlen=maxlen, final_dropout_rate=final_dropout_rate, embed_dropout_rate=embed_dropout_rate, \n",
    "                          load_embedding=True, pre_embedding=word_vec, high=high, embed_dim=embed_dim)\n",
    "model.summary()"
   ]
  },
  {
   "cell_type": "code",
   "execution_count": 8,
   "metadata": {},
   "outputs": [
    {
     "name": "stdout",
     "output_type": "stream",
     "text": [
      "WARNING:tensorflow:From /usr/local/lib/python3.6/dist-packages/tensorflow/python/ops/math_ops.py:3066: to_int32 (from tensorflow.python.ops.math_ops) is deprecated and will be removed in a future version.\n",
      "Instructions for updating:\n",
      "Use tf.cast instead.\n",
      "WARNING:tensorflow:From /usr/local/lib/python3.6/dist-packages/tensorflow/python/ops/math_grad.py:102: div (from tensorflow.python.ops.math_ops) is deprecated and will be removed in a future version.\n",
      "Instructions for updating:\n",
      "Deprecated in favor of operator or tf.math.divide.\n",
      "Train on 165309 samples, validate on 47232 samples\n",
      "Epoch 1/1000\n",
      "165309/165309 [==============================] - 154s 932us/step - loss: 3.0842 - acc: 0.2431 - val_loss: 2.6527 - val_acc: 0.3230\n",
      "Epoch 2/1000\n",
      "165309/165309 [==============================] - 136s 822us/step - loss: 2.5657 - acc: 0.3475 - val_loss: 2.4475 - val_acc: 0.3737\n",
      "Epoch 3/1000\n",
      "165309/165309 [==============================] - 135s 815us/step - loss: 2.3612 - acc: 0.3938 - val_loss: 2.3536 - val_acc: 0.4006\n",
      "Epoch 4/1000\n",
      "165309/165309 [==============================] - 136s 822us/step - loss: 2.2149 - acc: 0.4283 - val_loss: 2.2977 - val_acc: 0.4182\n",
      "Epoch 5/1000\n",
      "165309/165309 [==============================] - 132s 796us/step - loss: 2.0970 - acc: 0.4590 - val_loss: 2.2757 - val_acc: 0.4263\n",
      "Epoch 6/1000\n",
      "165309/165309 [==============================] - 134s 812us/step - loss: 1.9884 - acc: 0.4846 - val_loss: 2.2750 - val_acc: 0.4301\n",
      "Epoch 7/1000\n",
      "165309/165309 [==============================] - 135s 817us/step - loss: 1.8876 - acc: 0.5069 - val_loss: 2.2865 - val_acc: 0.4350\n",
      "Epoch 8/1000\n",
      "165309/165309 [==============================] - 134s 811us/step - loss: 1.7921 - acc: 0.5322 - val_loss: 2.3092 - val_acc: 0.4357\n",
      "Epoch 9/1000\n",
      "165309/165309 [==============================] - 140s 848us/step - loss: 1.7023 - acc: 0.5538 - val_loss: 2.3461 - val_acc: 0.4354\n",
      "Epoch 10/1000\n",
      "165309/165309 [==============================] - 142s 862us/step - loss: 1.6201 - acc: 0.5742 - val_loss: 2.3867 - val_acc: 0.4372\n",
      "Epoch 11/1000\n",
      "165309/165309 [==============================] - 135s 815us/step - loss: 1.5446 - acc: 0.5932 - val_loss: 2.4570 - val_acc: 0.4364\n"
     ]
    },
    {
     "data": {
      "text/plain": [
       "<keras.callbacks.History at 0x7f202856cac8>"
      ]
     },
     "execution_count": 8,
     "metadata": {},
     "output_type": "execute_result"
    }
   ],
   "source": [
    "if optim == 'adam':\n",
    "    adam = Adam(clipnorm=1, lr=lr)\n",
    "    model.compile(loss=loss, optimizer=adam, metrics=['accuracy'])\n",
    "elif optim == 'rmsprop':\n",
    "    model.compile(loss=loss, optimizer='rmsprop', metrics=['accuracy'])\n",
    "\n",
    "model.fit(X_train,\n",
    "          y_train,\n",
    "          batch_size=batch_size,\n",
    "          epochs=nb_epochs,\n",
    "          validation_data=(X_val, y_val),\n",
    "          callbacks=[keras.callbacks.EarlyStopping(monitor='val_loss', min_delta=0, patience=patience, verbose=0, mode='auto')],\n",
    "          verbose=True)"
   ]
  },
  {
   "cell_type": "code",
   "execution_count": 9,
   "metadata": {},
   "outputs": [
    {
     "name": "stdout",
     "output_type": "stream",
     "text": [
      "0.43381605716043614\n"
     ]
    }
   ],
   "source": [
    "_, acc = model.evaluate(X_test, y_test, batch_size=batch_size, verbose=0)\n",
    "\n",
    "print(acc)"
   ]
  },
  {
   "cell_type": "code",
   "execution_count": 10,
   "metadata": {},
   "outputs": [],
   "source": [
    "token2index = json.loads(open(\"/data/elsa/elsa_pt_vocab.txt\", \"r\").read())\n",
    "\n",
    "freq = {line.split()[0]: int(line.split()[1]) for line in open(\"/data/elsa/elsa_pt_emoji.txt\").readlines()}\n",
    "freq_topn = sorted(freq.items(), key=itemgetter(1), reverse=True)[:nb_classes]"
   ]
  },
  {
   "cell_type": "code",
   "execution_count": 12,
   "metadata": {},
   "outputs": [
    {
     "name": "stdout",
     "output_type": "stream",
     "text": [
      "              precision    recall  f1-score   support\n",
      "\n",
      "           ❤       0.36      0.60      0.45      2777\n",
      "           😂       0.36      0.52      0.42      1967\n",
      "           😍       0.32      0.39      0.35      1791\n",
      "           💜       0.76      0.74      0.75      1023\n",
      "           😭       0.41      0.34      0.37       948\n",
      "           🤣       0.35      0.27      0.31       624\n",
      "           🙏       0.46      0.58      0.51       818\n",
      "           💕       0.38      0.14      0.21       312\n",
      "           👏       0.51      0.51      0.51       379\n",
      "           💙       0.65      0.49      0.56       347\n",
      "           🥰       0.38      0.18      0.25       580\n",
      "           ♀       0.73      0.73      0.73       127\n",
      "           🤦       0.66      0.69      0.67       698\n",
      "           💛       0.56      0.35      0.43       177\n",
      "           💚       0.60      0.50      0.55       211\n",
      "           🥺       0.78      0.70      0.74       746\n",
      "           😔       0.28      0.30      0.29       562\n",
      "           🔥       0.52      0.47      0.50       437\n",
      "           💖       0.46      0.13      0.20       279\n",
      "           🎶       0.40      0.54      0.46       532\n",
      "           💗       0.37      0.09      0.14       116\n",
      "           ♂       0.58      0.69      0.63        86\n",
      "           👍       0.44      0.43      0.44       421\n",
      "           🙌       0.42      0.23      0.30       361\n",
      "           🤔       0.38      0.48      0.43       435\n",
      "           🤪       0.38      0.28      0.32       378\n",
      "           ♥       0.47      0.13      0.20       326\n",
      "           🤤       0.38      0.35      0.36       333\n",
      "           🙄       0.20      0.16      0.18       358\n",
      "           😅       0.39      0.22      0.28       329\n",
      "           🤷       0.58      0.46      0.51       297\n",
      "           😋       0.34      0.23      0.27       269\n",
      "           😘       0.62      0.32      0.42       231\n",
      "           💔       0.35      0.23      0.28       279\n",
      "           ✨       0.61      0.50      0.55       234\n",
      "           😈       0.50      0.49      0.49       220\n",
      "           🤩       0.27      0.11      0.15       228\n",
      "           🌕       1.00      1.00      1.00        68\n",
      "           🌒       0.00      0.00      0.00         2\n",
      "           🌗       1.00      0.50      0.67         2\n",
      "           🌖       1.00      1.00      1.00         1\n",
      "           😎       0.42      0.28      0.33       247\n",
      "           😡       0.33      0.31      0.32       213\n",
      "           🤧       0.33      0.14      0.19       197\n",
      "           💓       1.00      0.04      0.07        56\n",
      "           🌘       0.00      0.00      0.00         1\n",
      "           🌑       1.00      0.60      0.75         5\n",
      "           😱       0.55      0.44      0.49       162\n",
      "           🌓       1.00      0.33      0.50         3\n",
      "           🌔       1.00      1.00      1.00         1\n",
      "           💦       0.72      0.70      0.71        73\n",
      "           😉       0.41      0.34      0.37       255\n",
      "           ⚠       0.80      0.77      0.79       159\n",
      "           😪       0.39      0.14      0.20       212\n",
      "           🔴       0.88      0.80      0.84       182\n",
      "           😏       0.41      0.14      0.21       207\n",
      "           😴       0.27      0.30      0.29       228\n",
      "           💪       0.44      0.34      0.38       169\n",
      "           😢       0.38      0.19      0.25       190\n",
      "           😩       0.25      0.13      0.17       178\n",
      "           💞       0.65      0.28      0.40       113\n",
      "           ✌       0.42      0.26      0.32       168\n",
      "           🤭       0.60      0.23      0.33       157\n",
      "           ⚽       0.60      0.47      0.52       131\n",
      "\n",
      "    accuracy                           0.43     23616\n",
      "   macro avg       0.52      0.40      0.43     23616\n",
      "weighted avg       0.45      0.43      0.42     23616\n",
      "\n"
     ]
    },
    {
     "name": "stderr",
     "output_type": "stream",
     "text": [
      "/usr/local/lib/python3.6/dist-packages/sklearn/metrics/classification.py:1437: UndefinedMetricWarning: Precision and F-score are ill-defined and being set to 0.0 in labels with no predicted samples.\n",
      "  'precision', 'predicted', average, warn_for)\n"
     ]
    }
   ],
   "source": [
    "y_pred = model.predict(X_test)\n",
    "print(classification_report(y_test.argmax(axis=1), y_pred.argmax(axis=1), target_names=[e[0] for e in freq_topn]))"
   ]
  }
 ],
 "metadata": {
  "kernelspec": {
   "display_name": "Python 3",
   "language": "python",
   "name": "python3"
  },
  "language_info": {
   "codemirror_mode": {
    "name": "ipython",
    "version": 3
   },
   "file_extension": ".py",
   "mimetype": "text/x-python",
   "name": "python",
   "nbconvert_exporter": "python",
   "pygments_lexer": "ipython3",
   "version": "3.6.7"
  }
 },
 "nbformat": 4,
 "nbformat_minor": 2
}
