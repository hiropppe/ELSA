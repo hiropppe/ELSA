{
 "cells": [
  {
   "cell_type": "code",
   "execution_count": 21,
   "metadata": {},
   "outputs": [
    {
     "name": "stdout",
     "output_type": "stream",
     "text": [
      "Use device: gpu\n",
      "---\n",
      "Loading: tokenize\n",
      "With settings: \n",
      "{'model_path': '/data/stanfordnlp_resources/fr_gsd_models/fr_gsd_tokenizer.pt', 'lang': 'fr', 'shorthand': 'fr_gsd', 'mode': 'predict'}\n",
      "---\n",
      "Loading: mwt\n",
      "With settings: \n",
      "{'model_path': '/data/stanfordnlp_resources/fr_gsd_models/fr_gsd_mwt_expander.pt', 'lang': 'fr', 'shorthand': 'fr_gsd', 'mode': 'predict'}\n",
      "Building an attentional Seq2Seq model...\n",
      "Using a Bi-LSTM encoder\n",
      "Using soft attention for LSTM.\n",
      "Finetune all embeddings.\n",
      "Done loading processors!\n",
      "---\n",
      "token: café     \t\twords: [<Word index=1;text=café>]\n",
      "token: au       \t\twords: [<Word index=2;text=à>, <Word index=3;text=le>]\n",
      "token: lait     \t\twords: [<Word index=4;text=lait>]\n",
      "\n",
      "word: café     \t\ttoken parent:1-café\n",
      "word: à        \t\ttoken parent:2-3-au\n",
      "word: le       \t\ttoken parent:2-3-au\n",
      "word: lait     \t\ttoken parent:4-lait\n"
     ]
    }
   ],
   "source": [
    "import stanfordnlp\n",
    "\n",
    "stanfordnlp_resource_dir = '/data/stanfordnlp_resources/'\n",
    "nlp = stanfordnlp.Pipeline(processors='tokenize,mwt', models_dir=stanfordnlp_resource_dir, lang='fr')\n",
    "\n",
    "doc = nlp(\"café au lait\")\n",
    "print(*[f'token: {token.text.ljust(9)}\\t\\twords: {token.words}' for sent in doc.sentences for token in sent.tokens], sep='\\n')\n",
    "print('')\n",
    "print(*[f'word: {word.text.ljust(9)}\\t\\ttoken parent:{word.parent_token.index+\"-\"+word.parent_token.text}' for sent in doc.sentences for word in sent.words], sep='\\n')"
   ]
  }
 ],
 "metadata": {
  "kernelspec": {
   "display_name": "Python 3",
   "language": "python",
   "name": "python3"
  },
  "language_info": {
   "codemirror_mode": {
    "name": "ipython",
    "version": 3
   },
   "file_extension": ".py",
   "mimetype": "text/x-python",
   "name": "python",
   "nbconvert_exporter": "python",
   "pygments_lexer": "ipython3",
   "version": "3.6.7"
  }
 },
 "nbformat": 4,
 "nbformat_minor": 2
}
